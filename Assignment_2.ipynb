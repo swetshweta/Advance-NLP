{
  "cells": [
    {
      "cell_type": "code",
      "execution_count": null,
      "metadata": {
        "colab": {
          "base_uri": "https://localhost:8080/"
        },
        "id": "0lNCQqwfSe7l",
        "outputId": "895471f6-63b6-4101-8707-c148c701c10d"
      },
      "outputs": [
        {
          "output_type": "stream",
          "name": "stdout",
          "text": [
            "Requirement already satisfied: sumy in /usr/local/lib/python3.10/dist-packages (0.11.0)\n",
            "Requirement already satisfied: transformers in /usr/local/lib/python3.10/dist-packages (4.41.0)\n",
            "Requirement already satisfied: docopt<0.7,>=0.6.1 in /usr/local/lib/python3.10/dist-packages (from sumy) (0.6.2)\n",
            "Requirement already satisfied: breadability>=0.1.20 in /usr/local/lib/python3.10/dist-packages (from sumy) (0.1.20)\n",
            "Requirement already satisfied: requests>=2.7.0 in /usr/local/lib/python3.10/dist-packages (from sumy) (2.31.0)\n",
            "Requirement already satisfied: pycountry>=18.2.23 in /usr/local/lib/python3.10/dist-packages (from sumy) (23.12.11)\n",
            "Requirement already satisfied: nltk>=3.0.2 in /usr/local/lib/python3.10/dist-packages (from sumy) (3.8.1)\n",
            "Requirement already satisfied: filelock in /usr/local/lib/python3.10/dist-packages (from transformers) (3.14.0)\n",
            "Requirement already satisfied: huggingface-hub<1.0,>=0.23.0 in /usr/local/lib/python3.10/dist-packages (from transformers) (0.23.1)\n",
            "Requirement already satisfied: numpy>=1.17 in /usr/local/lib/python3.10/dist-packages (from transformers) (1.25.2)\n",
            "Requirement already satisfied: packaging>=20.0 in /usr/local/lib/python3.10/dist-packages (from transformers) (24.0)\n",
            "Requirement already satisfied: pyyaml>=5.1 in /usr/local/lib/python3.10/dist-packages (from transformers) (6.0.1)\n",
            "Requirement already satisfied: regex!=2019.12.17 in /usr/local/lib/python3.10/dist-packages (from transformers) (2023.12.25)\n",
            "Requirement already satisfied: tokenizers<0.20,>=0.19 in /usr/local/lib/python3.10/dist-packages (from transformers) (0.19.1)\n",
            "Requirement already satisfied: safetensors>=0.4.1 in /usr/local/lib/python3.10/dist-packages (from transformers) (0.4.3)\n",
            "Requirement already satisfied: tqdm>=4.27 in /usr/local/lib/python3.10/dist-packages (from transformers) (4.66.4)\n",
            "Requirement already satisfied: chardet in /usr/local/lib/python3.10/dist-packages (from breadability>=0.1.20->sumy) (5.2.0)\n",
            "Requirement already satisfied: lxml>=2.0 in /usr/local/lib/python3.10/dist-packages (from breadability>=0.1.20->sumy) (4.9.4)\n",
            "Requirement already satisfied: fsspec>=2023.5.0 in /usr/local/lib/python3.10/dist-packages (from huggingface-hub<1.0,>=0.23.0->transformers) (2023.6.0)\n",
            "Requirement already satisfied: typing-extensions>=3.7.4.3 in /usr/local/lib/python3.10/dist-packages (from huggingface-hub<1.0,>=0.23.0->transformers) (4.11.0)\n",
            "Requirement already satisfied: click in /usr/local/lib/python3.10/dist-packages (from nltk>=3.0.2->sumy) (8.1.7)\n",
            "Requirement already satisfied: joblib in /usr/local/lib/python3.10/dist-packages (from nltk>=3.0.2->sumy) (1.4.2)\n",
            "Requirement already satisfied: charset-normalizer<4,>=2 in /usr/local/lib/python3.10/dist-packages (from requests>=2.7.0->sumy) (3.3.2)\n",
            "Requirement already satisfied: idna<4,>=2.5 in /usr/local/lib/python3.10/dist-packages (from requests>=2.7.0->sumy) (3.7)\n",
            "Requirement already satisfied: urllib3<3,>=1.21.1 in /usr/local/lib/python3.10/dist-packages (from requests>=2.7.0->sumy) (2.0.7)\n",
            "Requirement already satisfied: certifi>=2017.4.17 in /usr/local/lib/python3.10/dist-packages (from requests>=2.7.0->sumy) (2024.2.2)\n"
          ]
        }
      ],
      "source": [
        "pip install sumy transformers"
      ]
    },
    {
      "cell_type": "code",
      "execution_count": null,
      "metadata": {
        "colab": {
          "base_uri": "https://localhost:8080/"
        },
        "id": "tz4jDBlrF6Io",
        "outputId": "1760254b-1d04-4355-cc4c-1895979287fc"
      },
      "outputs": [
        {
          "output_type": "stream",
          "name": "stderr",
          "text": [
            "[nltk_data] Downloading package punkt to /root/nltk_data...\n",
            "[nltk_data]   Package punkt is already up-to-date!\n",
            "[nltk_data] Downloading package wordnet to /root/nltk_data...\n",
            "[nltk_data]   Package wordnet is already up-to-date!\n"
          ]
        }
      ],
      "source": [
        "#importing nltk dependencies\n",
        "import nltk\n",
        "nltk.download(\"punkt\")\n",
        "nltk.download('wordnet')\n",
        "from nltk.tokenize import sent_tokenize\n",
        "from nltk.tokenize import word_tokenize"
      ]
    },
    {
      "cell_type": "code",
      "execution_count": null,
      "metadata": {
        "id": "pFzuI-HRFfQ0"
      },
      "outputs": [],
      "source": [
        "#importing the dependencies\n",
        "from urllib.request import urlopen\n",
        "from bs4 import BeautifulSoup\n",
        "from sumy.summarizers.text_rank import TextRankSummarizer\n",
        "from sumy.parsers.plaintext import PlaintextParser\n",
        "from sumy.nlp.tokenizers import Tokenizer\n"
      ]
    },
    {
      "cell_type": "markdown",
      "metadata": {
        "id": "OwXxFW90M9t0"
      },
      "source": [
        "#1. summarize the text using summarizer\n"
      ]
    },
    {
      "cell_type": "code",
      "execution_count": null,
      "metadata": {
        "id": "t3ueiqqnFLMj"
      },
      "outputs": [],
      "source": [
        "#download the data from the link using webscrapping\n",
        "url = \"https://en.wikipedia.org/wiki/Sri_Lanka\"\n",
        "page = urlopen(url)\n",
        "text = page.read().decode(\"utf-8\")\n",
        "soup = BeautifulSoup(text, \"html.parser\")\n",
        "txt = soup.get_text()"
      ]
    },
    {
      "cell_type": "code",
      "execution_count": null,
      "metadata": {
        "id": "e41scI2WTZJO"
      },
      "outputs": [],
      "source": [
        "#parsing the text\n",
        "my_parser = PlaintextParser.from_string(txt, Tokenizer('english'))"
      ]
    },
    {
      "cell_type": "code",
      "execution_count": null,
      "metadata": {
        "colab": {
          "base_uri": "https://localhost:8080/"
        },
        "id": "staBL5Z-MEjL",
        "outputId": "7ae392f9-9872-4e60-d424-6330902720d0"
      },
      "outputs": [
        {
          "output_type": "execute_result",
          "data": {
            "text/plain": [
              "(<Sentence: Economy Main article: Economy of Sri Lanka See also: Agriculture in Sri Lanka, Tea production in Sri Lanka, Tourism in Sri Lanka, and Transport in Sri Lanka Development of real GDP per capita, 1820 to 2018 According to the International Monetary Fund, Sri Lanka's GDP in terms of purchasing power parity is the second highest in the South Asian region in terms of per capita income.>,\n",
              " <Sentence: Visual, literary and performing arts Main articles: Cinema of Sri Lanka, Music of Sri Lanka, Dances of Sri Lanka, Theatre of Sri Lanka, and Sri Lankan literature Female dancers in traditional Kandyan dress The Nelum Pokuna Mahinda Rajapaksa Theatre was constructed as a major venue for the performing arts The movie Kadawunu Poronduwa (The Broken Promise), produced by S. M. Nayagam of Chitra Kala Movietone, heralded the coming of Sri Lankan cinema in 1947.>,\n",
              " <Sentence: Retrieved from \"https://en.wikipedia.org/w/index.php?title=Sri_Lanka&oldid=1225410621\" Categories: Sri LankaRepublics in the Commonwealth of NationsCountries in AsiaG15 nationsIsland countries of the Indian OceanIsland countriesMember states of the Commonwealth of NationsMember states of the South Asian Association for Regional CooperationMember states of the United NationsSocialist statesSouth Asian countriesStates and territories established in 1972Countries and territories where Tamil is an official languageBuddhist statesHidden categories: Pages using the Phonos extensionPages including recorded pronunciationsArticles containing Sinhala-language textPages with Sinhala IPAArticles containing Tamil-language textInstances of Lang-ta using second unnamed parameterPages with Tamil IPAWebarchive template wayback linksCS1 maint: unfit URLCS1 maint: multiple names: authors listCS1 maint: othersAll articles with dead external linksArticles with dead external links from July 2017Articles with permanently dead external linksCS1 maint: location missing publisherArticles with dead external links from July 2022Articles with short descriptionShort description is different from WikidataWikipedia pages semi-protected against vandalismUse Sri Lankan English from June 2022Use dmy dates from April 2022Articles containing explicitly cited English-language textPages using infobox country or infobox former country with the symbol caption or type parametersArticles containing Ancient Greek (to 1453)-language textAll articles with unsourced statementsArticles with unsourced statements from April 2023Pages using multiple image with auto scaled imagesArticles to be expanded from July 2022All articles to be expandedArticles using small message boxesArticles containing potentially dated statements from 2020All articles containing potentially dated statementsArticles with unsourced statements from February 2024Pages using Sister project links with hidden wikidataPages using Sister project links with default searchArticles with Curlie linksArticles with FAST identifiersArticles with ISNI identifiersArticles with VIAF identifiersArticles with WorldCat Entities identifiersArticles with BNE identifiersArticles with BNF identifiersArticles with BNFdata identifiersArticles with CANTICN identifiersArticles with GND identifiersArticles with J9U identifiersArticles with LCCN identifiersArticles with NDL identifiersArticles with NKC identifiersArticles with PLWABN identifiersArticles with MusicBrainz area identifiersArticles with UKPARL identifiersArticles with HDS identifiersArticles with NARA identifiersArticles with SUDOC identifiersArticles with TDVİA identifiersCoordinates on Wikidata>)"
            ]
          },
          "metadata": {},
          "execution_count": 79
        }
      ],
      "source": [
        "#summarizing the text using Text Rank summarizer\n",
        "sents = sent_tokenize(txt)\n",
        "tex_rank_summarizer = TextRankSummarizer()\n",
        "summary1 = tex_rank_summarizer(my_parser.document, sentences_count= 3)\n",
        "summary1"
      ]
    },
    {
      "cell_type": "code",
      "execution_count": null,
      "metadata": {
        "id": "__tAldBWNp7N"
      },
      "outputs": [],
      "source": [
        "#importing LexRankSummarizer\n",
        "from sumy.summarizers.lex_rank import LexRankSummarizer"
      ]
    },
    {
      "cell_type": "code",
      "execution_count": null,
      "metadata": {
        "colab": {
          "base_uri": "https://localhost:8080/"
        },
        "id": "Ta36dfMLN31D",
        "outputId": "81302c87-90c6-47e2-b536-2214bf141a6b"
      },
      "outputs": [
        {
          "output_type": "execute_result",
          "data": {
            "text/plain": [
              "(<Sentence: Sri Lanka>, <Sentence: [397] and 2022.>, <Sentence: Sri Lanka.>)"
            ]
          },
          "metadata": {},
          "execution_count": 81
        }
      ],
      "source": [
        "#summarizing the text using Lex Rank summarizer\n",
        "lex_rank_summarizer = LexRankSummarizer()\n",
        "summary2 = lex_rank_summarizer(my_parser.document, sentences_count = 3)\n",
        "summary2"
      ]
    },
    {
      "cell_type": "code",
      "execution_count": null,
      "metadata": {
        "id": "VMPe9slIT9T8"
      },
      "outputs": [],
      "source": [
        "#importing the LSA summarizer\n",
        "from sumy.summarizers.lsa import LsaSummarizer"
      ]
    },
    {
      "cell_type": "code",
      "execution_count": null,
      "metadata": {
        "colab": {
          "base_uri": "https://localhost:8080/"
        },
        "id": "t51qCRSBa6sf",
        "outputId": "e1533353-a54a-4c42-de57-bbbd53eac56d"
      },
      "outputs": [
        {
          "output_type": "execute_result",
          "data": {
            "text/plain": [
              "(<Sentence: vteSri Lanka topicsOverviews Sri Lankans Outline Bibliography Timeline Years 2024 HistoryPeriods Prehistory Pre Anuradhapura period Anuradhapura period Polonnaruwa period Transitional period Kandyan period British Ceylon period Sri Lanka (1948–present) Epochs Mahāvaṃsa Vijaya Tambapanni Anuradhapura Chola conquest of Anuradhapura Polonnaruwa Jaffna Dambadeniya Gampola Kotte Crisis of the Sixteenth Century Sitawaka Kandy Portuguese Ceylon Dutch Ceylon British Ceylon Kandyan Wars Uva Rebellion Matale rebellion Independence movement Dominion of Ceylon Civil War Topics Chronicles Monarchs Demographic Economic Education Military Sexual Minorities GovernmentLaw Constitution Constitutional Council Executive President Executive Office Cabinet / Ministries Administrative Service National Security Council Law enforcement Judiciary Supreme Court Court of appeal High Courts District courts Magistrate's Courts Primary Courts Labour Tribunal Legislature Parliament Prime Minister Office Speaker Deputy speaker and chairman of committees Deputy Chairman of Committees Leader of the House Leader of the Opposition Chief Government Whip Chief Opposition Whip Secretaries-General 15th Parliament Members National security Armed Forces Air Force Army Navy Coast Guard Intelligence State Intelligence Service Directorate of Military Intelligence Criminal Investigation Department Sri Lanka Police Service Devolution Provincial governments Local governments Municipal councils Urban councils Pradeshiya Sabha Wards Politics Capital city Electoral districts Elections Foreign relations Parties Sri Lanka Freedom Party United National Party Scandals Geography Administrative divisions Provinces Districts Divisional Secretariats Grama Niladhari divisions Cities Towns Ecoregions Environment Extreme points Islands Mountains Pidurutalagala Central Highlands Hanthana Mountain Range Knuckles Mountain Range National parks Protected areas Rivers Mahaweli Malvathu Kelani Kalu Gin Waterfalls Wildlife Economy Agriculture Banking Central Bank Communications Companies Energy Information technology Public debt Rupee Science and technology Stock Exchange Taxation Trade Transport Unemployment Welfare Industries Apparel Beer Cinnamon Cocoa Coconut Coffee Gems Graphite Rice Rubber Sugar Tea Tourism SocietyTopics Birth Demographics Women Sexual Minorities Education Health Languages Sinhala Tamil Media Mass media Public holidays Religion Social class World Heritage Sites Culture Architecture Art Cinema Cuisine Dance Fashion Flag Folklore Literature Music National symbols Philosophy Radio Sport Traditional games Angampora Cheena di Television Theatre Issues Capital punishment Crime Disability Gender inequality Human rights Immigration International rankings LGBT history LGBT rights Poverty Terrorism>,\n",
              " <Sentence: vteNations in the Group of 15 (G-15)Summits 1990 1991 1992 1994 1995 1996 1997 1998 1999 2000 2001 2004 2006 2010 2012 Members Algeria Argentina Brazil Chile Egypt India Indonesia Iran Jamaica Kenya Malaysia Mexico Nigeria Senegal Sri Lanka Venezuela Zimbabwe>,\n",
              " <Sentence: WorldCat National Spain France BnF data Catalonia Germany Israel United States Japan Czech Republic Poland Geographic MusicBrainz area People UK Parliament Other Historical Dictionary of Switzerland>)"
            ]
          },
          "metadata": {},
          "execution_count": 83
        }
      ],
      "source": [
        "lsasummarizer = LsaSummarizer()\n",
        "summary3 = lsasummarizer(my_parser.document, sentences_count = 3)\n",
        "summary3"
      ]
    },
    {
      "cell_type": "code",
      "execution_count": null,
      "metadata": {
        "colab": {
          "base_uri": "https://localhost:8080/"
        },
        "id": "_Whhuu7_bIST",
        "outputId": "ea7161c2-3cc1-4922-bda2-700cfcaba71e"
      },
      "outputs": [
        {
          "output_type": "execute_result",
          "data": {
            "text/plain": [
              "3"
            ]
          },
          "metadata": {},
          "execution_count": 84
        }
      ],
      "source": [
        "len(summary1)"
      ]
    },
    {
      "cell_type": "markdown",
      "metadata": {
        "id": "nN1qGMJ3b1KG"
      },
      "source": [
        "#2.Apply the abstractive summarization"
      ]
    },
    {
      "cell_type": "code",
      "execution_count": null,
      "metadata": {
        "id": "Fs_g9xkXb54n"
      },
      "outputs": [],
      "source": [
        "from transformers import pipeline"
      ]
    },
    {
      "cell_type": "code",
      "execution_count": null,
      "metadata": {
        "id": "3hQIBKtG9ZvN"
      },
      "outputs": [],
      "source": [
        "#install the summarizer\n",
        "summarizer = pipeline(\"summarization\", model=\"sshleifer/distilbart-cnn-12-6\")"
      ]
    },
    {
      "cell_type": "code",
      "execution_count": null,
      "metadata": {
        "id": "ZzJzBZdiAIY6"
      },
      "outputs": [],
      "source": [
        "#download the url using webscrapping and deviding the content into 18 equal length\n",
        "url = \"https://en.wikipedia.org/wiki/Sachin_Tendulkar\"\n",
        "\n",
        "# getting the page content\n",
        "page_new = urlopen(url)\n",
        "text = page_new.read().decode(\"utf-8\")\n",
        "\n",
        "# Parsing the HTML content using Beautiful Soup\n",
        "soup = BeautifulSoup(text, \"html.parser\")\n",
        "\n",
        "# Finding all paragraph tags directly from the parsed HTML\n",
        "paragraphs = soup.find_all('p')\n",
        "\n",
        "#combining the text of all parts and dividing it into 18 roughly equal length paragraphs\n",
        "full_text = \" \".join([para.get_text() for para in paragraphs])\n",
        "\n",
        "# Calculate the length of each part\n",
        "total_length = len(full_text)\n",
        "part_length = total_length // 18\n"
      ]
    },
    {
      "cell_type": "code",
      "source": [
        "summaries = []\n",
        "# Summarizing each part\n",
        "for i in range(18):\n",
        "    start_index = i * part_length\n",
        "    end_index = start_index + part_length if i < 17 else total_length  # Ensuring the last part gets the remainder\n",
        "    text_part = full_text[start_index:end_index]\n",
        "\n",
        "    # Summarizing the text part\n",
        "    partial_summary = summarizer(text_part, max_length=100, min_length=50, do_sample=False)[0]['summary_text']\n",
        "    summaries.append(partial_summary) #appending each summary in paragraph to make the final summary\n",
        "\n",
        "#printing final summary\n",
        "print(summaries)"
      ],
      "metadata": {
        "colab": {
          "base_uri": "https://localhost:8080/"
        },
        "id": "mL3CpbGX92U7",
        "outputId": "ff8a7e3d-207d-4981-9e7b-906bc96ffd73"
      },
      "execution_count": null,
      "outputs": [
        {
          "output_type": "stream",
          "name": "stdout",
          "text": [
            "[\" Sachin Ramesh Tendulkar is an Indian cricketer who captained the Indian national team . He is widely regarded as one of the greatest batsmen in the history of cricket . Hailed as the world's most prolific batsman of all time, he is the all-time highest run-scorer in both ODI and Test cricket with more than 18,000 runs and 15,000 Test runs . He also holds the record for receiving the most player of the\", ' Tendulkar spent his formative years in the Sahitya Sahawas Cooperative Housing Society in Bandra (East) As a child, he was interested in both tennis and cricket . He idolised American tennis player John McEnroe, and emulated his hero by growing his hair long at the age of 7 or 8 years . As a young boy, he considered a bully, and he often picked fights with new children in his school . To help curb his bullying tendencies,', ' Tendulkar was selected to represent Bombay in the 1987–88 season, but he was not selected for the final eleven in any of the matches, though he was often used as a substitute fielder . A year later, aged 15 years and 232 days, he made his debut for Bombay against Gujarat at Wankhede Stadium and scored 100 not out in that match, making him the youngest Indian to score a century on debut in first-class cricket . He is the only player to', ' Tendulkar became the second-youngest cricketer to score a Test century in England in 1990 . He was dismissed without scoring in one of the two ODI games he played, and scored 36 in the other in New Zealand . He scored his first ODI century on 9 September 1994 against Australia in Sri Lanka at Colombo . He is the leading run scorer at the 1996 Cricket World Cup, scoring two centuries .', ' Tendulkar became captain of India in 1996, but by 1997 the team was performing poorly . He led India on a tour of Australia, where the visitors were beaten 3–0 by the newly crowned world champions . In an Australian tour of India, he scored three consecutive centuries in a Triangular cricket tournament in Sharjah and then again in the finals, both against Australia .', \" Sachin Tendulkar made 673 runs in 11 matches in the 2003 Cricket World Cup . He was awarded Man of the Tournament award and player of the match award in one of the games . In 2000, members of the South African national team attempted to fix matches during their visit to India . During India's 2001 tour of South Africa, in the second Test match, referee Mike Denness fined four Indian players for excessive appealing, and fined the Indian captain Sourav Ganguly for not\", \" Tendulkar had an unusually horrible run of form, failing in all six innings in the preceding three Tests . 2003 was his worst year in Test cricket, with an average of 17.00 and just one fifty . He scored an unbeaten 194 against Pakistan at Multan in the following series . A tennis elbow injury then took its toll on him, leaving him out of the side for most of the year . He played a part in India's victory in Mumbai in that series with a fast\", \" Tendulkar was dismissed five times in the 90s between 90 and 100, including three times at 99, leading some to suggest that he struggles to cope with nervousness in this phase of his innings . In 2008 India's tour of Australia, at a Sydney Test match, Australian Andrew Symonds accused Indian Harbhajan Singh of using racist terminology by calling him a monkey . The matter became big in following days and nearly led to the cancellation of this tour .\", \" Tendulkar became the leading run scorer in the Border-Gavaskar Trophy, 2007–08, despite consistently failing in the second innings . In the controversial New Years' Test at Sydney, he scored an unbeaten 154, even though India lost the Test . He became the only batsman to complete 16,000 runs in ODIs against Sri Lanka in 2008 .\", ' Tendulkar scored 103 not out and shared a 163-run unbroken fifth wicket partnership with Yuvraj Singh . This was his third century in the fourth innings of a Test match, and the first which resulted in a win . India won the first Test at Mohali, which ended in a draw, 1–0 to England . In early 2009, India revisited Sri Lanka for five ODIs, as the Pakistan series had been cancelled due to the security situation in', \" Tendulkar scored a 100 not out in the first Test of the series against South Africa in 2010 . In the second match of the subsequent ODI series, he scored 200 not out, becoming the world's first batsman to score a double century in ODI cricket and breaking the previous highest score of 194 jointly held by Pakistan's Saeed Anwar and Zimbabwe's Charles Coventry . He also became the first cricketer to score 15,000 runs in Test cricket in November\", ' Tendulkar announced his departure from One Day International cricket on 23 December 2012 . He announced his retirement from the IPL after his team, Mumbai Indians, beat Chennai Super Kings by 23 runs at the Eden Gardens in Kolkata on 26 May to win the Indian Premier League 2013 .', \" Tendulkar announced in October 2013 that he would retire from all cricket after the two-Test series against West Indies in November . At his request, the BCCI arranged that the two matches be played at Kolkata and Mumbai so that the farewell would happen at his home ground . In July 2014, he captained the MCC side in the Bicentenary Celebration match at Lord's . In December 2014 he was announced ambassador of the ICC Cricket World Cup 2015 event .\", ' Tendulkar is cross-dominant: he bats, bowls and throws with his right hand, but writes with his left hand . His batting is based on complete balance and poise while limiting unnecessary movements and flourishes . He is known for his unique punch style of hitting the ball over square . Sir Donald Bradman, considered by many as the greatest batsman of all time, considered Tendular to have a batting style similar to his .', ' Tendulkar is the leading run-scorer in Test matches, with 15,921 runs, as well as in ODI matches with 18,426 runs . He is the 16th player and the first Indian to score 50,000 runs in all forms of domestic and international recognised cricket (First-class, List A, and Twenty20)', ' Tendulkar holds the record of the highest number of centuries in Tests (51) and ODIs (49) behind Virat Kohli . He is the only player to have scored 50 centuries in Test cricket combined . He was the highest run scorer of the 1996 Cricket World Cup with a total of 523 runs and 673 in 2003 . He has been part of most wins by an Indian in both Test cricket with 72 wins and ODI matches . He also holds the world record', ' Tendulkar co-owned the Kerala Blasters FC in the Indian Super League Football in association with Prasad V. Potluri\\'s PVP Ventures . He was nominated by President Pratibha Patil to the Rajya Sabha, the upper house of India\\'s parliament, in April 2012 . He refused to accept the bungalow allotted to him in New Delhi, calling it \"a waste of [taxpayers\\'] money as I reside in Mumbai\"', \" Tendulkar was one of the first nine celebrities appointed by Prime Minister Narendra Modi to promote Swachh Bharat Mission in 2014 . He was awarded the most effective Swachhta ('Cleanliness') Ambassador by India Today Group's fifth edition of Safaigiri (lit.\\u2009'Spread awareness about hygiene movement') In 2019 he made his debut as a Cricket commentator during the 2019 ICC Cricket World Cup . Sachin: A Billion Dreams is a docudrama film about\"]\n"
          ]
        }
      ]
    },
    {
      "cell_type": "markdown",
      "source": [
        "#3. Applying word sense disambiguation\n"
      ],
      "metadata": {
        "id": "SjmXJ2oaQzJ5"
      }
    },
    {
      "cell_type": "code",
      "source": [
        "#installing dependencies\n",
        "from nltk.corpus import wordnet\n",
        "from nltk.wsd import lesk\n",
        "from nltk.tokenize import word_tokenize"
      ],
      "metadata": {
        "id": "_JSexRZGRLhz"
      },
      "execution_count": null,
      "outputs": []
    },
    {
      "cell_type": "code",
      "source": [
        "#1.a \"He used the key to unlock the door.\"\n",
        "a1 = lesk(word_tokenize('He used the key to unlock the door.'), 'key')\n",
        "a1.definition()\n"
      ],
      "metadata": {
        "colab": {
          "base_uri": "https://localhost:8080/",
          "height": 35
        },
        "id": "Ql18D8IEKKAE",
        "outputId": "d2255a23-8124-449a-f653-d44d72cabbab"
      },
      "execution_count": null,
      "outputs": [
        {
          "output_type": "execute_result",
          "data": {
            "text/plain": [
              "'mechanical device used to wind another device that is driven by a spring (as a clock)'"
            ],
            "application/vnd.google.colaboratory.intrinsic+json": {
              "type": "string"
            }
          },
          "metadata": {},
          "execution_count": 90
        }
      ]
    },
    {
      "cell_type": "code",
      "source": [
        "#1.b \"The answer to the problem lies in the key details.\"\n",
        "a2 = lesk(word_tokenize('The answer to the problem lies in the key details.'), 'key')\n",
        "a2.definition()"
      ],
      "metadata": {
        "colab": {
          "base_uri": "https://localhost:8080/",
          "height": 35
        },
        "id": "1TQgwcbsRBs9",
        "outputId": "12c55af5-4224-46ad-e644-919b700e6c88"
      },
      "execution_count": null,
      "outputs": [
        {
          "output_type": "execute_result",
          "data": {
            "text/plain": [
              "'vandalize a car by scratching the sides with a key'"
            ],
            "application/vnd.google.colaboratory.intrinsic+json": {
              "type": "string"
            }
          },
          "metadata": {},
          "execution_count": 91
        }
      ]
    },
    {
      "cell_type": "code",
      "source": [
        "#2.a The weight is measured on a scale weighing instrument.\n",
        "b1 = lesk(word_tokenize('The weight is measured on a scale weighing instrument.'), 'scale')\n",
        "b1.definition()"
      ],
      "metadata": {
        "colab": {
          "base_uri": "https://localhost:8080/",
          "height": 35
        },
        "id": "UNOsB9mSRadz",
        "outputId": "ba95786a-b779-454a-ca52-67b3a76c6fcb"
      },
      "execution_count": null,
      "outputs": [
        {
          "output_type": "execute_result",
          "data": {
            "text/plain": [
              "'size or measure according to a scale'"
            ],
            "application/vnd.google.colaboratory.intrinsic+json": {
              "type": "string"
            }
          },
          "metadata": {},
          "execution_count": 92
        }
      ]
    },
    {
      "cell_type": "code",
      "source": [
        "#2.b  The project is too large in scale for one person.\n",
        "b2 = lesk(word_tokenize('The project is too large in scale for one person'), 'scale')\n",
        "b2.definition()"
      ],
      "metadata": {
        "colab": {
          "base_uri": "https://localhost:8080/",
          "height": 35
        },
        "id": "VQ07i91dRxAM",
        "outputId": "21edd77d-e86d-4692-f31e-c937cfad0fb0"
      },
      "execution_count": null,
      "outputs": [
        {
          "output_type": "execute_result",
          "data": {
            "text/plain": [
              "'size or measure according to a scale'"
            ],
            "application/vnd.google.colaboratory.intrinsic+json": {
              "type": "string"
            }
          },
          "metadata": {},
          "execution_count": 93
        }
      ]
    },
    {
      "cell_type": "code",
      "source": [
        "#3.a \"The knife has a very sharp blade.\"\n",
        "c1 = lesk(word_tokenize('The knife has a very sharp blade.'), 'sharp')\n",
        "c1.definition()"
      ],
      "metadata": {
        "colab": {
          "base_uri": "https://localhost:8080/",
          "height": 35
        },
        "id": "9_LGCnyIR-C6",
        "outputId": "d639bae5-9804-4be4-bb41-176419bb411d"
      },
      "execution_count": null,
      "outputs": [
        {
          "output_type": "execute_result",
          "data": {
            "text/plain": [
              "'having or emitting a high-pitched and sharp tone or tones'"
            ],
            "application/vnd.google.colaboratory.intrinsic+json": {
              "type": "string"
            }
          },
          "metadata": {},
          "execution_count": 94
        }
      ]
    },
    {
      "cell_type": "code",
      "source": [
        "#3.a \"His mind was always sharp and quick.\"\n",
        "c2 = lesk(word_tokenize('His mind was always sharp and quick.'), 'sharp')\n",
        "c2.definition()"
      ],
      "metadata": {
        "colab": {
          "base_uri": "https://localhost:8080/",
          "height": 35
        },
        "id": "0DALOj63SWOF",
        "outputId": "fe898a00-72db-4c75-f53f-1573ece79d3e"
      },
      "execution_count": null,
      "outputs": [
        {
          "output_type": "execute_result",
          "data": {
            "text/plain": [
              "'having or emitting a high-pitched and sharp tone or tones'"
            ],
            "application/vnd.google.colaboratory.intrinsic+json": {
              "type": "string"
            }
          },
          "metadata": {},
          "execution_count": 95
        }
      ]
    },
    {
      "cell_type": "markdown",
      "source": [
        "#4. Use following sentences to find the bag of words using count vectorizer.\n"
      ],
      "metadata": {
        "id": "0qa1_1ONlc0z"
      }
    },
    {
      "cell_type": "code",
      "source": [
        "import pandas as pd\n"
      ],
      "metadata": {
        "id": "67Wulb78SsAZ"
      },
      "execution_count": null,
      "outputs": []
    },
    {
      "cell_type": "code",
      "source": [
        "from sklearn.feature_extraction.text import CountVectorizer\n"
      ],
      "metadata": {
        "id": "3jbL7BMl4glP"
      },
      "execution_count": null,
      "outputs": []
    },
    {
      "cell_type": "code",
      "source": [
        "\n",
        "cv = CountVectorizer()\n"
      ],
      "metadata": {
        "id": "WxdqiNoS4qx2"
      },
      "execution_count": null,
      "outputs": []
    },
    {
      "cell_type": "code",
      "source": [
        "sentence_1 = \"The postman delivered the package to the wrong address.\"\n",
        "sentence_2 = \"I wrapped a beautiful present for my friend's birthday.\"\n",
        "sentence_3 = \"The delivery truck arrived late due to heavy traffic.\"\n",
        "sentence_4 = \"We need to check the shipping address before sending the order.\"\n",
        "sentence_5 = \"Online shopping offers a wide variety of products with fast delivery.\""
      ],
      "metadata": {
        "id": "Cc0mfCmWnR6u"
      },
      "execution_count": null,
      "outputs": []
    },
    {
      "cell_type": "code",
      "source": [
        "words = word_tokenize(sentence_1.lower()) + word_tokenize(sentence_2.lower()) + word_tokenize(sentence_3.lower()) + word_tokenize(sentence_4.lower()) + word_tokenize(sentence_5.lower())\n",
        "tokens = set(words)"
      ],
      "metadata": {
        "id": "mN25DKL-8E_B"
      },
      "execution_count": null,
      "outputs": []
    },
    {
      "cell_type": "code",
      "source": [
        "tokens1 = word_tokenize(sentence_1.lower())\n",
        "tokens2 = word_tokenize(sentence_2.lower())\n",
        "tokens3 = word_tokenize(sentence_3.lower())\n",
        "tokens4 = word_tokenize(sentence_4.lower())\n",
        "tokens5 = word_tokenize(sentence_5.lower())\n"
      ],
      "metadata": {
        "id": "KnpBNXUvq4xW"
      },
      "execution_count": null,
      "outputs": []
    },
    {
      "cell_type": "code",
      "source": [
        "counts1 = [tokens1.count(x) for x in df.columns]\n",
        "counts2 = [tokens2.count(x) for x in df.columns]\n",
        "counts3 = [tokens3.count(x) for x in df.columns]\n",
        "counts4 = [tokens4.count(x) for x in df.columns]\n",
        "counts5 = [tokens5.count(x) for x in df.columns]\n"
      ],
      "metadata": {
        "id": "qhg54m6j12-a"
      },
      "execution_count": null,
      "outputs": []
    },
    {
      "cell_type": "code",
      "source": [
        "#finding the bag of array\n",
        "mydata = cv.fit_transform([sentence_1, sentence_2, sentence_3, sentence_4, sentence_5])\n",
        "mydata.toarray()\n",
        "df = pd.DataFrame(data=mydata.toarray(),\n",
        "                  columns=cv.get_feature_names_out())\n",
        "df"
      ],
      "metadata": {
        "id": "xMkpMpjD2MK0",
        "colab": {
          "base_uri": "https://localhost:8080/",
          "height": 256
        },
        "outputId": "08f559d1-fa05-4c0a-aec9-5fb2c493d26a"
      },
      "execution_count": null,
      "outputs": [
        {
          "output_type": "execute_result",
          "data": {
            "text/plain": [
              "   address  arrived  beautiful  before  birthday  check  delivered  delivery  \\\n",
              "0        1        0          0       0         0      0          1         0   \n",
              "1        0        0          1       0         1      0          0         0   \n",
              "2        0        1          0       0         0      0          0         1   \n",
              "3        1        0          0       1         0      1          0         0   \n",
              "4        0        0          0       0         0      0          0         1   \n",
              "\n",
              "   due  fast  ...  the  to  traffic  truck  variety  we  wide  with  wrapped  \\\n",
              "0    0     0  ...    3   1        0      0        0   0     0     0        0   \n",
              "1    0     0  ...    0   0        0      0        0   0     0     0        1   \n",
              "2    1     0  ...    1   1        1      1        0   0     0     0        0   \n",
              "3    0     0  ...    2   1        0      0        0   1     0     0        0   \n",
              "4    0     1  ...    0   0        0      0        1   0     1     1        0   \n",
              "\n",
              "   wrong  \n",
              "0      1  \n",
              "1      0  \n",
              "2      0  \n",
              "3      0  \n",
              "4      0  \n",
              "\n",
              "[5 rows x 37 columns]"
            ],
            "text/html": [
              "\n",
              "  <div id=\"df-28439123-b80a-435b-ab84-01a8dec26489\" class=\"colab-df-container\">\n",
              "    <div>\n",
              "<style scoped>\n",
              "    .dataframe tbody tr th:only-of-type {\n",
              "        vertical-align: middle;\n",
              "    }\n",
              "\n",
              "    .dataframe tbody tr th {\n",
              "        vertical-align: top;\n",
              "    }\n",
              "\n",
              "    .dataframe thead th {\n",
              "        text-align: right;\n",
              "    }\n",
              "</style>\n",
              "<table border=\"1\" class=\"dataframe\">\n",
              "  <thead>\n",
              "    <tr style=\"text-align: right;\">\n",
              "      <th></th>\n",
              "      <th>address</th>\n",
              "      <th>arrived</th>\n",
              "      <th>beautiful</th>\n",
              "      <th>before</th>\n",
              "      <th>birthday</th>\n",
              "      <th>check</th>\n",
              "      <th>delivered</th>\n",
              "      <th>delivery</th>\n",
              "      <th>due</th>\n",
              "      <th>fast</th>\n",
              "      <th>...</th>\n",
              "      <th>the</th>\n",
              "      <th>to</th>\n",
              "      <th>traffic</th>\n",
              "      <th>truck</th>\n",
              "      <th>variety</th>\n",
              "      <th>we</th>\n",
              "      <th>wide</th>\n",
              "      <th>with</th>\n",
              "      <th>wrapped</th>\n",
              "      <th>wrong</th>\n",
              "    </tr>\n",
              "  </thead>\n",
              "  <tbody>\n",
              "    <tr>\n",
              "      <th>0</th>\n",
              "      <td>1</td>\n",
              "      <td>0</td>\n",
              "      <td>0</td>\n",
              "      <td>0</td>\n",
              "      <td>0</td>\n",
              "      <td>0</td>\n",
              "      <td>1</td>\n",
              "      <td>0</td>\n",
              "      <td>0</td>\n",
              "      <td>0</td>\n",
              "      <td>...</td>\n",
              "      <td>3</td>\n",
              "      <td>1</td>\n",
              "      <td>0</td>\n",
              "      <td>0</td>\n",
              "      <td>0</td>\n",
              "      <td>0</td>\n",
              "      <td>0</td>\n",
              "      <td>0</td>\n",
              "      <td>0</td>\n",
              "      <td>1</td>\n",
              "    </tr>\n",
              "    <tr>\n",
              "      <th>1</th>\n",
              "      <td>0</td>\n",
              "      <td>0</td>\n",
              "      <td>1</td>\n",
              "      <td>0</td>\n",
              "      <td>1</td>\n",
              "      <td>0</td>\n",
              "      <td>0</td>\n",
              "      <td>0</td>\n",
              "      <td>0</td>\n",
              "      <td>0</td>\n",
              "      <td>...</td>\n",
              "      <td>0</td>\n",
              "      <td>0</td>\n",
              "      <td>0</td>\n",
              "      <td>0</td>\n",
              "      <td>0</td>\n",
              "      <td>0</td>\n",
              "      <td>0</td>\n",
              "      <td>0</td>\n",
              "      <td>1</td>\n",
              "      <td>0</td>\n",
              "    </tr>\n",
              "    <tr>\n",
              "      <th>2</th>\n",
              "      <td>0</td>\n",
              "      <td>1</td>\n",
              "      <td>0</td>\n",
              "      <td>0</td>\n",
              "      <td>0</td>\n",
              "      <td>0</td>\n",
              "      <td>0</td>\n",
              "      <td>1</td>\n",
              "      <td>1</td>\n",
              "      <td>0</td>\n",
              "      <td>...</td>\n",
              "      <td>1</td>\n",
              "      <td>1</td>\n",
              "      <td>1</td>\n",
              "      <td>1</td>\n",
              "      <td>0</td>\n",
              "      <td>0</td>\n",
              "      <td>0</td>\n",
              "      <td>0</td>\n",
              "      <td>0</td>\n",
              "      <td>0</td>\n",
              "    </tr>\n",
              "    <tr>\n",
              "      <th>3</th>\n",
              "      <td>1</td>\n",
              "      <td>0</td>\n",
              "      <td>0</td>\n",
              "      <td>1</td>\n",
              "      <td>0</td>\n",
              "      <td>1</td>\n",
              "      <td>0</td>\n",
              "      <td>0</td>\n",
              "      <td>0</td>\n",
              "      <td>0</td>\n",
              "      <td>...</td>\n",
              "      <td>2</td>\n",
              "      <td>1</td>\n",
              "      <td>0</td>\n",
              "      <td>0</td>\n",
              "      <td>0</td>\n",
              "      <td>1</td>\n",
              "      <td>0</td>\n",
              "      <td>0</td>\n",
              "      <td>0</td>\n",
              "      <td>0</td>\n",
              "    </tr>\n",
              "    <tr>\n",
              "      <th>4</th>\n",
              "      <td>0</td>\n",
              "      <td>0</td>\n",
              "      <td>0</td>\n",
              "      <td>0</td>\n",
              "      <td>0</td>\n",
              "      <td>0</td>\n",
              "      <td>0</td>\n",
              "      <td>1</td>\n",
              "      <td>0</td>\n",
              "      <td>1</td>\n",
              "      <td>...</td>\n",
              "      <td>0</td>\n",
              "      <td>0</td>\n",
              "      <td>0</td>\n",
              "      <td>0</td>\n",
              "      <td>1</td>\n",
              "      <td>0</td>\n",
              "      <td>1</td>\n",
              "      <td>1</td>\n",
              "      <td>0</td>\n",
              "      <td>0</td>\n",
              "    </tr>\n",
              "  </tbody>\n",
              "</table>\n",
              "<p>5 rows × 37 columns</p>\n",
              "</div>\n",
              "    <div class=\"colab-df-buttons\">\n",
              "\n",
              "  <div class=\"colab-df-container\">\n",
              "    <button class=\"colab-df-convert\" onclick=\"convertToInteractive('df-28439123-b80a-435b-ab84-01a8dec26489')\"\n",
              "            title=\"Convert this dataframe to an interactive table.\"\n",
              "            style=\"display:none;\">\n",
              "\n",
              "  <svg xmlns=\"http://www.w3.org/2000/svg\" height=\"24px\" viewBox=\"0 -960 960 960\">\n",
              "    <path d=\"M120-120v-720h720v720H120Zm60-500h600v-160H180v160Zm220 220h160v-160H400v160Zm0 220h160v-160H400v160ZM180-400h160v-160H180v160Zm440 0h160v-160H620v160ZM180-180h160v-160H180v160Zm440 0h160v-160H620v160Z\"/>\n",
              "  </svg>\n",
              "    </button>\n",
              "\n",
              "  <style>\n",
              "    .colab-df-container {\n",
              "      display:flex;\n",
              "      gap: 12px;\n",
              "    }\n",
              "\n",
              "    .colab-df-convert {\n",
              "      background-color: #E8F0FE;\n",
              "      border: none;\n",
              "      border-radius: 50%;\n",
              "      cursor: pointer;\n",
              "      display: none;\n",
              "      fill: #1967D2;\n",
              "      height: 32px;\n",
              "      padding: 0 0 0 0;\n",
              "      width: 32px;\n",
              "    }\n",
              "\n",
              "    .colab-df-convert:hover {\n",
              "      background-color: #E2EBFA;\n",
              "      box-shadow: 0px 1px 2px rgba(60, 64, 67, 0.3), 0px 1px 3px 1px rgba(60, 64, 67, 0.15);\n",
              "      fill: #174EA6;\n",
              "    }\n",
              "\n",
              "    .colab-df-buttons div {\n",
              "      margin-bottom: 4px;\n",
              "    }\n",
              "\n",
              "    [theme=dark] .colab-df-convert {\n",
              "      background-color: #3B4455;\n",
              "      fill: #D2E3FC;\n",
              "    }\n",
              "\n",
              "    [theme=dark] .colab-df-convert:hover {\n",
              "      background-color: #434B5C;\n",
              "      box-shadow: 0px 1px 3px 1px rgba(0, 0, 0, 0.15);\n",
              "      filter: drop-shadow(0px 1px 2px rgba(0, 0, 0, 0.3));\n",
              "      fill: #FFFFFF;\n",
              "    }\n",
              "  </style>\n",
              "\n",
              "    <script>\n",
              "      const buttonEl =\n",
              "        document.querySelector('#df-28439123-b80a-435b-ab84-01a8dec26489 button.colab-df-convert');\n",
              "      buttonEl.style.display =\n",
              "        google.colab.kernel.accessAllowed ? 'block' : 'none';\n",
              "\n",
              "      async function convertToInteractive(key) {\n",
              "        const element = document.querySelector('#df-28439123-b80a-435b-ab84-01a8dec26489');\n",
              "        const dataTable =\n",
              "          await google.colab.kernel.invokeFunction('convertToInteractive',\n",
              "                                                    [key], {});\n",
              "        if (!dataTable) return;\n",
              "\n",
              "        const docLinkHtml = 'Like what you see? Visit the ' +\n",
              "          '<a target=\"_blank\" href=https://colab.research.google.com/notebooks/data_table.ipynb>data table notebook</a>'\n",
              "          + ' to learn more about interactive tables.';\n",
              "        element.innerHTML = '';\n",
              "        dataTable['output_type'] = 'display_data';\n",
              "        await google.colab.output.renderOutput(dataTable, element);\n",
              "        const docLink = document.createElement('div');\n",
              "        docLink.innerHTML = docLinkHtml;\n",
              "        element.appendChild(docLink);\n",
              "      }\n",
              "    </script>\n",
              "  </div>\n",
              "\n",
              "\n",
              "<div id=\"df-086f16a4-1360-489c-9e25-f5ac2660e82c\">\n",
              "  <button class=\"colab-df-quickchart\" onclick=\"quickchart('df-086f16a4-1360-489c-9e25-f5ac2660e82c')\"\n",
              "            title=\"Suggest charts\"\n",
              "            style=\"display:none;\">\n",
              "\n",
              "<svg xmlns=\"http://www.w3.org/2000/svg\" height=\"24px\"viewBox=\"0 0 24 24\"\n",
              "     width=\"24px\">\n",
              "    <g>\n",
              "        <path d=\"M19 3H5c-1.1 0-2 .9-2 2v14c0 1.1.9 2 2 2h14c1.1 0 2-.9 2-2V5c0-1.1-.9-2-2-2zM9 17H7v-7h2v7zm4 0h-2V7h2v10zm4 0h-2v-4h2v4z\"/>\n",
              "    </g>\n",
              "</svg>\n",
              "  </button>\n",
              "\n",
              "<style>\n",
              "  .colab-df-quickchart {\n",
              "      --bg-color: #E8F0FE;\n",
              "      --fill-color: #1967D2;\n",
              "      --hover-bg-color: #E2EBFA;\n",
              "      --hover-fill-color: #174EA6;\n",
              "      --disabled-fill-color: #AAA;\n",
              "      --disabled-bg-color: #DDD;\n",
              "  }\n",
              "\n",
              "  [theme=dark] .colab-df-quickchart {\n",
              "      --bg-color: #3B4455;\n",
              "      --fill-color: #D2E3FC;\n",
              "      --hover-bg-color: #434B5C;\n",
              "      --hover-fill-color: #FFFFFF;\n",
              "      --disabled-bg-color: #3B4455;\n",
              "      --disabled-fill-color: #666;\n",
              "  }\n",
              "\n",
              "  .colab-df-quickchart {\n",
              "    background-color: var(--bg-color);\n",
              "    border: none;\n",
              "    border-radius: 50%;\n",
              "    cursor: pointer;\n",
              "    display: none;\n",
              "    fill: var(--fill-color);\n",
              "    height: 32px;\n",
              "    padding: 0;\n",
              "    width: 32px;\n",
              "  }\n",
              "\n",
              "  .colab-df-quickchart:hover {\n",
              "    background-color: var(--hover-bg-color);\n",
              "    box-shadow: 0 1px 2px rgba(60, 64, 67, 0.3), 0 1px 3px 1px rgba(60, 64, 67, 0.15);\n",
              "    fill: var(--button-hover-fill-color);\n",
              "  }\n",
              "\n",
              "  .colab-df-quickchart-complete:disabled,\n",
              "  .colab-df-quickchart-complete:disabled:hover {\n",
              "    background-color: var(--disabled-bg-color);\n",
              "    fill: var(--disabled-fill-color);\n",
              "    box-shadow: none;\n",
              "  }\n",
              "\n",
              "  .colab-df-spinner {\n",
              "    border: 2px solid var(--fill-color);\n",
              "    border-color: transparent;\n",
              "    border-bottom-color: var(--fill-color);\n",
              "    animation:\n",
              "      spin 1s steps(1) infinite;\n",
              "  }\n",
              "\n",
              "  @keyframes spin {\n",
              "    0% {\n",
              "      border-color: transparent;\n",
              "      border-bottom-color: var(--fill-color);\n",
              "      border-left-color: var(--fill-color);\n",
              "    }\n",
              "    20% {\n",
              "      border-color: transparent;\n",
              "      border-left-color: var(--fill-color);\n",
              "      border-top-color: var(--fill-color);\n",
              "    }\n",
              "    30% {\n",
              "      border-color: transparent;\n",
              "      border-left-color: var(--fill-color);\n",
              "      border-top-color: var(--fill-color);\n",
              "      border-right-color: var(--fill-color);\n",
              "    }\n",
              "    40% {\n",
              "      border-color: transparent;\n",
              "      border-right-color: var(--fill-color);\n",
              "      border-top-color: var(--fill-color);\n",
              "    }\n",
              "    60% {\n",
              "      border-color: transparent;\n",
              "      border-right-color: var(--fill-color);\n",
              "    }\n",
              "    80% {\n",
              "      border-color: transparent;\n",
              "      border-right-color: var(--fill-color);\n",
              "      border-bottom-color: var(--fill-color);\n",
              "    }\n",
              "    90% {\n",
              "      border-color: transparent;\n",
              "      border-bottom-color: var(--fill-color);\n",
              "    }\n",
              "  }\n",
              "</style>\n",
              "\n",
              "  <script>\n",
              "    async function quickchart(key) {\n",
              "      const quickchartButtonEl =\n",
              "        document.querySelector('#' + key + ' button');\n",
              "      quickchartButtonEl.disabled = true;  // To prevent multiple clicks.\n",
              "      quickchartButtonEl.classList.add('colab-df-spinner');\n",
              "      try {\n",
              "        const charts = await google.colab.kernel.invokeFunction(\n",
              "            'suggestCharts', [key], {});\n",
              "      } catch (error) {\n",
              "        console.error('Error during call to suggestCharts:', error);\n",
              "      }\n",
              "      quickchartButtonEl.classList.remove('colab-df-spinner');\n",
              "      quickchartButtonEl.classList.add('colab-df-quickchart-complete');\n",
              "    }\n",
              "    (() => {\n",
              "      let quickchartButtonEl =\n",
              "        document.querySelector('#df-086f16a4-1360-489c-9e25-f5ac2660e82c button');\n",
              "      quickchartButtonEl.style.display =\n",
              "        google.colab.kernel.accessAllowed ? 'block' : 'none';\n",
              "    })();\n",
              "  </script>\n",
              "</div>\n",
              "\n",
              "  <div id=\"id_e978e793-ba34-4c63-86f0-cab045eb87a4\">\n",
              "    <style>\n",
              "      .colab-df-generate {\n",
              "        background-color: #E8F0FE;\n",
              "        border: none;\n",
              "        border-radius: 50%;\n",
              "        cursor: pointer;\n",
              "        display: none;\n",
              "        fill: #1967D2;\n",
              "        height: 32px;\n",
              "        padding: 0 0 0 0;\n",
              "        width: 32px;\n",
              "      }\n",
              "\n",
              "      .colab-df-generate:hover {\n",
              "        background-color: #E2EBFA;\n",
              "        box-shadow: 0px 1px 2px rgba(60, 64, 67, 0.3), 0px 1px 3px 1px rgba(60, 64, 67, 0.15);\n",
              "        fill: #174EA6;\n",
              "      }\n",
              "\n",
              "      [theme=dark] .colab-df-generate {\n",
              "        background-color: #3B4455;\n",
              "        fill: #D2E3FC;\n",
              "      }\n",
              "\n",
              "      [theme=dark] .colab-df-generate:hover {\n",
              "        background-color: #434B5C;\n",
              "        box-shadow: 0px 1px 3px 1px rgba(0, 0, 0, 0.15);\n",
              "        filter: drop-shadow(0px 1px 2px rgba(0, 0, 0, 0.3));\n",
              "        fill: #FFFFFF;\n",
              "      }\n",
              "    </style>\n",
              "    <button class=\"colab-df-generate\" onclick=\"generateWithVariable('df')\"\n",
              "            title=\"Generate code using this dataframe.\"\n",
              "            style=\"display:none;\">\n",
              "\n",
              "  <svg xmlns=\"http://www.w3.org/2000/svg\" height=\"24px\"viewBox=\"0 0 24 24\"\n",
              "       width=\"24px\">\n",
              "    <path d=\"M7,19H8.4L18.45,9,17,7.55,7,17.6ZM5,21V16.75L18.45,3.32a2,2,0,0,1,2.83,0l1.4,1.43a1.91,1.91,0,0,1,.58,1.4,1.91,1.91,0,0,1-.58,1.4L9.25,21ZM18.45,9,17,7.55Zm-12,3A5.31,5.31,0,0,0,4.9,8.1,5.31,5.31,0,0,0,1,6.5,5.31,5.31,0,0,0,4.9,4.9,5.31,5.31,0,0,0,6.5,1,5.31,5.31,0,0,0,8.1,4.9,5.31,5.31,0,0,0,12,6.5,5.46,5.46,0,0,0,6.5,12Z\"/>\n",
              "  </svg>\n",
              "    </button>\n",
              "    <script>\n",
              "      (() => {\n",
              "      const buttonEl =\n",
              "        document.querySelector('#id_e978e793-ba34-4c63-86f0-cab045eb87a4 button.colab-df-generate');\n",
              "      buttonEl.style.display =\n",
              "        google.colab.kernel.accessAllowed ? 'block' : 'none';\n",
              "\n",
              "      buttonEl.onclick = () => {\n",
              "        google.colab.notebook.generateWithVariable('df');\n",
              "      }\n",
              "      })();\n",
              "    </script>\n",
              "  </div>\n",
              "\n",
              "    </div>\n",
              "  </div>\n"
            ],
            "application/vnd.google.colaboratory.intrinsic+json": {
              "type": "dataframe",
              "variable_name": "df"
            }
          },
          "metadata": {},
          "execution_count": 103
        }
      ]
    }
  ],
  "metadata": {
    "colab": {
      "provenance": []
    },
    "kernelspec": {
      "display_name": "Python 3",
      "name": "python3"
    },
    "language_info": {
      "name": "python"
    }
  },
  "nbformat": 4,
  "nbformat_minor": 0
}