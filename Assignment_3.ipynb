{
  "nbformat": 4,
  "nbformat_minor": 0,
  "metadata": {
    "colab": {
      "provenance": []
    },
    "kernelspec": {
      "name": "python3",
      "display_name": "Python 3"
    },
    "language_info": {
      "name": "python"
    }
  },
  "cells": [
    {
      "cell_type": "markdown",
      "source": [
        "####Question 1\n",
        "#####Use following sentences to find the tf*idf vectorized data.\n",
        "#####1.The postman delivered the package to the wrong address.\n",
        "#####2.I wrapped a beautiful present for my friend's birthday.\n",
        "#####3.The delivery truck arrived late due to heavy traffic.\n",
        "#####4.We need to check the shipping address before sending the order.\n",
        "#####5.Online shopping offers a wide variety of products with fast delivery."
      ],
      "metadata": {
        "id": "TwoNGr8CW4OK"
      }
    },
    {
      "cell_type": "code",
      "source": [
        "#import the class\n",
        "from sklearn.feature_extraction.text import TfidfVectorizer\n",
        "import pandas as pd"
      ],
      "metadata": {
        "id": "bXyiAcKiVIe7"
      },
      "execution_count": 14,
      "outputs": []
    },
    {
      "cell_type": "code",
      "source": [
        "#create the object\n",
        "tfidf = TfidfVectorizer()\n"
      ],
      "metadata": {
        "id": "9LiDWhz0VhGS"
      },
      "execution_count": 15,
      "outputs": []
    },
    {
      "cell_type": "code",
      "source": [
        "sentence_1 = \"The postman delivered the package to the wrong address.\"\n",
        "sentence_2 = \"I wrapped a beautiful present for my friend's birthday.\"\n",
        "sentence_3 = \"The delivery truck arrived late due to heavy traffic.\"\n",
        "sentence_4 = \"We need to check the shipping address before sending the order.\"\n",
        "sentence_5 = \"Online shopping offers a wide variety of products with fast delivery.\""
      ],
      "metadata": {
        "id": "jcVf4fF4VpT2"
      },
      "execution_count": 16,
      "outputs": []
    },
    {
      "cell_type": "code",
      "source": [
        "# apply the algorithm\n",
        "new_data = tfidf.fit_transform([sentence_1, sentence_2, sentence_3, sentence_4, sentence_5])\n"
      ],
      "metadata": {
        "id": "lsxiwejkWB6A"
      },
      "execution_count": 17,
      "outputs": []
    },
    {
      "cell_type": "code",
      "source": [
        "new_data.toarray()\n"
      ],
      "metadata": {
        "colab": {
          "base_uri": "https://localhost:8080/"
        },
        "id": "lbFl-0d_WIM_",
        "outputId": "ba33bce4-c856-4e78-afc2-9999e1a5cacd"
      },
      "execution_count": 18,
      "outputs": [
        {
          "output_type": "execute_result",
          "data": {
            "text/plain": [
              "array([[0.26692128, 0.        , 0.        , 0.        , 0.        ,\n",
              "        0.        , 0.33084204, 0.        , 0.        , 0.        ,\n",
              "        0.        , 0.        , 0.        , 0.        , 0.        ,\n",
              "        0.        , 0.        , 0.        , 0.        , 0.        ,\n",
              "        0.33084204, 0.33084204, 0.        , 0.        , 0.        ,\n",
              "        0.        , 0.        , 0.66470631, 0.22156877, 0.        ,\n",
              "        0.        , 0.        , 0.        , 0.        , 0.        ,\n",
              "        0.        , 0.33084204],\n",
              "       [0.        , 0.        , 0.37796447, 0.        , 0.37796447,\n",
              "        0.        , 0.        , 0.        , 0.        , 0.        ,\n",
              "        0.37796447, 0.37796447, 0.        , 0.        , 0.37796447,\n",
              "        0.        , 0.        , 0.        , 0.        , 0.        ,\n",
              "        0.        , 0.        , 0.37796447, 0.        , 0.        ,\n",
              "        0.        , 0.        , 0.        , 0.        , 0.        ,\n",
              "        0.        , 0.        , 0.        , 0.        , 0.        ,\n",
              "        0.37796447, 0.        ],\n",
              "       [0.        , 0.36398684, 0.        , 0.        , 0.        ,\n",
              "        0.        , 0.        , 0.29366229, 0.36398684, 0.        ,\n",
              "        0.        , 0.        , 0.36398684, 0.36398684, 0.        ,\n",
              "        0.        , 0.        , 0.        , 0.        , 0.        ,\n",
              "        0.        , 0.        , 0.        , 0.        , 0.        ,\n",
              "        0.        , 0.        , 0.24376623, 0.24376623, 0.36398684,\n",
              "        0.36398684, 0.        , 0.        , 0.        , 0.        ,\n",
              "        0.        , 0.        ],\n",
              "       [0.25650029, 0.        , 0.        , 0.3179255 , 0.        ,\n",
              "        0.3179255 , 0.        , 0.        , 0.        , 0.        ,\n",
              "        0.        , 0.        , 0.        , 0.        , 0.        ,\n",
              "        0.3179255 , 0.        , 0.        , 0.        , 0.3179255 ,\n",
              "        0.        , 0.        , 0.        , 0.        , 0.3179255 ,\n",
              "        0.3179255 , 0.        , 0.42583682, 0.21291841, 0.        ,\n",
              "        0.        , 0.        , 0.3179255 , 0.        , 0.        ,\n",
              "        0.        , 0.        ],\n",
              "       [0.        , 0.        , 0.        , 0.        , 0.        ,\n",
              "        0.        , 0.        , 0.25970376, 0.        , 0.32189611,\n",
              "        0.        , 0.        , 0.        , 0.        , 0.        ,\n",
              "        0.        , 0.32189611, 0.32189611, 0.32189611, 0.        ,\n",
              "        0.        , 0.        , 0.        , 0.32189611, 0.        ,\n",
              "        0.        , 0.32189611, 0.        , 0.        , 0.        ,\n",
              "        0.        , 0.32189611, 0.        , 0.32189611, 0.32189611,\n",
              "        0.        , 0.        ]])"
            ]
          },
          "metadata": {},
          "execution_count": 18
        }
      ]
    },
    {
      "cell_type": "code",
      "source": [
        "tfidf.get_feature_names_out()\n"
      ],
      "metadata": {
        "colab": {
          "base_uri": "https://localhost:8080/"
        },
        "id": "zvAv9dqTWJeJ",
        "outputId": "52d7cfb5-b94f-4265-ac46-cd34d525c877"
      },
      "execution_count": 19,
      "outputs": [
        {
          "output_type": "execute_result",
          "data": {
            "text/plain": [
              "array(['address', 'arrived', 'beautiful', 'before', 'birthday', 'check',\n",
              "       'delivered', 'delivery', 'due', 'fast', 'for', 'friend', 'heavy',\n",
              "       'late', 'my', 'need', 'of', 'offers', 'online', 'order', 'package',\n",
              "       'postman', 'present', 'products', 'sending', 'shipping',\n",
              "       'shopping', 'the', 'to', 'traffic', 'truck', 'variety', 'we',\n",
              "       'wide', 'with', 'wrapped', 'wrong'], dtype=object)"
            ]
          },
          "metadata": {},
          "execution_count": 19
        }
      ]
    },
    {
      "cell_type": "code",
      "source": [
        "df = pd.DataFrame(data=new_data.toarray(),\n",
        "                  columns=tfidf.get_feature_names_out())\n",
        "df"
      ],
      "metadata": {
        "colab": {
          "base_uri": "https://localhost:8080/",
          "height": 256
        },
        "id": "87uxwJTXWYtP",
        "outputId": "6a89c3da-9c04-440f-c99f-8bb8338c26a0"
      },
      "execution_count": 20,
      "outputs": [
        {
          "output_type": "execute_result",
          "data": {
            "text/plain": [
              "    address   arrived  beautiful    before  birthday     check  delivered  \\\n",
              "0  0.266921  0.000000   0.000000  0.000000  0.000000  0.000000   0.330842   \n",
              "1  0.000000  0.000000   0.377964  0.000000  0.377964  0.000000   0.000000   \n",
              "2  0.000000  0.363987   0.000000  0.000000  0.000000  0.000000   0.000000   \n",
              "3  0.256500  0.000000   0.000000  0.317925  0.000000  0.317925   0.000000   \n",
              "4  0.000000  0.000000   0.000000  0.000000  0.000000  0.000000   0.000000   \n",
              "\n",
              "   delivery       due      fast  ...       the        to   traffic     truck  \\\n",
              "0  0.000000  0.000000  0.000000  ...  0.664706  0.221569  0.000000  0.000000   \n",
              "1  0.000000  0.000000  0.000000  ...  0.000000  0.000000  0.000000  0.000000   \n",
              "2  0.293662  0.363987  0.000000  ...  0.243766  0.243766  0.363987  0.363987   \n",
              "3  0.000000  0.000000  0.000000  ...  0.425837  0.212918  0.000000  0.000000   \n",
              "4  0.259704  0.000000  0.321896  ...  0.000000  0.000000  0.000000  0.000000   \n",
              "\n",
              "    variety        we      wide      with   wrapped     wrong  \n",
              "0  0.000000  0.000000  0.000000  0.000000  0.000000  0.330842  \n",
              "1  0.000000  0.000000  0.000000  0.000000  0.377964  0.000000  \n",
              "2  0.000000  0.000000  0.000000  0.000000  0.000000  0.000000  \n",
              "3  0.000000  0.317925  0.000000  0.000000  0.000000  0.000000  \n",
              "4  0.321896  0.000000  0.321896  0.321896  0.000000  0.000000  \n",
              "\n",
              "[5 rows x 37 columns]"
            ],
            "text/html": [
              "\n",
              "  <div id=\"df-5f6d3d35-39a7-4533-8e96-6f40f671419a\" class=\"colab-df-container\">\n",
              "    <div>\n",
              "<style scoped>\n",
              "    .dataframe tbody tr th:only-of-type {\n",
              "        vertical-align: middle;\n",
              "    }\n",
              "\n",
              "    .dataframe tbody tr th {\n",
              "        vertical-align: top;\n",
              "    }\n",
              "\n",
              "    .dataframe thead th {\n",
              "        text-align: right;\n",
              "    }\n",
              "</style>\n",
              "<table border=\"1\" class=\"dataframe\">\n",
              "  <thead>\n",
              "    <tr style=\"text-align: right;\">\n",
              "      <th></th>\n",
              "      <th>address</th>\n",
              "      <th>arrived</th>\n",
              "      <th>beautiful</th>\n",
              "      <th>before</th>\n",
              "      <th>birthday</th>\n",
              "      <th>check</th>\n",
              "      <th>delivered</th>\n",
              "      <th>delivery</th>\n",
              "      <th>due</th>\n",
              "      <th>fast</th>\n",
              "      <th>...</th>\n",
              "      <th>the</th>\n",
              "      <th>to</th>\n",
              "      <th>traffic</th>\n",
              "      <th>truck</th>\n",
              "      <th>variety</th>\n",
              "      <th>we</th>\n",
              "      <th>wide</th>\n",
              "      <th>with</th>\n",
              "      <th>wrapped</th>\n",
              "      <th>wrong</th>\n",
              "    </tr>\n",
              "  </thead>\n",
              "  <tbody>\n",
              "    <tr>\n",
              "      <th>0</th>\n",
              "      <td>0.266921</td>\n",
              "      <td>0.000000</td>\n",
              "      <td>0.000000</td>\n",
              "      <td>0.000000</td>\n",
              "      <td>0.000000</td>\n",
              "      <td>0.000000</td>\n",
              "      <td>0.330842</td>\n",
              "      <td>0.000000</td>\n",
              "      <td>0.000000</td>\n",
              "      <td>0.000000</td>\n",
              "      <td>...</td>\n",
              "      <td>0.664706</td>\n",
              "      <td>0.221569</td>\n",
              "      <td>0.000000</td>\n",
              "      <td>0.000000</td>\n",
              "      <td>0.000000</td>\n",
              "      <td>0.000000</td>\n",
              "      <td>0.000000</td>\n",
              "      <td>0.000000</td>\n",
              "      <td>0.000000</td>\n",
              "      <td>0.330842</td>\n",
              "    </tr>\n",
              "    <tr>\n",
              "      <th>1</th>\n",
              "      <td>0.000000</td>\n",
              "      <td>0.000000</td>\n",
              "      <td>0.377964</td>\n",
              "      <td>0.000000</td>\n",
              "      <td>0.377964</td>\n",
              "      <td>0.000000</td>\n",
              "      <td>0.000000</td>\n",
              "      <td>0.000000</td>\n",
              "      <td>0.000000</td>\n",
              "      <td>0.000000</td>\n",
              "      <td>...</td>\n",
              "      <td>0.000000</td>\n",
              "      <td>0.000000</td>\n",
              "      <td>0.000000</td>\n",
              "      <td>0.000000</td>\n",
              "      <td>0.000000</td>\n",
              "      <td>0.000000</td>\n",
              "      <td>0.000000</td>\n",
              "      <td>0.000000</td>\n",
              "      <td>0.377964</td>\n",
              "      <td>0.000000</td>\n",
              "    </tr>\n",
              "    <tr>\n",
              "      <th>2</th>\n",
              "      <td>0.000000</td>\n",
              "      <td>0.363987</td>\n",
              "      <td>0.000000</td>\n",
              "      <td>0.000000</td>\n",
              "      <td>0.000000</td>\n",
              "      <td>0.000000</td>\n",
              "      <td>0.000000</td>\n",
              "      <td>0.293662</td>\n",
              "      <td>0.363987</td>\n",
              "      <td>0.000000</td>\n",
              "      <td>...</td>\n",
              "      <td>0.243766</td>\n",
              "      <td>0.243766</td>\n",
              "      <td>0.363987</td>\n",
              "      <td>0.363987</td>\n",
              "      <td>0.000000</td>\n",
              "      <td>0.000000</td>\n",
              "      <td>0.000000</td>\n",
              "      <td>0.000000</td>\n",
              "      <td>0.000000</td>\n",
              "      <td>0.000000</td>\n",
              "    </tr>\n",
              "    <tr>\n",
              "      <th>3</th>\n",
              "      <td>0.256500</td>\n",
              "      <td>0.000000</td>\n",
              "      <td>0.000000</td>\n",
              "      <td>0.317925</td>\n",
              "      <td>0.000000</td>\n",
              "      <td>0.317925</td>\n",
              "      <td>0.000000</td>\n",
              "      <td>0.000000</td>\n",
              "      <td>0.000000</td>\n",
              "      <td>0.000000</td>\n",
              "      <td>...</td>\n",
              "      <td>0.425837</td>\n",
              "      <td>0.212918</td>\n",
              "      <td>0.000000</td>\n",
              "      <td>0.000000</td>\n",
              "      <td>0.000000</td>\n",
              "      <td>0.317925</td>\n",
              "      <td>0.000000</td>\n",
              "      <td>0.000000</td>\n",
              "      <td>0.000000</td>\n",
              "      <td>0.000000</td>\n",
              "    </tr>\n",
              "    <tr>\n",
              "      <th>4</th>\n",
              "      <td>0.000000</td>\n",
              "      <td>0.000000</td>\n",
              "      <td>0.000000</td>\n",
              "      <td>0.000000</td>\n",
              "      <td>0.000000</td>\n",
              "      <td>0.000000</td>\n",
              "      <td>0.000000</td>\n",
              "      <td>0.259704</td>\n",
              "      <td>0.000000</td>\n",
              "      <td>0.321896</td>\n",
              "      <td>...</td>\n",
              "      <td>0.000000</td>\n",
              "      <td>0.000000</td>\n",
              "      <td>0.000000</td>\n",
              "      <td>0.000000</td>\n",
              "      <td>0.321896</td>\n",
              "      <td>0.000000</td>\n",
              "      <td>0.321896</td>\n",
              "      <td>0.321896</td>\n",
              "      <td>0.000000</td>\n",
              "      <td>0.000000</td>\n",
              "    </tr>\n",
              "  </tbody>\n",
              "</table>\n",
              "<p>5 rows × 37 columns</p>\n",
              "</div>\n",
              "    <div class=\"colab-df-buttons\">\n",
              "\n",
              "  <div class=\"colab-df-container\">\n",
              "    <button class=\"colab-df-convert\" onclick=\"convertToInteractive('df-5f6d3d35-39a7-4533-8e96-6f40f671419a')\"\n",
              "            title=\"Convert this dataframe to an interactive table.\"\n",
              "            style=\"display:none;\">\n",
              "\n",
              "  <svg xmlns=\"http://www.w3.org/2000/svg\" height=\"24px\" viewBox=\"0 -960 960 960\">\n",
              "    <path d=\"M120-120v-720h720v720H120Zm60-500h600v-160H180v160Zm220 220h160v-160H400v160Zm0 220h160v-160H400v160ZM180-400h160v-160H180v160Zm440 0h160v-160H620v160ZM180-180h160v-160H180v160Zm440 0h160v-160H620v160Z\"/>\n",
              "  </svg>\n",
              "    </button>\n",
              "\n",
              "  <style>\n",
              "    .colab-df-container {\n",
              "      display:flex;\n",
              "      gap: 12px;\n",
              "    }\n",
              "\n",
              "    .colab-df-convert {\n",
              "      background-color: #E8F0FE;\n",
              "      border: none;\n",
              "      border-radius: 50%;\n",
              "      cursor: pointer;\n",
              "      display: none;\n",
              "      fill: #1967D2;\n",
              "      height: 32px;\n",
              "      padding: 0 0 0 0;\n",
              "      width: 32px;\n",
              "    }\n",
              "\n",
              "    .colab-df-convert:hover {\n",
              "      background-color: #E2EBFA;\n",
              "      box-shadow: 0px 1px 2px rgba(60, 64, 67, 0.3), 0px 1px 3px 1px rgba(60, 64, 67, 0.15);\n",
              "      fill: #174EA6;\n",
              "    }\n",
              "\n",
              "    .colab-df-buttons div {\n",
              "      margin-bottom: 4px;\n",
              "    }\n",
              "\n",
              "    [theme=dark] .colab-df-convert {\n",
              "      background-color: #3B4455;\n",
              "      fill: #D2E3FC;\n",
              "    }\n",
              "\n",
              "    [theme=dark] .colab-df-convert:hover {\n",
              "      background-color: #434B5C;\n",
              "      box-shadow: 0px 1px 3px 1px rgba(0, 0, 0, 0.15);\n",
              "      filter: drop-shadow(0px 1px 2px rgba(0, 0, 0, 0.3));\n",
              "      fill: #FFFFFF;\n",
              "    }\n",
              "  </style>\n",
              "\n",
              "    <script>\n",
              "      const buttonEl =\n",
              "        document.querySelector('#df-5f6d3d35-39a7-4533-8e96-6f40f671419a button.colab-df-convert');\n",
              "      buttonEl.style.display =\n",
              "        google.colab.kernel.accessAllowed ? 'block' : 'none';\n",
              "\n",
              "      async function convertToInteractive(key) {\n",
              "        const element = document.querySelector('#df-5f6d3d35-39a7-4533-8e96-6f40f671419a');\n",
              "        const dataTable =\n",
              "          await google.colab.kernel.invokeFunction('convertToInteractive',\n",
              "                                                    [key], {});\n",
              "        if (!dataTable) return;\n",
              "\n",
              "        const docLinkHtml = 'Like what you see? Visit the ' +\n",
              "          '<a target=\"_blank\" href=https://colab.research.google.com/notebooks/data_table.ipynb>data table notebook</a>'\n",
              "          + ' to learn more about interactive tables.';\n",
              "        element.innerHTML = '';\n",
              "        dataTable['output_type'] = 'display_data';\n",
              "        await google.colab.output.renderOutput(dataTable, element);\n",
              "        const docLink = document.createElement('div');\n",
              "        docLink.innerHTML = docLinkHtml;\n",
              "        element.appendChild(docLink);\n",
              "      }\n",
              "    </script>\n",
              "  </div>\n",
              "\n",
              "\n",
              "<div id=\"df-b8051d25-a2ee-44f2-a27c-2da58a14b2e1\">\n",
              "  <button class=\"colab-df-quickchart\" onclick=\"quickchart('df-b8051d25-a2ee-44f2-a27c-2da58a14b2e1')\"\n",
              "            title=\"Suggest charts\"\n",
              "            style=\"display:none;\">\n",
              "\n",
              "<svg xmlns=\"http://www.w3.org/2000/svg\" height=\"24px\"viewBox=\"0 0 24 24\"\n",
              "     width=\"24px\">\n",
              "    <g>\n",
              "        <path d=\"M19 3H5c-1.1 0-2 .9-2 2v14c0 1.1.9 2 2 2h14c1.1 0 2-.9 2-2V5c0-1.1-.9-2-2-2zM9 17H7v-7h2v7zm4 0h-2V7h2v10zm4 0h-2v-4h2v4z\"/>\n",
              "    </g>\n",
              "</svg>\n",
              "  </button>\n",
              "\n",
              "<style>\n",
              "  .colab-df-quickchart {\n",
              "      --bg-color: #E8F0FE;\n",
              "      --fill-color: #1967D2;\n",
              "      --hover-bg-color: #E2EBFA;\n",
              "      --hover-fill-color: #174EA6;\n",
              "      --disabled-fill-color: #AAA;\n",
              "      --disabled-bg-color: #DDD;\n",
              "  }\n",
              "\n",
              "  [theme=dark] .colab-df-quickchart {\n",
              "      --bg-color: #3B4455;\n",
              "      --fill-color: #D2E3FC;\n",
              "      --hover-bg-color: #434B5C;\n",
              "      --hover-fill-color: #FFFFFF;\n",
              "      --disabled-bg-color: #3B4455;\n",
              "      --disabled-fill-color: #666;\n",
              "  }\n",
              "\n",
              "  .colab-df-quickchart {\n",
              "    background-color: var(--bg-color);\n",
              "    border: none;\n",
              "    border-radius: 50%;\n",
              "    cursor: pointer;\n",
              "    display: none;\n",
              "    fill: var(--fill-color);\n",
              "    height: 32px;\n",
              "    padding: 0;\n",
              "    width: 32px;\n",
              "  }\n",
              "\n",
              "  .colab-df-quickchart:hover {\n",
              "    background-color: var(--hover-bg-color);\n",
              "    box-shadow: 0 1px 2px rgba(60, 64, 67, 0.3), 0 1px 3px 1px rgba(60, 64, 67, 0.15);\n",
              "    fill: var(--button-hover-fill-color);\n",
              "  }\n",
              "\n",
              "  .colab-df-quickchart-complete:disabled,\n",
              "  .colab-df-quickchart-complete:disabled:hover {\n",
              "    background-color: var(--disabled-bg-color);\n",
              "    fill: var(--disabled-fill-color);\n",
              "    box-shadow: none;\n",
              "  }\n",
              "\n",
              "  .colab-df-spinner {\n",
              "    border: 2px solid var(--fill-color);\n",
              "    border-color: transparent;\n",
              "    border-bottom-color: var(--fill-color);\n",
              "    animation:\n",
              "      spin 1s steps(1) infinite;\n",
              "  }\n",
              "\n",
              "  @keyframes spin {\n",
              "    0% {\n",
              "      border-color: transparent;\n",
              "      border-bottom-color: var(--fill-color);\n",
              "      border-left-color: var(--fill-color);\n",
              "    }\n",
              "    20% {\n",
              "      border-color: transparent;\n",
              "      border-left-color: var(--fill-color);\n",
              "      border-top-color: var(--fill-color);\n",
              "    }\n",
              "    30% {\n",
              "      border-color: transparent;\n",
              "      border-left-color: var(--fill-color);\n",
              "      border-top-color: var(--fill-color);\n",
              "      border-right-color: var(--fill-color);\n",
              "    }\n",
              "    40% {\n",
              "      border-color: transparent;\n",
              "      border-right-color: var(--fill-color);\n",
              "      border-top-color: var(--fill-color);\n",
              "    }\n",
              "    60% {\n",
              "      border-color: transparent;\n",
              "      border-right-color: var(--fill-color);\n",
              "    }\n",
              "    80% {\n",
              "      border-color: transparent;\n",
              "      border-right-color: var(--fill-color);\n",
              "      border-bottom-color: var(--fill-color);\n",
              "    }\n",
              "    90% {\n",
              "      border-color: transparent;\n",
              "      border-bottom-color: var(--fill-color);\n",
              "    }\n",
              "  }\n",
              "</style>\n",
              "\n",
              "  <script>\n",
              "    async function quickchart(key) {\n",
              "      const quickchartButtonEl =\n",
              "        document.querySelector('#' + key + ' button');\n",
              "      quickchartButtonEl.disabled = true;  // To prevent multiple clicks.\n",
              "      quickchartButtonEl.classList.add('colab-df-spinner');\n",
              "      try {\n",
              "        const charts = await google.colab.kernel.invokeFunction(\n",
              "            'suggestCharts', [key], {});\n",
              "      } catch (error) {\n",
              "        console.error('Error during call to suggestCharts:', error);\n",
              "      }\n",
              "      quickchartButtonEl.classList.remove('colab-df-spinner');\n",
              "      quickchartButtonEl.classList.add('colab-df-quickchart-complete');\n",
              "    }\n",
              "    (() => {\n",
              "      let quickchartButtonEl =\n",
              "        document.querySelector('#df-b8051d25-a2ee-44f2-a27c-2da58a14b2e1 button');\n",
              "      quickchartButtonEl.style.display =\n",
              "        google.colab.kernel.accessAllowed ? 'block' : 'none';\n",
              "    })();\n",
              "  </script>\n",
              "</div>\n",
              "\n",
              "  <div id=\"id_6d2adcc4-144c-40d1-8823-c512fa9abb6e\">\n",
              "    <style>\n",
              "      .colab-df-generate {\n",
              "        background-color: #E8F0FE;\n",
              "        border: none;\n",
              "        border-radius: 50%;\n",
              "        cursor: pointer;\n",
              "        display: none;\n",
              "        fill: #1967D2;\n",
              "        height: 32px;\n",
              "        padding: 0 0 0 0;\n",
              "        width: 32px;\n",
              "      }\n",
              "\n",
              "      .colab-df-generate:hover {\n",
              "        background-color: #E2EBFA;\n",
              "        box-shadow: 0px 1px 2px rgba(60, 64, 67, 0.3), 0px 1px 3px 1px rgba(60, 64, 67, 0.15);\n",
              "        fill: #174EA6;\n",
              "      }\n",
              "\n",
              "      [theme=dark] .colab-df-generate {\n",
              "        background-color: #3B4455;\n",
              "        fill: #D2E3FC;\n",
              "      }\n",
              "\n",
              "      [theme=dark] .colab-df-generate:hover {\n",
              "        background-color: #434B5C;\n",
              "        box-shadow: 0px 1px 3px 1px rgba(0, 0, 0, 0.15);\n",
              "        filter: drop-shadow(0px 1px 2px rgba(0, 0, 0, 0.3));\n",
              "        fill: #FFFFFF;\n",
              "      }\n",
              "    </style>\n",
              "    <button class=\"colab-df-generate\" onclick=\"generateWithVariable('df')\"\n",
              "            title=\"Generate code using this dataframe.\"\n",
              "            style=\"display:none;\">\n",
              "\n",
              "  <svg xmlns=\"http://www.w3.org/2000/svg\" height=\"24px\"viewBox=\"0 0 24 24\"\n",
              "       width=\"24px\">\n",
              "    <path d=\"M7,19H8.4L18.45,9,17,7.55,7,17.6ZM5,21V16.75L18.45,3.32a2,2,0,0,1,2.83,0l1.4,1.43a1.91,1.91,0,0,1,.58,1.4,1.91,1.91,0,0,1-.58,1.4L9.25,21ZM18.45,9,17,7.55Zm-12,3A5.31,5.31,0,0,0,4.9,8.1,5.31,5.31,0,0,0,1,6.5,5.31,5.31,0,0,0,4.9,4.9,5.31,5.31,0,0,0,6.5,1,5.31,5.31,0,0,0,8.1,4.9,5.31,5.31,0,0,0,12,6.5,5.46,5.46,0,0,0,6.5,12Z\"/>\n",
              "  </svg>\n",
              "    </button>\n",
              "    <script>\n",
              "      (() => {\n",
              "      const buttonEl =\n",
              "        document.querySelector('#id_6d2adcc4-144c-40d1-8823-c512fa9abb6e button.colab-df-generate');\n",
              "      buttonEl.style.display =\n",
              "        google.colab.kernel.accessAllowed ? 'block' : 'none';\n",
              "\n",
              "      buttonEl.onclick = () => {\n",
              "        google.colab.notebook.generateWithVariable('df');\n",
              "      }\n",
              "      })();\n",
              "    </script>\n",
              "  </div>\n",
              "\n",
              "    </div>\n",
              "  </div>\n"
            ],
            "application/vnd.google.colaboratory.intrinsic+json": {
              "type": "dataframe",
              "variable_name": "df"
            }
          },
          "metadata": {},
          "execution_count": 20
        }
      ]
    },
    {
      "cell_type": "markdown",
      "source": [
        "####Question 2"
      ],
      "metadata": {
        "id": "C9UZFmGGXMlK"
      }
    },
    {
      "cell_type": "code",
      "source": [
        "import nltk\n",
        "nltk.download('punkt')\n",
        "nltk.download('stopwords')"
      ],
      "metadata": {
        "colab": {
          "base_uri": "https://localhost:8080/"
        },
        "id": "Mz_Cvpzlda3u",
        "outputId": "ff2b0826-b762-45d7-ba9e-82f32437d99d"
      },
      "execution_count": 38,
      "outputs": [
        {
          "output_type": "stream",
          "name": "stderr",
          "text": [
            "[nltk_data] Downloading package punkt to /root/nltk_data...\n",
            "[nltk_data]   Package punkt is already up-to-date!\n",
            "[nltk_data] Downloading package stopwords to /root/nltk_data...\n",
            "[nltk_data]   Unzipping corpora/stopwords.zip.\n"
          ]
        },
        {
          "output_type": "execute_result",
          "data": {
            "text/plain": [
              "True"
            ]
          },
          "metadata": {},
          "execution_count": 38
        }
      ]
    },
    {
      "cell_type": "code",
      "source": [
        "import seaborn as sns\n",
        "import matplotlib.pyplot as plt\n",
        "from nltk.tokenize import word_tokenize\n",
        "from nltk.corpus import stopwords\n",
        "from nltk.stem import PorterStemmer"
      ],
      "metadata": {
        "id": "Azag3ZN_XKgu"
      },
      "execution_count": 21,
      "outputs": []
    },
    {
      "cell_type": "markdown",
      "source": [
        "Read the dataset"
      ],
      "metadata": {
        "id": "dFMQ9UWWX7w_"
      }
    },
    {
      "cell_type": "code",
      "source": [
        "df = pd.read_csv('spam_messages.csv')\n"
      ],
      "metadata": {
        "id": "_YKA9dS0X5U7"
      },
      "execution_count": 22,
      "outputs": []
    },
    {
      "cell_type": "code",
      "source": [
        "df.columns"
      ],
      "metadata": {
        "colab": {
          "base_uri": "https://localhost:8080/"
        },
        "id": "vFtbt76OYA21",
        "outputId": "3b3c6a45-168c-46f7-b8c1-c229f18ae704"
      },
      "execution_count": 23,
      "outputs": [
        {
          "output_type": "execute_result",
          "data": {
            "text/plain": [
              "Index(['Category', 'Message'], dtype='object')"
            ]
          },
          "metadata": {},
          "execution_count": 23
        }
      ]
    },
    {
      "cell_type": "markdown",
      "source": [
        "Seperate the input and output data"
      ],
      "metadata": {
        "id": "TA7UD34HYKBT"
      }
    },
    {
      "cell_type": "code",
      "source": [
        "features = df['Message']  # input data\n",
        "Category = df['Category']    # output data"
      ],
      "metadata": {
        "id": "jovMQmQiYF7y"
      },
      "execution_count": 24,
      "outputs": []
    },
    {
      "cell_type": "code",
      "source": [
        "features.head()"
      ],
      "metadata": {
        "colab": {
          "base_uri": "https://localhost:8080/"
        },
        "id": "yuGwoNqFYRfo",
        "outputId": "5d5cbe82-7b7c-4e55-fc06-61211389ef77"
      },
      "execution_count": 25,
      "outputs": [
        {
          "output_type": "execute_result",
          "data": {
            "text/plain": [
              "0    Go until jurong point, crazy.. Available only ...\n",
              "1                        Ok lar... Joking wif u oni...\n",
              "2    Free entry in 2 a wkly comp to win FA Cup fina...\n",
              "3    U dun say so early hor... U c already then say...\n",
              "4    Nah I don't think he goes to usf, he lives aro...\n",
              "Name: Message, dtype: object"
            ]
          },
          "metadata": {},
          "execution_count": 25
        }
      ]
    },
    {
      "cell_type": "markdown",
      "source": [
        "Explore the output data"
      ],
      "metadata": {
        "id": "LQIKgrXQZMbU"
      }
    },
    {
      "cell_type": "code",
      "source": [
        "Category"
      ],
      "metadata": {
        "colab": {
          "base_uri": "https://localhost:8080/"
        },
        "id": "m1IMHqhfYTG8",
        "outputId": "bbc2a9a8-3f7c-48b1-86ee-3e693faa82bf"
      },
      "execution_count": 26,
      "outputs": [
        {
          "output_type": "execute_result",
          "data": {
            "text/plain": [
              "0        ham\n",
              "1        ham\n",
              "2       spam\n",
              "3        ham\n",
              "4        ham\n",
              "        ... \n",
              "5567    spam\n",
              "5568     ham\n",
              "5569     ham\n",
              "5570     ham\n",
              "5571     ham\n",
              "Name: Category, Length: 5572, dtype: object"
            ]
          },
          "metadata": {},
          "execution_count": 26
        }
      ]
    },
    {
      "cell_type": "code",
      "source": [
        "set(Category)"
      ],
      "metadata": {
        "colab": {
          "base_uri": "https://localhost:8080/"
        },
        "id": "4DgcakMUYqth",
        "outputId": "ffead868-0b7e-4636-cff0-e43469c5a701"
      },
      "execution_count": 27,
      "outputs": [
        {
          "output_type": "execute_result",
          "data": {
            "text/plain": [
              "{'ham', 'spam'}"
            ]
          },
          "metadata": {},
          "execution_count": 27
        }
      ]
    },
    {
      "cell_type": "code",
      "source": [
        "sns.countplot(x = Category)"
      ],
      "metadata": {
        "colab": {
          "base_uri": "https://localhost:8080/",
          "height": 468
        },
        "id": "lm5AnvEVZFJs",
        "outputId": "07ed33ad-df1a-40d3-8c3f-05c8c89ae6a9"
      },
      "execution_count": 28,
      "outputs": [
        {
          "output_type": "execute_result",
          "data": {
            "text/plain": [
              "<Axes: xlabel='Category', ylabel='count'>"
            ]
          },
          "metadata": {},
          "execution_count": 28
        },
        {
          "output_type": "display_data",
          "data": {
            "text/plain": [
              "<Figure size 640x480 with 1 Axes>"
            ],
            "image/png": "[encoded data removed]"
          },
          "metadata": {}
        }
      ]
    },
    {
      "cell_type": "code",
      "source": [
        "Category.value_counts()\n"
      ],
      "metadata": {
        "colab": {
          "base_uri": "https://localhost:8080/"
        },
        "id": "H3BI59CCZSy_",
        "outputId": "df10eb72-af73-42df-ae75-f1d0b33a909a"
      },
      "execution_count": 29,
      "outputs": [
        {
          "output_type": "execute_result",
          "data": {
            "text/plain": [
              "Category\n",
              "ham     4825\n",
              "spam     747\n",
              "Name: count, dtype: int64"
            ]
          },
          "metadata": {},
          "execution_count": 29
        }
      ]
    },
    {
      "cell_type": "code",
      "source": [
        "plt.pie(Category.value_counts(), labels = Category.value_counts().index, autopct='%2.2f%%');\n"
      ],
      "metadata": {
        "colab": {
          "base_uri": "https://localhost:8080/",
          "height": 406
        },
        "id": "-Z7A8_IQZWeI",
        "outputId": "1d22f7c5-51da-45dc-f66a-e983dab45dec"
      },
      "execution_count": 30,
      "outputs": [
        {
          "output_type": "display_data",
          "data": {
            "text/plain": [
              "<Figure size 640x480 with 1 Axes>"
            ],
            "image/png": "[encoded data removed]"
          },
          "metadata": {}
        }
      ]
    },
    {
      "cell_type": "markdown",
      "source": [
        "Prepare and vectorize the data"
      ],
      "metadata": {
        "id": "eWseie8wZqzz"
      }
    },
    {
      "cell_type": "code",
      "source": [
        "from sklearn.feature_extraction.text import TfidfVectorizer"
      ],
      "metadata": {
        "id": "6MtV8aaHfblL"
      },
      "execution_count": 53,
      "outputs": []
    },
    {
      "cell_type": "code",
      "source": [
        "swords = stopwords.words('english')"
      ],
      "metadata": {
        "id": "dgeNjIDNd14t"
      },
      "execution_count": 39,
      "outputs": []
    },
    {
      "cell_type": "code",
      "source": [
        "ps = PorterStemmer()"
      ],
      "metadata": {
        "id": "OJS5BIM5e7_T"
      },
      "execution_count": 44,
      "outputs": []
    },
    {
      "cell_type": "code",
      "source": [
        "def clean_text(sent):\n",
        "    tokens1 = word_tokenize(sent)\n",
        "    tokens2 = [x.lower() for x in tokens1 if x.isalpha()]\n",
        "    tokens3 = [x for x in tokens2 if x not in swords]\n",
        "    tokens4 = [ps.stem(x) for x in tokens3]\n",
        "    return tokens4"
      ],
      "metadata": {
        "id": "e9rh-aq0Zb3m"
      },
      "execution_count": 45,
      "outputs": []
    },
    {
      "cell_type": "code",
      "source": [
        "sent = 'It was the expected result. Like it'"
      ],
      "metadata": {
        "id": "pp_7ak6Uc2Pw"
      },
      "execution_count": 50,
      "outputs": []
    },
    {
      "cell_type": "code",
      "source": [
        "clean_text(sent)"
      ],
      "metadata": {
        "colab": {
          "base_uri": "https://localhost:8080/"
        },
        "id": "Xyuxis0IdAhi",
        "outputId": "8451dbda-7e32-42b4-edf6-46154e8be775"
      },
      "execution_count": 51,
      "outputs": [
        {
          "output_type": "execute_result",
          "data": {
            "text/plain": [
              "['expect', 'result', 'like']"
            ]
          },
          "metadata": {},
          "execution_count": 51
        }
      ]
    },
    {
      "cell_type": "code",
      "source": [
        "clean_text(features[123])"
      ],
      "metadata": {
        "colab": {
          "base_uri": "https://localhost:8080/"
        },
        "id": "FwTczA95dCZR",
        "outputId": "8573308b-4517-48de-d019-9d5bd0f1289b"
      },
      "execution_count": 52,
      "outputs": [
        {
          "output_type": "execute_result",
          "data": {
            "text/plain": [
              "['today',\n",
              " 'voda',\n",
              " 'number',\n",
              " 'end',\n",
              " 'select',\n",
              " 'receiv',\n",
              " 'award',\n",
              " 'match',\n",
              " 'pleas',\n",
              " 'call',\n",
              " 'quot',\n",
              " 'claim',\n",
              " 'code',\n",
              " 'standard',\n",
              " 'rate',\n",
              " 'app']"
            ]
          },
          "metadata": {},
          "execution_count": 52
        }
      ]
    },
    {
      "cell_type": "code",
      "source": [
        "tfidf = TfidfVectorizer(analyzer=clean_text)\n"
      ],
      "metadata": {
        "id": "QWEA9pB_fQM8"
      },
      "execution_count": 54,
      "outputs": []
    },
    {
      "cell_type": "code",
      "source": [
        "# perform the operation\n",
        "features_new = tfidf.fit_transform(features)"
      ],
      "metadata": {
        "id": "ZPkpkN9XffSf"
      },
      "execution_count": 55,
      "outputs": []
    },
    {
      "cell_type": "code",
      "source": [
        "features_new.shape\n"
      ],
      "metadata": {
        "colab": {
          "base_uri": "https://localhost:8080/"
        },
        "id": "v14EQf7PfhFk",
        "outputId": "3561692c-599e-44b0-d7f5-b860168ab343"
      },
      "execution_count": 56,
      "outputs": [
        {
          "output_type": "execute_result",
          "data": {
            "text/plain": [
              "(5572, 5926)"
            ]
          },
          "metadata": {},
          "execution_count": 56
        }
      ]
    },
    {
      "cell_type": "code",
      "source": [
        "len(tfidf.get_feature_names_out())\n"
      ],
      "metadata": {
        "colab": {
          "base_uri": "https://localhost:8080/"
        },
        "id": "fUH80sykfjl7",
        "outputId": "27a1bdbe-cace-4ca8-f4cb-281a58d9b523"
      },
      "execution_count": 57,
      "outputs": [
        {
          "output_type": "execute_result",
          "data": {
            "text/plain": [
              "5926"
            ]
          },
          "metadata": {},
          "execution_count": 57
        }
      ]
    },
    {
      "cell_type": "markdown",
      "source": [
        "Perform Cross Validation"
      ],
      "metadata": {
        "id": "1SXgW6e_f_NJ"
      }
    },
    {
      "cell_type": "code",
      "source": [
        "#importing the function\n",
        "from sklearn.model_selection import train_test_split\n"
      ],
      "metadata": {
        "id": "3Z2KtSggfll-"
      },
      "execution_count": 58,
      "outputs": []
    },
    {
      "cell_type": "code",
      "source": [
        "#performing cross validation\n",
        "x_train, x_test, y_train, y_test = train_test_split(features_new, Category, random_state=0)\n"
      ],
      "metadata": {
        "id": "yA9zkF3fgFXk"
      },
      "execution_count": 60,
      "outputs": []
    },
    {
      "cell_type": "code",
      "source": [
        "x_train.shape\n"
      ],
      "metadata": {
        "colab": {
          "base_uri": "https://localhost:8080/"
        },
        "id": "lDXLgOYhgI4V",
        "outputId": "118f41bf-290d-4678-fe55-c3a49c363676"
      },
      "execution_count": 61,
      "outputs": [
        {
          "output_type": "execute_result",
          "data": {
            "text/plain": [
              "(4179, 5926)"
            ]
          },
          "metadata": {},
          "execution_count": 61
        }
      ]
    },
    {
      "cell_type": "code",
      "source": [
        "x_test.shape\n"
      ],
      "metadata": {
        "colab": {
          "base_uri": "https://localhost:8080/"
        },
        "id": "FHBs7vHPgNVA",
        "outputId": "7ce44001-a8d0-43c3-ca7b-e845fe03c0fe"
      },
      "execution_count": 62,
      "outputs": [
        {
          "output_type": "execute_result",
          "data": {
            "text/plain": [
              "(1393, 5926)"
            ]
          },
          "metadata": {},
          "execution_count": 62
        }
      ]
    },
    {
      "cell_type": "code",
      "source": [
        "y_train.shape\n"
      ],
      "metadata": {
        "colab": {
          "base_uri": "https://localhost:8080/"
        },
        "id": "S_Ipgt3xgOxo",
        "outputId": "4d0748e0-8986-4047-d1ee-f7c3bc33740c"
      },
      "execution_count": 63,
      "outputs": [
        {
          "output_type": "execute_result",
          "data": {
            "text/plain": [
              "(4179,)"
            ]
          },
          "metadata": {},
          "execution_count": 63
        }
      ]
    },
    {
      "cell_type": "code",
      "source": [
        "y_test.shape\n"
      ],
      "metadata": {
        "colab": {
          "base_uri": "https://localhost:8080/"
        },
        "id": "L_Ftcn1EgQSC",
        "outputId": "58418d6a-288d-4ad0-b5b3-cf2058c8a423"
      },
      "execution_count": 98,
      "outputs": [
        {
          "output_type": "execute_result",
          "data": {
            "text/plain": [
              "(1393,)"
            ]
          },
          "metadata": {},
          "execution_count": 98
        }
      ]
    },
    {
      "cell_type": "code",
      "source": [
        "x_train[16]\n"
      ],
      "metadata": {
        "colab": {
          "base_uri": "https://localhost:8080/"
        },
        "id": "BGS9VO19m0fN",
        "outputId": "d618ea81-7b36-4b9c-d0b9-966fe9d19879"
      },
      "execution_count": 79,
      "outputs": [
        {
          "output_type": "execute_result",
          "data": {
            "text/plain": [
              "<1x5926 sparse matrix of type '<class 'numpy.float64'>'\n",
              "\twith 13 stored elements in Compressed Sparse Row format>"
            ]
          },
          "metadata": {},
          "execution_count": 79
        }
      ]
    },
    {
      "cell_type": "code",
      "source": [
        "y_train[16]"
      ],
      "metadata": {
        "colab": {
          "base_uri": "https://localhost:8080/",
          "height": 35
        },
        "id": "8lpiNv3vm1-z",
        "outputId": "57e8af86-dfb6-4bf2-d39b-842d0c284e1c"
      },
      "execution_count": 80,
      "outputs": [
        {
          "output_type": "execute_result",
          "data": {
            "text/plain": [
              "'ham'"
            ],
            "application/vnd.google.colaboratory.intrinsic+json": {
              "type": "string"
            }
          },
          "metadata": {},
          "execution_count": 80
        }
      ]
    },
    {
      "cell_type": "markdown",
      "source": [
        "Build the decision tree model for classification"
      ],
      "metadata": {
        "id": "emqyMs48gW0Y"
      }
    },
    {
      "cell_type": "code",
      "source": [
        "#importing the class\n",
        "from sklearn.tree import DecisionTreeClassifier\n"
      ],
      "metadata": {
        "id": "SgO3dt1TgSDC"
      },
      "execution_count": 65,
      "outputs": []
    },
    {
      "cell_type": "code",
      "source": [
        "from sklearn.tree import plot_tree\n"
      ],
      "metadata": {
        "id": "Hg1TBElxm-QO"
      },
      "execution_count": 81,
      "outputs": []
    },
    {
      "cell_type": "code",
      "source": [
        "# create the object\n",
        "dt = DecisionTreeClassifier(random_state=0)"
      ],
      "metadata": {
        "id": "fzLHp293gh3X"
      },
      "execution_count": 66,
      "outputs": []
    },
    {
      "cell_type": "code",
      "source": [
        "# train the algorithm\n",
        "dt.fit(x_train, y_train)"
      ],
      "metadata": {
        "colab": {
          "base_uri": "https://localhost:8080/",
          "height": 75
        },
        "id": "8hrUfvAkgjcC",
        "outputId": "bc530f05-1dad-4024-8c95-66154c7a7077"
      },
      "execution_count": 84,
      "outputs": [
        {
          "output_type": "execute_result",
          "data": {
            "text/plain": [
              "DecisionTreeClassifier(max_depth=10)"
            ],
            "text/html": [
              "<style>#sk-container-id-2 {color: black;background-color: white;}#sk-container-id-2 pre{padding: 0;}#sk-container-id-2 div.sk-toggleable {background-color: white;}#sk-container-id-2 label.sk-toggleable__label {cursor: pointer;display: block;width: 100%;margin-bottom: 0;padding: 0.3em;box-sizing: border-box;text-align: center;}#sk-container-id-2 label.sk-toggleable__label-arrow:before {content: \"▸\";float: left;margin-right: 0.25em;color: #696969;}#sk-container-id-2 label.sk-toggleable__label-arrow:hover:before {color: black;}#sk-container-id-2 div.sk-estimator:hover label.sk-toggleable__label-arrow:before {color: black;}#sk-container-id-2 div.sk-toggleable__content {max-height: 0;max-width: 0;overflow: hidden;text-align: left;background-color: #f0f8ff;}#sk-container-id-2 div.sk-toggleable__content pre {margin: 0.2em;color: black;border-radius: 0.25em;background-color: #f0f8ff;}#sk-container-id-2 input.sk-toggleable__control:checked~div.sk-toggleable__content {max-height: 200px;max-width: 100%;overflow: auto;}#sk-container-id-2 input.sk-toggleable__control:checked~label.sk-toggleable__label-arrow:before {content: \"▾\";}#sk-container-id-2 div.sk-estimator input.sk-toggleable__control:checked~label.sk-toggleable__label {background-color: #d4ebff;}#sk-container-id-2 div.sk-label input.sk-toggleable__control:checked~label.sk-toggleable__label {background-color: #d4ebff;}#sk-container-id-2 input.sk-hidden--visually {border: 0;clip: rect(1px 1px 1px 1px);clip: rect(1px, 1px, 1px, 1px);height: 1px;margin: -1px;overflow: hidden;padding: 0;position: absolute;width: 1px;}#sk-container-id-2 div.sk-estimator {font-family: monospace;background-color: #f0f8ff;border: 1px dotted black;border-radius: 0.25em;box-sizing: border-box;margin-bottom: 0.5em;}#sk-container-id-2 div.sk-estimator:hover {background-color: #d4ebff;}#sk-container-id-2 div.sk-parallel-item::after {content: \"\";width: 100%;border-bottom: 1px solid gray;flex-grow: 1;}#sk-container-id-2 div.sk-label:hover label.sk-toggleable__label {background-color: #d4ebff;}#sk-container-id-2 div.sk-serial::before {content: \"\";position: absolute;border-left: 1px solid gray;box-sizing: border-box;top: 0;bottom: 0;left: 50%;z-index: 0;}#sk-container-id-2 div.sk-serial {display: flex;flex-direction: column;align-items: center;background-color: white;padding-right: 0.2em;padding-left: 0.2em;position: relative;}#sk-container-id-2 div.sk-item {position: relative;z-index: 1;}#sk-container-id-2 div.sk-parallel {display: flex;align-items: stretch;justify-content: center;background-color: white;position: relative;}#sk-container-id-2 div.sk-item::before, #sk-container-id-2 div.sk-parallel-item::before {content: \"\";position: absolute;border-left: 1px solid gray;box-sizing: border-box;top: 0;bottom: 0;left: 50%;z-index: -1;}#sk-container-id-2 div.sk-parallel-item {display: flex;flex-direction: column;z-index: 1;position: relative;background-color: white;}#sk-container-id-2 div.sk-parallel-item:first-child::after {align-self: flex-end;width: 50%;}#sk-container-id-2 div.sk-parallel-item:last-child::after {align-self: flex-start;width: 50%;}#sk-container-id-2 div.sk-parallel-item:only-child::after {width: 0;}#sk-container-id-2 div.sk-dashed-wrapped {border: 1px dashed gray;margin: 0 0.4em 0.5em 0.4em;box-sizing: border-box;padding-bottom: 0.4em;background-color: white;}#sk-container-id-2 div.sk-label label {font-family: monospace;font-weight: bold;display: inline-block;line-height: 1.2em;}#sk-container-id-2 div.sk-label-container {text-align: center;}#sk-container-id-2 div.sk-container {/* jupyter's `normalize.less` sets `[hidden] { display: none; }` but bootstrap.min.css set `[hidden] { display: none !important; }` so we also need the `!important` here to be able to override the default hidden behavior on the sphinx rendered scikit-learn.org. See: https://github.com/scikit-learn/scikit-learn/issues/21755 */display: inline-block !important;position: relative;}#sk-container-id-2 div.sk-text-repr-fallback {display: none;}</style><div id=\"sk-container-id-2\" class=\"sk-top-container\"><div class=\"sk-text-repr-fallback\"><pre>DecisionTreeClassifier(max_depth=10)</pre><b>In a Jupyter environment, please rerun this cell to show the HTML representation or trust the notebook. <br />On GitHub, the HTML representation is unable to render, please try loading this page with nbviewer.org.</b></div><div class=\"sk-container\" hidden><div class=\"sk-item\"><div class=\"sk-estimator sk-toggleable\"><input class=\"sk-toggleable__control sk-hidden--visually\" id=\"sk-estimator-id-2\" type=\"checkbox\" checked><label for=\"sk-estimator-id-2\" class=\"sk-toggleable__label sk-toggleable__label-arrow\">DecisionTreeClassifier</label><div class=\"sk-toggleable__content\"><pre>DecisionTreeClassifier(max_depth=10)</pre></div></div></div></div></div>"
            ]
          },
          "metadata": {},
          "execution_count": 84
        }
      ]
    },
    {
      "cell_type": "code",
      "source": [
        "plt.figure(figsize=(16,10))\n",
        "plot_tree(dt, fontsize=7)\n"
      ],
      "metadata": {
        "colab": {
          "base_uri": "https://localhost:8080/",
          "height": 1000
        },
        "id": "QFWJI09Jmy5G",
        "outputId": "b198d280-141e-4f1b-cc31-17d36b4af4e9"
      },
      "execution_count": 92,
      "outputs": [
        {
          "output_type": "execute_result",
          "data": {
            "text/plain": [
              "[Text(0.7001953125, 0.9545454545454546, 'x[756] <= 0.102\\ngini = 0.233\\nsamples = 4179\\nvalue = [3617, 562]'),\n",
              " Text(0.525390625, 0.8636363636363636, 'x[5373] <= 0.061\\ngini = 0.159\\nsamples = 3760\\nvalue = [3432, 328]'),\n",
              " Text(0.39453125, 0.7727272727272727, 'x[4217] <= 0.103\\ngini = 0.116\\nsamples = 3648\\nvalue = [3422, 226]'),\n",
              " Text(0.2734375, 0.6818181818181818, 'x[5118] <= 0.121\\ngini = 0.097\\nsamples = 3576\\nvalue = [3393, 183]'),\n",
              " Text(0.171875, 0.5909090909090909, 'x[2395] <= 0.102\\ngini = 0.076\\nsamples = 3475\\nvalue = [3338, 137]'),\n",
              " Text(0.15625, 0.5, 'x[936] <= 0.075\\ngini = 0.069\\nsamples = 3461\\nvalue = [3338, 123]'),\n",
              " Text(0.140625, 0.4090909090909091, 'x[5259] <= 0.081\\ngini = 0.064\\nsamples = 3452\\nvalue = [3338, 114]'),\n",
              " Text(0.125, 0.3181818181818182, 'x[1920] <= 0.096\\ngini = 0.06\\nsamples = 3444\\nvalue = [3338, 106]'),\n",
              " Text(0.0625, 0.22727272727272727, 'x[1174] <= 0.247\\ngini = 0.05\\nsamples = 3400\\nvalue = [3312, 88]'),\n",
              " Text(0.03125, 0.13636363636363635, 'x[4127] <= 0.152\\ngini = 0.047\\nsamples = 3392\\nvalue = [3311, 81]'),\n",
              " Text(0.015625, 0.045454545454545456, 'gini = 0.043\\nsamples = 3386\\nvalue = [3311, 75]'),\n",
              " Text(0.046875, 0.045454545454545456, 'gini = 0.0\\nsamples = 6\\nvalue = [0, 6]'),\n",
              " Text(0.09375, 0.13636363636363635, 'x[162] <= 0.212\\ngini = 0.219\\nsamples = 8\\nvalue = [1, 7]'),\n",
              " Text(0.078125, 0.045454545454545456, 'gini = 0.0\\nsamples = 7\\nvalue = [0, 7]'),\n",
              " Text(0.109375, 0.045454545454545456, 'gini = 0.0\\nsamples = 1\\nvalue = [1, 0]'),\n",
              " Text(0.1875, 0.22727272727272727, 'x[1920] <= 0.161\\ngini = 0.483\\nsamples = 44\\nvalue = [26, 18]'),\n",
              " Text(0.15625, 0.13636363636363635, 'x[2773] <= 0.071\\ngini = 0.198\\nsamples = 9\\nvalue = [1, 8]'),\n",
              " Text(0.140625, 0.045454545454545456, 'gini = 0.0\\nsamples = 8\\nvalue = [0, 8]'),\n",
              " Text(0.171875, 0.045454545454545456, 'gini = 0.0\\nsamples = 1\\nvalue = [1, 0]'),\n",
              " Text(0.21875, 0.13636363636363635, 'x[1013] <= 0.168\\ngini = 0.408\\nsamples = 35\\nvalue = [25, 10]'),\n",
              " Text(0.203125, 0.045454545454545456, 'gini = 0.342\\nsamples = 32\\nvalue = [25, 7]'),\n",
              " Text(0.234375, 0.045454545454545456, 'gini = 0.0\\nsamples = 3\\nvalue = [0, 3]'),\n",
              " Text(0.15625, 0.3181818181818182, 'gini = 0.0\\nsamples = 8\\nvalue = [0, 8]'),\n",
              " Text(0.171875, 0.4090909090909091, 'gini = 0.0\\nsamples = 9\\nvalue = [0, 9]'),\n",
              " Text(0.1875, 0.5, 'gini = 0.0\\nsamples = 14\\nvalue = [0, 14]'),\n",
              " Text(0.375, 0.5909090909090909, 'x[5118] <= 0.203\\ngini = 0.496\\nsamples = 101\\nvalue = [55, 46]'),\n",
              " Text(0.34375, 0.5, 'x[2773] <= 0.073\\ngini = 0.401\\nsamples = 36\\nvalue = [10, 26]'),\n",
              " Text(0.328125, 0.4090909090909091, 'x[13] <= 0.161\\ngini = 0.36\\nsamples = 34\\nvalue = [8, 26]'),\n",
              " Text(0.3125, 0.3181818181818182, 'x[5208] <= 0.069\\ngini = 0.305\\nsamples = 32\\nvalue = [6, 26]'),\n",
              " Text(0.296875, 0.22727272727272727, 'x[615] <= 0.121\\ngini = 0.231\\nsamples = 30\\nvalue = [4, 26]'),\n",
              " Text(0.28125, 0.13636363636363635, 'x[569] <= 0.158\\ngini = 0.185\\nsamples = 29\\nvalue = [3, 26]'),\n",
              " Text(0.265625, 0.045454545454545456, 'gini = 0.133\\nsamples = 28\\nvalue = [2, 26]'),\n",
              " Text(0.296875, 0.045454545454545456, 'gini = 0.0\\nsamples = 1\\nvalue = [1, 0]'),\n",
              " Text(0.3125, 0.13636363636363635, 'gini = 0.0\\nsamples = 1\\nvalue = [1, 0]'),\n",
              " Text(0.328125, 0.22727272727272727, 'gini = 0.0\\nsamples = 2\\nvalue = [2, 0]'),\n",
              " Text(0.34375, 0.3181818181818182, 'gini = 0.0\\nsamples = 2\\nvalue = [2, 0]'),\n",
              " Text(0.359375, 0.4090909090909091, 'gini = 0.0\\nsamples = 2\\nvalue = [2, 0]'),\n",
              " Text(0.40625, 0.5, 'x[4877] <= 0.075\\ngini = 0.426\\nsamples = 65\\nvalue = [45, 20]'),\n",
              " Text(0.390625, 0.4090909090909091, 'x[1090] <= 0.127\\ngini = 0.362\\nsamples = 59\\nvalue = [45, 14]'),\n",
              " Text(0.375, 0.3181818181818182, 'x[1920] <= 0.256\\ngini = 0.298\\nsamples = 55\\nvalue = [45, 10]'),\n",
              " Text(0.359375, 0.22727272727272727, 'x[3241] <= 0.085\\ngini = 0.233\\nsamples = 52\\nvalue = [45, 7]'),\n",
              " Text(0.34375, 0.13636363636363635, 'x[5552] <= 0.168\\ngini = 0.18\\nsamples = 50\\nvalue = [45, 5]'),\n",
              " Text(0.328125, 0.045454545454545456, 'gini = 0.15\\nsamples = 49\\nvalue = [45, 4]'),\n",
              " Text(0.359375, 0.045454545454545456, 'gini = 0.0\\nsamples = 1\\nvalue = [0, 1]'),\n",
              " Text(0.375, 0.13636363636363635, 'gini = 0.0\\nsamples = 2\\nvalue = [0, 2]'),\n",
              " Text(0.390625, 0.22727272727272727, 'gini = 0.0\\nsamples = 3\\nvalue = [0, 3]'),\n",
              " Text(0.40625, 0.3181818181818182, 'gini = 0.0\\nsamples = 4\\nvalue = [0, 4]'),\n",
              " Text(0.421875, 0.4090909090909091, 'gini = 0.0\\nsamples = 6\\nvalue = [0, 6]'),\n",
              " Text(0.515625, 0.6818181818181818, 'x[4877] <= 0.072\\ngini = 0.481\\nsamples = 72\\nvalue = [29, 43]'),\n",
              " Text(0.5, 0.5909090909090909, 'x[4217] <= 0.181\\ngini = 0.496\\nsamples = 53\\nvalue = [29, 24]'),\n",
              " Text(0.46875, 0.5, 'x[1889] <= 0.146\\ngini = 0.346\\nsamples = 18\\nvalue = [4, 14]'),\n",
              " Text(0.453125, 0.4090909090909091, 'x[5160] <= 0.076\\ngini = 0.219\\nsamples = 16\\nvalue = [2, 14]'),\n",
              " Text(0.4375, 0.3181818181818182, 'x[5089] <= 0.242\\ngini = 0.124\\nsamples = 15\\nvalue = [1, 14]'),\n",
              " Text(0.421875, 0.22727272727272727, 'gini = 0.0\\nsamples = 14\\nvalue = [0, 14]'),\n",
              " Text(0.453125, 0.22727272727272727, 'gini = 0.0\\nsamples = 1\\nvalue = [1, 0]'),\n",
              " Text(0.46875, 0.3181818181818182, 'gini = 0.0\\nsamples = 1\\nvalue = [1, 0]'),\n",
              " Text(0.484375, 0.4090909090909091, 'gini = 0.0\\nsamples = 2\\nvalue = [2, 0]'),\n",
              " Text(0.53125, 0.5, 'x[1920] <= 0.207\\ngini = 0.408\\nsamples = 35\\nvalue = [25, 10]'),\n",
              " Text(0.515625, 0.4090909090909091, 'x[3458] <= 0.136\\ngini = 0.278\\nsamples = 30\\nvalue = [25, 5]'),\n",
              " Text(0.5, 0.3181818181818182, 'x[103] <= 0.205\\ngini = 0.191\\nsamples = 28\\nvalue = [25, 3]'),\n",
              " Text(0.484375, 0.22727272727272727, 'x[190] <= 0.104\\ngini = 0.137\\nsamples = 27\\nvalue = [25, 2]'),\n",
              " Text(0.46875, 0.13636363636363635, 'x[36] <= 0.192\\ngini = 0.074\\nsamples = 26\\nvalue = [25, 1]'),\n",
              " Text(0.453125, 0.045454545454545456, 'gini = 0.0\\nsamples = 25\\nvalue = [25, 0]'),\n",
              " Text(0.484375, 0.045454545454545456, 'gini = 0.0\\nsamples = 1\\nvalue = [0, 1]'),\n",
              " Text(0.5, 0.13636363636363635, 'gini = 0.0\\nsamples = 1\\nvalue = [0, 1]'),\n",
              " Text(0.515625, 0.22727272727272727, 'gini = 0.0\\nsamples = 1\\nvalue = [0, 1]'),\n",
              " Text(0.53125, 0.3181818181818182, 'gini = 0.0\\nsamples = 2\\nvalue = [0, 2]'),\n",
              " Text(0.546875, 0.4090909090909091, 'gini = 0.0\\nsamples = 5\\nvalue = [0, 5]'),\n",
              " Text(0.53125, 0.5909090909090909, 'gini = 0.0\\nsamples = 19\\nvalue = [0, 19]'),\n",
              " Text(0.65625, 0.7727272727272727, 'x[2468] <= 0.222\\ngini = 0.163\\nsamples = 112\\nvalue = [10, 102]'),\n",
              " Text(0.640625, 0.6818181818181818, 'x[5606] <= 0.163\\ngini = 0.12\\nsamples = 109\\nvalue = [7, 102]'),\n",
              " Text(0.625, 0.5909090909090909, 'x[2984] <= 0.069\\ngini = 0.089\\nsamples = 107\\nvalue = [5, 102]'),\n",
              " Text(0.59375, 0.5, 'x[5385] <= 0.35\\ngini = 0.056\\nsamples = 104\\nvalue = [3, 101]'),\n",
              " Text(0.578125, 0.4090909090909091, 'x[1644] <= 0.237\\ngini = 0.038\\nsamples = 103\\nvalue = [2, 101]'),\n",
              " Text(0.5625, 0.3181818181818182, 'x[4282] <= 0.358\\ngini = 0.019\\nsamples = 102\\nvalue = [1, 101]'),\n",
              " Text(0.546875, 0.22727272727272727, 'gini = 0.0\\nsamples = 101\\nvalue = [0, 101]'),\n",
              " Text(0.578125, 0.22727272727272727, 'gini = 0.0\\nsamples = 1\\nvalue = [1, 0]'),\n",
              " Text(0.59375, 0.3181818181818182, 'gini = 0.0\\nsamples = 1\\nvalue = [1, 0]'),\n",
              " Text(0.609375, 0.4090909090909091, 'gini = 0.0\\nsamples = 1\\nvalue = [1, 0]'),\n",
              " Text(0.65625, 0.5, 'x[4457] <= 0.077\\ngini = 0.444\\nsamples = 3\\nvalue = [2, 1]'),\n",
              " Text(0.640625, 0.4090909090909091, 'gini = 0.0\\nsamples = 2\\nvalue = [2, 0]'),\n",
              " Text(0.671875, 0.4090909090909091, 'gini = 0.0\\nsamples = 1\\nvalue = [0, 1]'),\n",
              " Text(0.65625, 0.5909090909090909, 'gini = 0.0\\nsamples = 2\\nvalue = [2, 0]'),\n",
              " Text(0.671875, 0.6818181818181818, 'gini = 0.0\\nsamples = 3\\nvalue = [3, 0]'),\n",
              " Text(0.875, 0.8636363636363636, 'x[756] <= 0.198\\ngini = 0.493\\nsamples = 419\\nvalue = [185, 234]'),\n",
              " Text(0.78125, 0.7727272727272727, 'x[5385] <= 0.229\\ngini = 0.351\\nsamples = 247\\nvalue = [56, 191]'),\n",
              " Text(0.75, 0.6818181818181818, 'x[5092] <= 0.089\\ngini = 0.299\\nsamples = 230\\nvalue = [42, 188]'),\n",
              " Text(0.734375, 0.5909090909090909, 'x[2166] <= 0.091\\ngini = 0.265\\nsamples = 223\\nvalue = [35, 188]'),\n",
              " Text(0.71875, 0.5, 'x[2344] <= 0.082\\ngini = 0.237\\nsamples = 218\\nvalue = [30, 188]'),\n",
              " Text(0.703125, 0.4090909090909091, 'x[4916] <= 0.131\\ngini = 0.213\\nsamples = 214\\nvalue = [26, 188]'),\n",
              " Text(0.6875, 0.3181818181818182, 'x[2110] <= 0.091\\ngini = 0.194\\nsamples = 211\\nvalue = [23, 188]'),\n",
              " Text(0.671875, 0.22727272727272727, 'x[5658] <= 0.088\\ngini = 0.174\\nsamples = 208\\nvalue = [20, 188]'),\n",
              " Text(0.640625, 0.13636363636363635, 'x[5767] <= 0.115\\ngini = 0.153\\nsamples = 204\\nvalue = [17, 187]'),\n",
              " Text(0.625, 0.045454545454545456, 'gini = 0.137\\nsamples = 202\\nvalue = [15, 187]'),\n",
              " Text(0.65625, 0.045454545454545456, 'gini = 0.0\\nsamples = 2\\nvalue = [2, 0]'),\n",
              " Text(0.703125, 0.13636363636363635, 'x[4339] <= 0.14\\ngini = 0.375\\nsamples = 4\\nvalue = [3, 1]'),\n",
              " Text(0.6875, 0.045454545454545456, 'gini = 0.0\\nsamples = 3\\nvalue = [3, 0]'),\n",
              " Text(0.71875, 0.045454545454545456, 'gini = 0.0\\nsamples = 1\\nvalue = [0, 1]'),\n",
              " Text(0.703125, 0.22727272727272727, 'gini = 0.0\\nsamples = 3\\nvalue = [3, 0]'),\n",
              " Text(0.71875, 0.3181818181818182, 'gini = 0.0\\nsamples = 3\\nvalue = [3, 0]'),\n",
              " Text(0.734375, 0.4090909090909091, 'gini = 0.0\\nsamples = 4\\nvalue = [4, 0]'),\n",
              " Text(0.75, 0.5, 'gini = 0.0\\nsamples = 5\\nvalue = [5, 0]'),\n",
              " Text(0.765625, 0.5909090909090909, 'gini = 0.0\\nsamples = 7\\nvalue = [7, 0]'),\n",
              " Text(0.8125, 0.6818181818181818, 'x[756] <= 0.155\\ngini = 0.291\\nsamples = 17\\nvalue = [14, 3]'),\n",
              " Text(0.796875, 0.5909090909090909, 'gini = 0.0\\nsamples = 12\\nvalue = [12, 0]'),\n",
              " Text(0.828125, 0.5909090909090909, 'x[756] <= 0.171\\ngini = 0.48\\nsamples = 5\\nvalue = [2, 3]'),\n",
              " Text(0.8125, 0.5, 'gini = 0.0\\nsamples = 2\\nvalue = [0, 2]'),\n",
              " Text(0.84375, 0.5, 'x[4258] <= 0.237\\ngini = 0.444\\nsamples = 3\\nvalue = [2, 1]'),\n",
              " Text(0.828125, 0.4090909090909091, 'gini = 0.0\\nsamples = 2\\nvalue = [2, 0]'),\n",
              " Text(0.859375, 0.4090909090909091, 'gini = 0.0\\nsamples = 1\\nvalue = [0, 1]'),\n",
              " Text(0.96875, 0.7727272727272727, 'x[3241] <= 0.099\\ngini = 0.375\\nsamples = 172\\nvalue = [129, 43]'),\n",
              " Text(0.953125, 0.6818181818181818, 'x[3755] <= 0.102\\ngini = 0.336\\nsamples = 164\\nvalue = [129, 35]'),\n",
              " Text(0.9375, 0.5909090909090909, 'x[4475] <= 0.095\\ngini = 0.293\\nsamples = 157\\nvalue = [129, 28]'),\n",
              " Text(0.921875, 0.5, 'x[3165] <= 0.313\\ngini = 0.249\\nsamples = 151\\nvalue = [129, 22]'),\n",
              " Text(0.890625, 0.4090909090909091, 'x[4877] <= 0.168\\ngini = 0.189\\nsamples = 142\\nvalue = [127, 15]'),\n",
              " Text(0.875, 0.3181818181818182, 'x[936] <= 0.105\\ngini = 0.147\\nsamples = 138\\nvalue = [127, 11]'),\n",
              " Text(0.859375, 0.22727272727272727, 'x[5829] <= 0.125\\ngini = 0.111\\nsamples = 135\\nvalue = [127, 8]'),\n",
              " Text(0.84375, 0.13636363636363635, 'x[3414] <= 0.213\\ngini = 0.086\\nsamples = 133\\nvalue = [127, 6]'),\n",
              " Text(0.828125, 0.045454545454545456, 'gini = 0.059\\nsamples = 131\\nvalue = [127, 4]'),\n",
              " Text(0.859375, 0.045454545454545456, 'gini = 0.0\\nsamples = 2\\nvalue = [0, 2]'),\n",
              " Text(0.875, 0.13636363636363635, 'gini = 0.0\\nsamples = 2\\nvalue = [0, 2]'),\n",
              " Text(0.890625, 0.22727272727272727, 'gini = 0.0\\nsamples = 3\\nvalue = [0, 3]'),\n",
              " Text(0.90625, 0.3181818181818182, 'gini = 0.0\\nsamples = 4\\nvalue = [0, 4]'),\n",
              " Text(0.953125, 0.4090909090909091, 'x[756] <= 0.524\\ngini = 0.346\\nsamples = 9\\nvalue = [2, 7]'),\n",
              " Text(0.9375, 0.3181818181818182, 'gini = 0.0\\nsamples = 7\\nvalue = [0, 7]'),\n",
              " Text(0.96875, 0.3181818181818182, 'gini = 0.0\\nsamples = 2\\nvalue = [2, 0]'),\n",
              " Text(0.953125, 0.5, 'gini = 0.0\\nsamples = 6\\nvalue = [0, 6]'),\n",
              " Text(0.96875, 0.5909090909090909, 'gini = 0.0\\nsamples = 7\\nvalue = [0, 7]'),\n",
              " Text(0.984375, 0.6818181818181818, 'gini = 0.0\\nsamples = 8\\nvalue = [0, 8]')]"
            ]
          },
          "metadata": {},
          "execution_count": 92
        },
        {
          "output_type": "display_data",
          "data": {
            "text/plain": [
              "<Figure size 1600x1000 with 1 Axes>"
            ],
            "image/png": "[encoded data removed]"
          },
          "metadata": {}
        }
      ]
    },
    {
      "cell_type": "code",
      "source": [
        "tfidf.get_feature_names_out()[5118]\n"
      ],
      "metadata": {
        "colab": {
          "base_uri": "https://localhost:8080/",
          "height": 35
        },
        "id": "H1mONbJogpEU",
        "outputId": "20a9f081-681d-40a2-bd63-4e65a672f33d"
      },
      "execution_count": 94,
      "outputs": [
        {
          "output_type": "execute_result",
          "data": {
            "text/plain": [
              "'text'"
            ],
            "application/vnd.google.colaboratory.intrinsic+json": {
              "type": "string"
            }
          },
          "metadata": {},
          "execution_count": 94
        }
      ]
    },
    {
      "cell_type": "markdown",
      "source": [
        "Evaluate the performance of algorithm"
      ],
      "metadata": {
        "id": "pP7xzogFoIxK"
      }
    },
    {
      "cell_type": "code",
      "source": [
        "# predicting the result on test data\n",
        "y_pred = dt.predict(x_test)\n",
        "y_pred"
      ],
      "metadata": {
        "colab": {
          "base_uri": "https://localhost:8080/"
        },
        "id": "nhQ5HDNQoIXn",
        "outputId": "51a9a694-ef5b-4b1f-f723-3ed357583a12"
      },
      "execution_count": 96,
      "outputs": [
        {
          "output_type": "execute_result",
          "data": {
            "text/plain": [
              "array(['ham', 'spam', 'ham', ..., 'spam', 'ham', 'ham'], dtype=object)"
            ]
          },
          "metadata": {},
          "execution_count": 96
        }
      ]
    },
    {
      "cell_type": "code",
      "source": [
        "len(y_pred)\n"
      ],
      "metadata": {
        "colab": {
          "base_uri": "https://localhost:8080/"
        },
        "id": "dz07ySpEn8M_",
        "outputId": "59cd2812-96e5-4c69-96af-175ae16b0298"
      },
      "execution_count": 97,
      "outputs": [
        {
          "output_type": "execute_result",
          "data": {
            "text/plain": [
              "1393"
            ]
          },
          "metadata": {},
          "execution_count": 97
        }
      ]
    },
    {
      "cell_type": "code",
      "source": [
        "y_test\n"
      ],
      "metadata": {
        "colab": {
          "base_uri": "https://localhost:8080/"
        },
        "id": "k-S-LADGodq_",
        "outputId": "ad3d5d71-455a-4a64-c880-8306f5704200"
      },
      "execution_count": 99,
      "outputs": [
        {
          "output_type": "execute_result",
          "data": {
            "text/plain": [
              "4456     ham\n",
              "690     spam\n",
              "944      ham\n",
              "3768     ham\n",
              "1189     ham\n",
              "        ... \n",
              "1889     ham\n",
              "2250    spam\n",
              "2915    spam\n",
              "1282     ham\n",
              "1206     ham\n",
              "Name: Category, Length: 1393, dtype: object"
            ]
          },
          "metadata": {},
          "execution_count": 99
        }
      ]
    },
    {
      "cell_type": "code",
      "source": [
        "#implying confusion matrix to check the performance\n",
        "# import the class\n",
        "from sklearn.metrics import ConfusionMatrixDisplay"
      ],
      "metadata": {
        "id": "vV3eug-UonMP"
      },
      "execution_count": 100,
      "outputs": []
    },
    {
      "cell_type": "code",
      "source": [
        "# show the matrix\n",
        "ConfusionMatrixDisplay.from_predictions(y_test, y_pred);"
      ],
      "metadata": {
        "colab": {
          "base_uri": "https://localhost:8080/",
          "height": 449
        },
        "id": "1vsBmCP9pFC3",
        "outputId": "be15b5fe-29e9-4a13-ffda-e4a16f72cd69"
      },
      "execution_count": 101,
      "outputs": [
        {
          "output_type": "display_data",
          "data": {
            "text/plain": [
              "<Figure size 640x480 with 2 Axes>"
            ],
            "image/png": "[encoded data removed]"
          },
          "metadata": {}
        }
      ]
    },
    {
      "cell_type": "markdown",
      "source": [
        "Predict the category of mails from sample.csv"
      ],
      "metadata": {
        "id": "RVsyN9-ApTEy"
      }
    },
    {
      "cell_type": "code",
      "source": [
        "f = open('sample.csv', encoding = 'utf-8')\n",
        "mails = f.readlines()"
      ],
      "metadata": {
        "id": "CJinHswypGg3"
      },
      "execution_count": 105,
      "outputs": []
    },
    {
      "cell_type": "code",
      "source": [
        "mails"
      ],
      "metadata": {
        "colab": {
          "base_uri": "https://localhost:8080/"
        },
        "id": "4PICt_myp_a7",
        "outputId": "6aee105a-2454-46b5-caff-97136bb756bc"
      },
      "execution_count": 106,
      "outputs": [
        {
          "output_type": "execute_result",
          "data": {
            "text/plain": [
              "['Ok lar i double check wif da hair dresser already he said wun cut v short. He said will cut until i look nice.,,\\n',\n",
              " 'As a valued customer, I am pleased to advise you that following recent review of your Mob No. you are awarded with a £1500 Bonus Prize, call 09066364589\\n',\n",
              " '\"Today is \"\"song dedicated day..\"\" Which song will u dedicate for me? Send this to all ur valuable frnds but first rply me...\",,\\n']"
            ]
          },
          "metadata": {},
          "execution_count": 106
        }
      ]
    },
    {
      "cell_type": "code",
      "source": [
        "tfidf.transform(mails)"
      ],
      "metadata": {
        "colab": {
          "base_uri": "https://localhost:8080/"
        },
        "id": "0lV7W0IeqOjY",
        "outputId": "d7bfec99-df73-4061-a7ef-c1a997f10b1c"
      },
      "execution_count": 107,
      "outputs": [
        {
          "output_type": "execute_result",
          "data": {
            "text/plain": [
              "<3x5926 sparse matrix of type '<class 'numpy.float64'>'\n",
              "\twith 38 stored elements in Compressed Sparse Row format>"
            ]
          },
          "metadata": {},
          "execution_count": 107
        }
      ]
    },
    {
      "cell_type": "code",
      "source": [
        "dt.predict(tfidf.transform(mails))\n"
      ],
      "metadata": {
        "colab": {
          "base_uri": "https://localhost:8080/"
        },
        "id": "k7SroaUoqZxe",
        "outputId": "b28d3853-01c2-4742-de60-55ae8f37840c"
      },
      "execution_count": 108,
      "outputs": [
        {
          "output_type": "execute_result",
          "data": {
            "text/plain": [
              "array(['ham', 'spam', 'ham'], dtype=object)"
            ]
          },
          "metadata": {},
          "execution_count": 108
        }
      ]
    },
    {
      "cell_type": "code",
      "source": [
        "len(mails)\n"
      ],
      "metadata": {
        "colab": {
          "base_uri": "https://localhost:8080/"
        },
        "id": "515eC7KTqcaU",
        "outputId": "ad934cf8-5693-495a-d7de-dd5bedeee55a"
      },
      "execution_count": 109,
      "outputs": [
        {
          "output_type": "execute_result",
          "data": {
            "text/plain": [
              "3"
            ]
          },
          "metadata": {},
          "execution_count": 109
        }
      ]
    },
    {
      "cell_type": "code",
      "source": [],
      "metadata": {
        "id": "fqN7Os3dqe4E"
      },
      "execution_count": null,
      "outputs": []
    }
  ]
}