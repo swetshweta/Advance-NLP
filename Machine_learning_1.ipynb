{
  "nbformat": 4,
  "nbformat_minor": 0,
  "metadata": {
    "colab": {
      "provenance": []
    },
    "kernelspec": {
      "name": "python3",
      "display_name": "Python 3"
    },
    "language_info": {
      "name": "python"
    }
  },
  "cells": [
    {
      "cell_type": "code",
      "execution_count": 17,
      "metadata": {
        "colab": {
          "base_uri": "https://localhost:8080/",
          "height": 35
        },
        "id": "Owr4MWcDJISD",
        "outputId": "cc75a260-bdce-439a-cf95-b0a13dbc54ab"
      },
      "outputs": [
        {
          "output_type": "execute_result",
          "data": {
            "text/plain": [
              "'/content'"
            ],
            "application/vnd.google.colaboratory.intrinsic+json": {
              "type": "string"
            }
          },
          "metadata": {},
          "execution_count": 17
        }
      ],
      "source": [
        "import os\n",
        "os.getcwd()"
      ]
    },
    {
      "cell_type": "code",
      "source": [
        "import pandas as pd\n",
        "import seaborn as sns\n",
        "import matplotlib.pyplot as plt\n"
      ],
      "metadata": {
        "id": "iL1cqXs_cRJQ"
      },
      "execution_count": 18,
      "outputs": []
    },
    {
      "cell_type": "code",
      "source": [
        "from google.colab import drive\n",
        "drive.mount('/content/drive')"
      ],
      "metadata": {
        "colab": {
          "base_uri": "https://localhost:8080/"
        },
        "id": "dA8iepA3ghif",
        "outputId": "246bdc0f-025f-441a-b7dc-aa2ba4645b14"
      },
      "execution_count": 19,
      "outputs": [
        {
          "output_type": "stream",
          "name": "stdout",
          "text": [
            "Drive already mounted at /content/drive; to attempt to forcibly remount, call drive.mount(\"/content/drive\", force_remount=True).\n"
          ]
        }
      ]
    },
    {
      "cell_type": "code",
      "source": [
        "df = pd.read_csv('news_data.csv')"
      ],
      "metadata": {
        "id": "3e0NtkJBdeso"
      },
      "execution_count": 21,
      "outputs": []
    },
    {
      "cell_type": "code",
      "source": [
        "df.shape"
      ],
      "metadata": {
        "id": "gH1skUY7e7DG",
        "colab": {
          "base_uri": "https://localhost:8080/"
        },
        "outputId": "5a9cc674-946a-474d-95eb-4d3334f2a740"
      },
      "execution_count": 22,
      "outputs": [
        {
          "output_type": "execute_result",
          "data": {
            "text/plain": [
              "(9900, 2)"
            ]
          },
          "metadata": {},
          "execution_count": 22
        }
      ]
    },
    {
      "cell_type": "code",
      "source": [
        "df.columns"
      ],
      "metadata": {
        "id": "zRIjlRQUe8Os",
        "colab": {
          "base_uri": "https://localhost:8080/"
        },
        "outputId": "709661a8-3c7d-4ef2-ec8e-bb6de7f9d31f"
      },
      "execution_count": 23,
      "outputs": [
        {
          "output_type": "execute_result",
          "data": {
            "text/plain": [
              "Index(['Text', 'label'], dtype='object')"
            ]
          },
          "metadata": {},
          "execution_count": 23
        }
      ]
    },
    {
      "cell_type": "code",
      "source": [
        "features = df['Text'] #input data\n",
        "label = df['label'] #output data"
      ],
      "metadata": {
        "id": "WH3DcxX8e9zZ"
      },
      "execution_count": 24,
      "outputs": []
    },
    {
      "cell_type": "code",
      "source": [
        "features.head()"
      ],
      "metadata": {
        "id": "zez2kt-1fItj",
        "colab": {
          "base_uri": "https://localhost:8080/"
        },
        "outputId": "94eb706c-8841-4ca9-90ab-9c4dd5755336"
      },
      "execution_count": 25,
      "outputs": [
        {
          "output_type": "execute_result",
          "data": {
            "text/plain": [
              "0     Top Trump Surrogate BRUTALLY Stabs Him In The...\n",
              "1    U.S. conservative leader optimistic of common ...\n",
              "2    Trump proposes U.S. tax overhaul, stirs concer...\n",
              "3     Court Forces Ohio To Allow Millions Of Illega...\n",
              "4    Democrats say Trump agrees to work on immigrat...\n",
              "Name: Text, dtype: object"
            ]
          },
          "metadata": {},
          "execution_count": 25
        }
      ]
    },
    {
      "cell_type": "code",
      "source": [
        "label.head()"
      ],
      "metadata": {
        "id": "oIsNnSP3fPvN",
        "colab": {
          "base_uri": "https://localhost:8080/"
        },
        "outputId": "4b093bef-d1f6-46fc-d41d-6dc2c5baf758"
      },
      "execution_count": 26,
      "outputs": [
        {
          "output_type": "execute_result",
          "data": {
            "text/plain": [
              "0    Fake\n",
              "1    Real\n",
              "2    Real\n",
              "3    Fake\n",
              "4    Real\n",
              "Name: label, dtype: object"
            ]
          },
          "metadata": {},
          "execution_count": 26
        }
      ]
    },
    {
      "cell_type": "code",
      "source": [
        "sns.countplot(x=label)"
      ],
      "metadata": {
        "id": "M_r8Km-vfSQj",
        "colab": {
          "base_uri": "https://localhost:8080/",
          "height": 467
        },
        "outputId": "3c425c77-7d78-401d-8e30-5fb5fe2771f5"
      },
      "execution_count": 27,
      "outputs": [
        {
          "output_type": "execute_result",
          "data": {
            "text/plain": [
              "<Axes: xlabel='label', ylabel='count'>"
            ]
          },
          "metadata": {},
          "execution_count": 27
        },
        {
          "output_type": "display_data",
          "data": {
            "text/plain": [
              "<Figure size 640x480 with 1 Axes>"
            ],
            "image/png": "[encoded data removed]"
          },
          "metadata": {}
        }
      ]
    },
    {
      "cell_type": "code",
      "source": [
        "label.value_counts()"
      ],
      "metadata": {
        "id": "rXEo_LP2gVxV",
        "colab": {
          "base_uri": "https://localhost:8080/"
        },
        "outputId": "8e8474dd-7ab6-469a-c623-591f37e8fe71"
      },
      "execution_count": 28,
      "outputs": [
        {
          "output_type": "execute_result",
          "data": {
            "text/plain": [
              "label\n",
              "Fake    5000\n",
              "Real    4900\n",
              "Name: count, dtype: int64"
            ]
          },
          "metadata": {},
          "execution_count": 28
        }
      ]
    },
    {
      "cell_type": "code",
      "source": [
        "plt.pie(label.value_counts(), labels=label.value_counts().index, autopct='%1.2f%%');"
      ],
      "metadata": {
        "id": "J5hMJBdZaj86",
        "colab": {
          "base_uri": "https://localhost:8080/",
          "height": 406
        },
        "outputId": "22b871bc-c24b-4325-d520-8e1601717be9"
      },
      "execution_count": 29,
      "outputs": [
        {
          "output_type": "display_data",
          "data": {
            "text/plain": [
              "<Figure size 640x480 with 1 Axes>"
            ],
            "image/png": "[encoded data removed]"
          },
          "metadata": {}
        }
      ]
    },
    {
      "cell_type": "markdown",
      "source": [
        "Data Preparation"
      ],
      "metadata": {
        "id": "1UkoQVCfXIeS"
      }
    },
    {
      "cell_type": "code",
      "source": [
        "import nltk\n",
        "nltk.download('punkt')\n",
        "nltk.download('stopwords')"
      ],
      "metadata": {
        "id": "Z0IhyChqVE_G",
        "colab": {
          "base_uri": "https://localhost:8080/"
        },
        "outputId": "a9bf41e6-4135-4820-d21b-7ea559e6293e"
      },
      "execution_count": 30,
      "outputs": [
        {
          "output_type": "stream",
          "name": "stderr",
          "text": [
            "[nltk_data] Downloading package punkt to /root/nltk_data...\n",
            "[nltk_data]   Unzipping tokenizers/punkt.zip.\n",
            "[nltk_data] Downloading package stopwords to /root/nltk_data...\n",
            "[nltk_data]   Unzipping corpora/stopwords.zip.\n"
          ]
        },
        {
          "output_type": "execute_result",
          "data": {
            "text/plain": [
              "True"
            ]
          },
          "metadata": {},
          "execution_count": 30
        }
      ]
    },
    {
      "cell_type": "code",
      "source": [
        "from nltk.tokenize import word_tokenize\n",
        "from nltk.corpus import stopwords\n",
        "from nltk.stem import PorterStemmer"
      ],
      "metadata": {
        "id": "X0eHn0rWXCBL"
      },
      "execution_count": 31,
      "outputs": []
    },
    {
      "cell_type": "code",
      "source": [
        "sent = 'Hello friends! how are you? I like Python programming'"
      ],
      "metadata": {
        "id": "U_W2jhFNXWcr"
      },
      "execution_count": 32,
      "outputs": []
    },
    {
      "cell_type": "code",
      "source": [
        "tokens1 = word_tokenize(sent)\n",
        "tokens1"
      ],
      "metadata": {
        "id": "WRrCtEMNXqeP",
        "colab": {
          "base_uri": "https://localhost:8080/"
        },
        "outputId": "c3723fd6-99e8-481d-f7b0-338b36d721b8"
      },
      "execution_count": 33,
      "outputs": [
        {
          "output_type": "execute_result",
          "data": {
            "text/plain": [
              "['Hello',\n",
              " 'friends',\n",
              " '!',\n",
              " 'how',\n",
              " 'are',\n",
              " 'you',\n",
              " '?',\n",
              " 'I',\n",
              " 'like',\n",
              " 'Python',\n",
              " 'programming']"
            ]
          },
          "metadata": {},
          "execution_count": 33
        }
      ]
    },
    {
      "cell_type": "code",
      "source": [
        "tokens2 = [x.lower() for x in tokens1 if x.isalpha()]\n",
        "tokens2"
      ],
      "metadata": {
        "id": "klvCUk5mXuaP",
        "colab": {
          "base_uri": "https://localhost:8080/"
        },
        "outputId": "cfdcf2b9-ec25-4f38-c747-43af4afd7b2f"
      },
      "execution_count": 34,
      "outputs": [
        {
          "output_type": "execute_result",
          "data": {
            "text/plain": [
              "['hello', 'friends', 'how', 'are', 'you', 'i', 'like', 'python', 'programming']"
            ]
          },
          "metadata": {},
          "execution_count": 34
        }
      ]
    },
    {
      "cell_type": "code",
      "source": [
        "swords = stopwords.words('english')"
      ],
      "metadata": {
        "id": "DL5f9DA-Yl4O"
      },
      "execution_count": 35,
      "outputs": []
    },
    {
      "cell_type": "code",
      "source": [
        "swords"
      ],
      "metadata": {
        "id": "vZYs7SW4Y_Am",
        "colab": {
          "base_uri": "https://localhost:8080/"
        },
        "outputId": "31d7b3c4-2716-439e-ccd3-e4f30803f55b"
      },
      "execution_count": 36,
      "outputs": [
        {
          "output_type": "execute_result",
          "data": {
            "text/plain": [
              "['i',\n",
              " 'me',\n",
              " 'my',\n",
              " 'myself',\n",
              " 'we',\n",
              " 'our',\n",
              " 'ours',\n",
              " 'ourselves',\n",
              " 'you',\n",
              " \"you're\",\n",
              " \"you've\",\n",
              " \"you'll\",\n",
              " \"you'd\",\n",
              " 'your',\n",
              " 'yours',\n",
              " 'yourself',\n",
              " 'yourselves',\n",
              " 'he',\n",
              " 'him',\n",
              " 'his',\n",
              " 'himself',\n",
              " 'she',\n",
              " \"she's\",\n",
              " 'her',\n",
              " 'hers',\n",
              " 'herself',\n",
              " 'it',\n",
              " \"it's\",\n",
              " 'its',\n",
              " 'itself',\n",
              " 'they',\n",
              " 'them',\n",
              " 'their',\n",
              " 'theirs',\n",
              " 'themselves',\n",
              " 'what',\n",
              " 'which',\n",
              " 'who',\n",
              " 'whom',\n",
              " 'this',\n",
              " 'that',\n",
              " \"that'll\",\n",
              " 'these',\n",
              " 'those',\n",
              " 'am',\n",
              " 'is',\n",
              " 'are',\n",
              " 'was',\n",
              " 'were',\n",
              " 'be',\n",
              " 'been',\n",
              " 'being',\n",
              " 'have',\n",
              " 'has',\n",
              " 'had',\n",
              " 'having',\n",
              " 'do',\n",
              " 'does',\n",
              " 'did',\n",
              " 'doing',\n",
              " 'a',\n",
              " 'an',\n",
              " 'the',\n",
              " 'and',\n",
              " 'but',\n",
              " 'if',\n",
              " 'or',\n",
              " 'because',\n",
              " 'as',\n",
              " 'until',\n",
              " 'while',\n",
              " 'of',\n",
              " 'at',\n",
              " 'by',\n",
              " 'for',\n",
              " 'with',\n",
              " 'about',\n",
              " 'against',\n",
              " 'between',\n",
              " 'into',\n",
              " 'through',\n",
              " 'during',\n",
              " 'before',\n",
              " 'after',\n",
              " 'above',\n",
              " 'below',\n",
              " 'to',\n",
              " 'from',\n",
              " 'up',\n",
              " 'down',\n",
              " 'in',\n",
              " 'out',\n",
              " 'on',\n",
              " 'off',\n",
              " 'over',\n",
              " 'under',\n",
              " 'again',\n",
              " 'further',\n",
              " 'then',\n",
              " 'once',\n",
              " 'here',\n",
              " 'there',\n",
              " 'when',\n",
              " 'where',\n",
              " 'why',\n",
              " 'how',\n",
              " 'all',\n",
              " 'any',\n",
              " 'both',\n",
              " 'each',\n",
              " 'few',\n",
              " 'more',\n",
              " 'most',\n",
              " 'other',\n",
              " 'some',\n",
              " 'such',\n",
              " 'no',\n",
              " 'nor',\n",
              " 'not',\n",
              " 'only',\n",
              " 'own',\n",
              " 'same',\n",
              " 'so',\n",
              " 'than',\n",
              " 'too',\n",
              " 'very',\n",
              " 's',\n",
              " 't',\n",
              " 'can',\n",
              " 'will',\n",
              " 'just',\n",
              " 'don',\n",
              " \"don't\",\n",
              " 'should',\n",
              " \"should've\",\n",
              " 'now',\n",
              " 'd',\n",
              " 'll',\n",
              " 'm',\n",
              " 'o',\n",
              " 're',\n",
              " 've',\n",
              " 'y',\n",
              " 'ain',\n",
              " 'aren',\n",
              " \"aren't\",\n",
              " 'couldn',\n",
              " \"couldn't\",\n",
              " 'didn',\n",
              " \"didn't\",\n",
              " 'doesn',\n",
              " \"doesn't\",\n",
              " 'hadn',\n",
              " \"hadn't\",\n",
              " 'hasn',\n",
              " \"hasn't\",\n",
              " 'haven',\n",
              " \"haven't\",\n",
              " 'isn',\n",
              " \"isn't\",\n",
              " 'ma',\n",
              " 'mightn',\n",
              " \"mightn't\",\n",
              " 'mustn',\n",
              " \"mustn't\",\n",
              " 'needn',\n",
              " \"needn't\",\n",
              " 'shan',\n",
              " \"shan't\",\n",
              " 'shouldn',\n",
              " \"shouldn't\",\n",
              " 'wasn',\n",
              " \"wasn't\",\n",
              " 'weren',\n",
              " \"weren't\",\n",
              " 'won',\n",
              " \"won't\",\n",
              " 'wouldn',\n",
              " \"wouldn't\"]"
            ]
          },
          "metadata": {},
          "execution_count": 36
        }
      ]
    },
    {
      "cell_type": "code",
      "source": [
        "tokens3 = [x for x in tokens2 if x not in swords]"
      ],
      "metadata": {
        "id": "uL8bVewtY_im"
      },
      "execution_count": 37,
      "outputs": []
    },
    {
      "cell_type": "code",
      "source": [
        "tokens3"
      ],
      "metadata": {
        "id": "oArE_Hu1aMHS",
        "colab": {
          "base_uri": "https://localhost:8080/"
        },
        "outputId": "3df2c4af-b4a5-4149-9f0f-b48bcfcdbc68"
      },
      "execution_count": 38,
      "outputs": [
        {
          "output_type": "execute_result",
          "data": {
            "text/plain": [
              "['hello', 'friends', 'like', 'python', 'programming']"
            ]
          },
          "metadata": {},
          "execution_count": 38
        }
      ]
    },
    {
      "cell_type": "code",
      "source": [
        "ps = PorterStemmer()"
      ],
      "metadata": {
        "id": "-iY_SFzraNhu"
      },
      "execution_count": 39,
      "outputs": []
    },
    {
      "cell_type": "code",
      "source": [
        "tokens4 = [ps.stem(x) for x in tokens3]\n",
        "tokens4"
      ],
      "metadata": {
        "id": "ysuo-nGkay27",
        "colab": {
          "base_uri": "https://localhost:8080/"
        },
        "outputId": "9d493816-b5be-453b-8c33-01c135bd13ae"
      },
      "execution_count": 40,
      "outputs": [
        {
          "output_type": "execute_result",
          "data": {
            "text/plain": [
              "['hello', 'friend', 'like', 'python', 'program']"
            ]
          },
          "metadata": {},
          "execution_count": 40
        }
      ]
    },
    {
      "cell_type": "code",
      "source": [
        "def clean_text(sent):\n",
        "  tokens1 = word_tokenize(sent)\n",
        "  tokens2 = [x.lower() for x in tokens1 if x.isalpha]\n",
        "  tokens3 = [x for x in tokens2 if x not in swords]\n",
        "  tokens4 = [ps.stem(x) for x in tokens3]\n",
        "  return tokens4"
      ],
      "metadata": {
        "id": "5Tr1P4FWbFXl"
      },
      "execution_count": 41,
      "outputs": []
    },
    {
      "cell_type": "code",
      "source": [
        "clean_text(sent)"
      ],
      "metadata": {
        "id": "ZwQs33e2bz1o",
        "colab": {
          "base_uri": "https://localhost:8080/"
        },
        "outputId": "ee8e3c94-1f33-43ac-e6c0-f69950b99e90"
      },
      "execution_count": 42,
      "outputs": [
        {
          "output_type": "execute_result",
          "data": {
            "text/plain": [
              "['hello', 'friend', '!', '?', 'like', 'python', 'program']"
            ]
          },
          "metadata": {},
          "execution_count": 42
        }
      ]
    },
    {
      "cell_type": "code",
      "source": [
        "new_sent = 'It was the expected result. They told the same on fields'"
      ],
      "metadata": {
        "id": "ROxFkkoSaBFW"
      },
      "execution_count": 43,
      "outputs": []
    },
    {
      "cell_type": "code",
      "source": [
        "clean_text(new_sent)"
      ],
      "metadata": {
        "id": "eT0Xz6TIaJ1O",
        "colab": {
          "base_uri": "https://localhost:8080/"
        },
        "outputId": "6041e31f-c9a1-4d7e-a6d1-6b59484b2c51"
      },
      "execution_count": 44,
      "outputs": [
        {
          "output_type": "execute_result",
          "data": {
            "text/plain": [
              "['expect', 'result', '.', 'told', 'field']"
            ]
          },
          "metadata": {},
          "execution_count": 44
        }
      ]
    },
    {
      "cell_type": "code",
      "source": [
        "clean_text(features[123])"
      ],
      "metadata": {
        "id": "DFtGst2HaPZb",
        "colab": {
          "base_uri": "https://localhost:8080/"
        },
        "outputId": "d96d57f6-a37b-4b74-deab-bb1b545319fb"
      },
      "execution_count": 45,
      "outputs": [
        {
          "output_type": "execute_result",
          "data": {
            "text/plain": [
              "['rank',\n",
              " 'dem',\n",
              " 'hous',\n",
              " 'russia',\n",
              " 'probe',\n",
              " 'explos',\n",
              " 'news',\n",
              " 'trump',\n",
              " 'run',\n",
              " 'scare',\n",
              " 'everybodi',\n",
              " 'still',\n",
              " 'believ',\n",
              " 'democraci',\n",
              " 'true',\n",
              " 'freedom',\n",
              " 'reel',\n",
              " 'fbi',\n",
              " 'director',\n",
              " 'jame',\n",
              " 'comey',\n",
              " 'fire',\n",
              " ',',\n",
              " 'media',\n",
              " 'member',\n",
              " 'congress',\n",
              " 'frantic',\n",
              " 'work',\n",
              " 'get',\n",
              " 'deet',\n",
              " 'happen',\n",
              " '.',\n",
              " 'rep.',\n",
              " 'adam',\n",
              " 'schiff',\n",
              " ',',\n",
              " 'rank',\n",
              " 'member',\n",
              " 'hous',\n",
              " 'intellig',\n",
              " 'committe',\n",
              " '(',\n",
              " 'conduct',\n",
              " 'investig',\n",
              " 'russia',\n",
              " ')',\n",
              " ',',\n",
              " 'drop',\n",
              " 'truth',\n",
              " 'bomb',\n",
              " 'comey',\n",
              " ',',\n",
              " 'trump',\n",
              " 'would',\n",
              " 'wise',\n",
              " 'go',\n",
              " 'find',\n",
              " 'cave',\n",
              " 'hide',\n",
              " 'now.schiff',\n",
              " 'ask',\n",
              " ',',\n",
              " 'cnn',\n",
              " ',',\n",
              " 'whether',\n",
              " 'believ',\n",
              " 'cover-up',\n",
              " '.',\n",
              " 't.',\n",
              " 'think',\n",
              " 'someth',\n",
              " 'wors',\n",
              " ':',\n",
              " 'brazen',\n",
              " 'interfer',\n",
              " 'crimin',\n",
              " 'investig',\n",
              " '.',\n",
              " ',',\n",
              " 'presid',\n",
              " 'call',\n",
              " 'whole',\n",
              " 'investig',\n",
              " 'fake',\n",
              " ',',\n",
              " 'fbi',\n",
              " 'director',\n",
              " 'serious',\n",
              " 'look',\n",
              " 'whether',\n",
              " 'trump',\n",
              " 'associ',\n",
              " 'collud',\n",
              " 'russian',\n",
              " '.',\n",
              " 'end',\n",
              " 'statement',\n",
              " 'cnn',\n",
              " 'particularli',\n",
              " 'jar',\n",
              " 'anybodi',\n",
              " 'familiar',\n",
              " 'histori',\n",
              " '.',\n",
              " 'watch',\n",
              " ':',\n",
              " 'rep.',\n",
              " 'adam',\n",
              " 'schiff',\n",
              " 'fire',\n",
              " 'fbi',\n",
              " 'director',\n",
              " 'jame',\n",
              " 'comey',\n",
              " ':',\n",
              " 'brazen',\n",
              " 'interfer',\n",
              " 'crimin',\n",
              " 'investig',\n",
              " 'http',\n",
              " ':',\n",
              " '//t.co/5sxgautvbp',\n",
              " 'cnn',\n",
              " '(',\n",
              " '@',\n",
              " 'cnn',\n",
              " ')',\n",
              " 'may',\n",
              " '10',\n",
              " ',',\n",
              " '2017earlier',\n",
              " 'year',\n",
              " ',',\n",
              " 'white',\n",
              " 'hous',\n",
              " 'tri',\n",
              " 'get',\n",
              " 'fbi',\n",
              " 'publicli',\n",
              " 'disput',\n",
              " 'stori',\n",
              " 'appear',\n",
              " 'new',\n",
              " 'york',\n",
              " 'time',\n",
              " 'contact',\n",
              " 'trump',\n",
              " 'associ',\n",
              " 'russian',\n",
              " 'actor',\n",
              " '.',\n",
              " 'tri',\n",
              " 'bend',\n",
              " 'fbi',\n",
              " 'long',\n",
              " 'time',\n",
              " ',',\n",
              " 'comey',\n",
              " 'lie',\n",
              " 'oath',\n",
              " ',',\n",
              " 'end',\n",
              " 'russia',\n",
              " 'probe',\n",
              " ',',\n",
              " 'trump',\n",
              " 'decid',\n",
              " 'fire',\n",
              " 'him.in',\n",
              " 'fact',\n",
              " ',',\n",
              " 'jeff',\n",
              " 'session',\n",
              " 'actual',\n",
              " 'told',\n",
              " 'find',\n",
              " 'reason',\n",
              " 'fire',\n",
              " 'comey',\n",
              " ',',\n",
              " 'work',\n",
              " 'least',\n",
              " 'week',\n",
              " '.',\n",
              " 'trump',\n",
              " 'like',\n",
              " 'want',\n",
              " 'someon',\n",
              " 'posit',\n",
              " 'end',\n",
              " 'investig',\n",
              " 'discov',\n",
              " 'someth',\n",
              " 'realli',\n",
              " 'damn',\n",
              " '.',\n",
              " 'want',\n",
              " 'puppet.if',\n",
              " 'trump',\n",
              " 'innoc',\n",
              " ',',\n",
              " 'white',\n",
              " 'hous',\n",
              " 'look',\n",
              " 'reason',\n",
              " 'fire',\n",
              " 'comey',\n",
              " '.',\n",
              " 'comey',\n",
              " 'may',\n",
              " 'even',\n",
              " 'fire',\n",
              " ',',\n",
              " ',',\n",
              " 'trump',\n",
              " 'probabl',\n",
              " 'would',\n",
              " 'done',\n",
              " 'took',\n",
              " 'offic',\n",
              " 'guis',\n",
              " 'get',\n",
              " 'fresh',\n",
              " 'start',\n",
              " ',',\n",
              " 'schiff',\n",
              " 'said',\n",
              " 'cnn',\n",
              " '.',\n",
              " 'behavior',\n",
              " 'innoc',\n",
              " 'man.featur',\n",
              " 'imag',\n",
              " 'via',\n",
              " 'mark',\n",
              " 'wilson/getti',\n",
              " 'imag']"
            ]
          },
          "metadata": {},
          "execution_count": 45
        }
      ]
    },
    {
      "cell_type": "markdown",
      "source": [
        "Tfidf Vectorizer"
      ],
      "metadata": {
        "id": "kZqindhNetM0"
      }
    },
    {
      "cell_type": "code",
      "source": [
        "\n",
        "from sklearn.feature_extraction.text import TfidfVectorizer"
      ],
      "metadata": {
        "id": "KBmGuMtvc3qq"
      },
      "execution_count": 46,
      "outputs": []
    },
    {
      "cell_type": "code",
      "source": [
        "tfidf = TfidfVectorizer(analyzer=clean_text)"
      ],
      "metadata": {
        "id": "QNzmpb0feYvK"
      },
      "execution_count": 47,
      "outputs": []
    },
    {
      "cell_type": "code",
      "source": [
        "features_new = tfidf.fit_transform(features)"
      ],
      "metadata": {
        "id": "Vyk1Ti2Cee22"
      },
      "execution_count": 48,
      "outputs": []
    },
    {
      "cell_type": "code",
      "source": [
        "features_new.shape"
      ],
      "metadata": {
        "id": "JXxMgA4VfgYe",
        "colab": {
          "base_uri": "https://localhost:8080/"
        },
        "outputId": "022609a0-9a4a-4a5d-d9f4-4fde1c099718"
      },
      "execution_count": 49,
      "outputs": [
        {
          "output_type": "execute_result",
          "data": {
            "text/plain": [
              "(9900, 76881)"
            ]
          },
          "metadata": {},
          "execution_count": 49
        }
      ]
    },
    {
      "cell_type": "code",
      "source": [
        "len(tfidf.get_feature_names_out())"
      ],
      "metadata": {
        "id": "gyvuk-9tekWT",
        "colab": {
          "base_uri": "https://localhost:8080/"
        },
        "outputId": "40be6f36-d9d4-4cda-ae75-feb5604a8a21"
      },
      "execution_count": 50,
      "outputs": [
        {
          "output_type": "execute_result",
          "data": {
            "text/plain": [
              "76881"
            ]
          },
          "metadata": {},
          "execution_count": 50
        }
      ]
    },
    {
      "cell_type": "markdown",
      "source": [
        "Cross Validation"
      ],
      "metadata": {
        "id": "7-M369hNblyt"
      }
    },
    {
      "cell_type": "code",
      "source": [
        "from sklearn.model_selection import train_test_split"
      ],
      "metadata": {
        "id": "jdFxQv2bbneZ"
      },
      "execution_count": 51,
      "outputs": []
    },
    {
      "cell_type": "code",
      "source": [
        "\n",
        "x_train, x_test, y_train , y_test = train_test_split(features_new, label, random_state=0)"
      ],
      "metadata": {
        "id": "p8Ggut8ybwYt"
      },
      "execution_count": 52,
      "outputs": []
    },
    {
      "cell_type": "code",
      "source": [
        "x_train.shape"
      ],
      "metadata": {
        "id": "AAheoXigcI9Z",
        "colab": {
          "base_uri": "https://localhost:8080/"
        },
        "outputId": "c9a3886d-1191-40a9-fd92-17edb0740908"
      },
      "execution_count": 53,
      "outputs": [
        {
          "output_type": "execute_result",
          "data": {
            "text/plain": [
              "(7425, 76881)"
            ]
          },
          "metadata": {},
          "execution_count": 53
        }
      ]
    },
    {
      "cell_type": "code",
      "source": [
        "x_test.shape"
      ],
      "metadata": {
        "id": "S6i2d6aUcT7Y",
        "colab": {
          "base_uri": "https://localhost:8080/"
        },
        "outputId": "20334e86-b8b8-4685-e59a-b33d496b1f63"
      },
      "execution_count": 54,
      "outputs": [
        {
          "output_type": "execute_result",
          "data": {
            "text/plain": [
              "(2475, 76881)"
            ]
          },
          "metadata": {},
          "execution_count": 54
        }
      ]
    },
    {
      "cell_type": "code",
      "source": [
        "\n",
        "y_train.shape\n",
        "y_test.shape"
      ],
      "metadata": {
        "id": "K-hbQ0hOcYYt",
        "colab": {
          "base_uri": "https://localhost:8080/"
        },
        "outputId": "d83111bb-b68e-4092-d0ba-0573cd346969"
      },
      "execution_count": 55,
      "outputs": [
        {
          "output_type": "execute_result",
          "data": {
            "text/plain": [
              "(2475,)"
            ]
          },
          "metadata": {},
          "execution_count": 55
        }
      ]
    },
    {
      "cell_type": "code",
      "source": [
        "\n",
        "x_train[0]"
      ],
      "metadata": {
        "id": "RKSjLLW4eg2Q",
        "colab": {
          "base_uri": "https://localhost:8080/"
        },
        "outputId": "5e00dc4d-c358-4ca0-b0e0-8e8f9dc92a41"
      },
      "execution_count": 56,
      "outputs": [
        {
          "output_type": "execute_result",
          "data": {
            "text/plain": [
              "<1x76881 sparse matrix of type '<class 'numpy.float64'>'\n",
              "\twith 185 stored elements in Compressed Sparse Row format>"
            ]
          },
          "metadata": {},
          "execution_count": 56
        }
      ]
    },
    {
      "cell_type": "code",
      "source": [
        "y_train[0]"
      ],
      "metadata": {
        "id": "DIwtMOeeeyDP",
        "colab": {
          "base_uri": "https://localhost:8080/",
          "height": 35
        },
        "outputId": "62501185-b2ff-4c7f-8867-490e6d1c52e5"
      },
      "execution_count": 57,
      "outputs": [
        {
          "output_type": "execute_result",
          "data": {
            "text/plain": [
              "'Fake'"
            ],
            "application/vnd.google.colaboratory.intrinsic+json": {
              "type": "string"
            }
          },
          "metadata": {},
          "execution_count": 57
        }
      ]
    },
    {
      "cell_type": "markdown",
      "source": [
        "Build the Decision Tree Algorithm model on the training data\n"
      ],
      "metadata": {
        "id": "x7m2pKAFdFor"
      }
    },
    {
      "cell_type": "code",
      "source": [
        "from sklearn.tree import DecisionTreeClassifier"
      ],
      "metadata": {
        "id": "tj3ldwZ2dEsB"
      },
      "execution_count": 58,
      "outputs": []
    },
    {
      "cell_type": "code",
      "source": [
        "dt = DecisionTreeClassifier(random_state=0)"
      ],
      "metadata": {
        "id": "LOV87FTXd2Sp"
      },
      "execution_count": 59,
      "outputs": []
    },
    {
      "cell_type": "code",
      "source": [
        "dt.fit(x_train, y_train)"
      ],
      "metadata": {
        "id": "hSc1x3iqeR3b",
        "colab": {
          "base_uri": "https://localhost:8080/",
          "height": 75
        },
        "outputId": "c087bd94-13f8-4fae-9a17-e384d4fe9952"
      },
      "execution_count": 60,
      "outputs": [
        {
          "output_type": "execute_result",
          "data": {
            "text/plain": [
              "DecisionTreeClassifier(random_state=0)"
            ],
            "text/html": [
              "<style>#sk-container-id-1 {color: black;background-color: white;}#sk-container-id-1 pre{padding: 0;}#sk-container-id-1 div.sk-toggleable {background-color: white;}#sk-container-id-1 label.sk-toggleable__label {cursor: pointer;display: block;width: 100%;margin-bottom: 0;padding: 0.3em;box-sizing: border-box;text-align: center;}#sk-container-id-1 label.sk-toggleable__label-arrow:before {content: \"▸\";float: left;margin-right: 0.25em;color: #696969;}#sk-container-id-1 label.sk-toggleable__label-arrow:hover:before {color: black;}#sk-container-id-1 div.sk-estimator:hover label.sk-toggleable__label-arrow:before {color: black;}#sk-container-id-1 div.sk-toggleable__content {max-height: 0;max-width: 0;overflow: hidden;text-align: left;background-color: #f0f8ff;}#sk-container-id-1 div.sk-toggleable__content pre {margin: 0.2em;color: black;border-radius: 0.25em;background-color: #f0f8ff;}#sk-container-id-1 input.sk-toggleable__control:checked~div.sk-toggleable__content {max-height: 200px;max-width: 100%;overflow: auto;}#sk-container-id-1 input.sk-toggleable__control:checked~label.sk-toggleable__label-arrow:before {content: \"▾\";}#sk-container-id-1 div.sk-estimator input.sk-toggleable__control:checked~label.sk-toggleable__label {background-color: #d4ebff;}#sk-container-id-1 div.sk-label input.sk-toggleable__control:checked~label.sk-toggleable__label {background-color: #d4ebff;}#sk-container-id-1 input.sk-hidden--visually {border: 0;clip: rect(1px 1px 1px 1px);clip: rect(1px, 1px, 1px, 1px);height: 1px;margin: -1px;overflow: hidden;padding: 0;position: absolute;width: 1px;}#sk-container-id-1 div.sk-estimator {font-family: monospace;background-color: #f0f8ff;border: 1px dotted black;border-radius: 0.25em;box-sizing: border-box;margin-bottom: 0.5em;}#sk-container-id-1 div.sk-estimator:hover {background-color: #d4ebff;}#sk-container-id-1 div.sk-parallel-item::after {content: \"\";width: 100%;border-bottom: 1px solid gray;flex-grow: 1;}#sk-container-id-1 div.sk-label:hover label.sk-toggleable__label {background-color: #d4ebff;}#sk-container-id-1 div.sk-serial::before {content: \"\";position: absolute;border-left: 1px solid gray;box-sizing: border-box;top: 0;bottom: 0;left: 50%;z-index: 0;}#sk-container-id-1 div.sk-serial {display: flex;flex-direction: column;align-items: center;background-color: white;padding-right: 0.2em;padding-left: 0.2em;position: relative;}#sk-container-id-1 div.sk-item {position: relative;z-index: 1;}#sk-container-id-1 div.sk-parallel {display: flex;align-items: stretch;justify-content: center;background-color: white;position: relative;}#sk-container-id-1 div.sk-item::before, #sk-container-id-1 div.sk-parallel-item::before {content: \"\";position: absolute;border-left: 1px solid gray;box-sizing: border-box;top: 0;bottom: 0;left: 50%;z-index: -1;}#sk-container-id-1 div.sk-parallel-item {display: flex;flex-direction: column;z-index: 1;position: relative;background-color: white;}#sk-container-id-1 div.sk-parallel-item:first-child::after {align-self: flex-end;width: 50%;}#sk-container-id-1 div.sk-parallel-item:last-child::after {align-self: flex-start;width: 50%;}#sk-container-id-1 div.sk-parallel-item:only-child::after {width: 0;}#sk-container-id-1 div.sk-dashed-wrapped {border: 1px dashed gray;margin: 0 0.4em 0.5em 0.4em;box-sizing: border-box;padding-bottom: 0.4em;background-color: white;}#sk-container-id-1 div.sk-label label {font-family: monospace;font-weight: bold;display: inline-block;line-height: 1.2em;}#sk-container-id-1 div.sk-label-container {text-align: center;}#sk-container-id-1 div.sk-container {/* jupyter's `normalize.less` sets `[hidden] { display: none; }` but bootstrap.min.css set `[hidden] { display: none !important; }` so we also need the `!important` here to be able to override the default hidden behavior on the sphinx rendered scikit-learn.org. See: https://github.com/scikit-learn/scikit-learn/issues/21755 */display: inline-block !important;position: relative;}#sk-container-id-1 div.sk-text-repr-fallback {display: none;}</style><div id=\"sk-container-id-1\" class=\"sk-top-container\"><div class=\"sk-text-repr-fallback\"><pre>DecisionTreeClassifier(random_state=0)</pre><b>In a Jupyter environment, please rerun this cell to show the HTML representation or trust the notebook. <br />On GitHub, the HTML representation is unable to render, please try loading this page with nbviewer.org.</b></div><div class=\"sk-container\" hidden><div class=\"sk-item\"><div class=\"sk-estimator sk-toggleable\"><input class=\"sk-toggleable__control sk-hidden--visually\" id=\"sk-estimator-id-1\" type=\"checkbox\" checked><label for=\"sk-estimator-id-1\" class=\"sk-toggleable__label sk-toggleable__label-arrow\">DecisionTreeClassifier</label><div class=\"sk-toggleable__content\"><pre>DecisionTreeClassifier(random_state=0)</pre></div></div></div></div></div>"
            ]
          },
          "metadata": {},
          "execution_count": 60
        }
      ]
    },
    {
      "cell_type": "code",
      "source": [
        "from sklearn.tree import plot_tree"
      ],
      "metadata": {
        "id": "aokMuNtBcafI"
      },
      "execution_count": 61,
      "outputs": []
    },
    {
      "cell_type": "code",
      "source": [
        "plot_tree(dt)"
      ],
      "metadata": {
        "id": "J6vDMjZKfV5A",
        "colab": {
          "base_uri": "https://localhost:8080/",
          "height": 602
        },
        "outputId": "8b3398df-5c29-4bfb-9556-f9d52bae232d"
      },
      "execution_count": 62,
      "outputs": [
        {
          "output_type": "execute_result",
          "data": {
            "text/plain": [
              "[Text(0.5555555555555556, 0.875, 'x[430] <= 0.002\\ngini = 0.5\\nsamples = 7425\\nvalue = [3727, 3698]'),\n",
              " Text(0.3333333333333333, 0.625, 'x[76875] <= 0.08\\ngini = 0.001\\nsamples = 3719\\nvalue = [3717, 2]'),\n",
              " Text(0.2222222222222222, 0.375, 'x[6181] <= 0.127\\ngini = 0.001\\nsamples = 3718\\nvalue = [3717, 1]'),\n",
              " Text(0.1111111111111111, 0.125, 'gini = 0.0\\nsamples = 3717\\nvalue = [3717, 0]'),\n",
              " Text(0.3333333333333333, 0.125, 'gini = 0.0\\nsamples = 1\\nvalue = [0, 1]'),\n",
              " Text(0.4444444444444444, 0.375, 'gini = 0.0\\nsamples = 1\\nvalue = [0, 1]'),\n",
              " Text(0.7777777777777778, 0.625, 'x[59071] <= 0.002\\ngini = 0.005\\nsamples = 3706\\nvalue = [10, 3696]'),\n",
              " Text(0.6666666666666666, 0.375, 'x[40023] <= 0.011\\ngini = 0.278\\nsamples = 12\\nvalue = [10, 2]'),\n",
              " Text(0.5555555555555556, 0.125, 'gini = 0.0\\nsamples = 10\\nvalue = [10, 0]'),\n",
              " Text(0.7777777777777778, 0.125, 'gini = 0.0\\nsamples = 2\\nvalue = [0, 2]'),\n",
              " Text(0.8888888888888888, 0.375, 'gini = 0.0\\nsamples = 3694\\nvalue = [0, 3694]')]"
            ]
          },
          "metadata": {},
          "execution_count": 62
        },
        {
          "output_type": "display_data",
          "data": {
            "text/plain": [
              "<Figure size 640x480 with 1 Axes>"
            ],
            "image/png": "[encoded data removed]"
          },
          "metadata": {}
        }
      ]
    },
    {
      "cell_type": "code",
      "source": [
        "plt.figure(figsize=(12,8))\n",
        "plot_tree(dt, fontsize=7)"
      ],
      "metadata": {
        "id": "JcVbwd2Ocdin",
        "colab": {
          "base_uri": "https://localhost:8080/",
          "height": 849
        },
        "outputId": "d21ddbfd-eee3-427f-90d1-89495a70226f"
      },
      "execution_count": 63,
      "outputs": [
        {
          "output_type": "execute_result",
          "data": {
            "text/plain": [
              "[Text(0.5555555555555556, 0.875, 'x[430] <= 0.002\\ngini = 0.5\\nsamples = 7425\\nvalue = [3727, 3698]'),\n",
              " Text(0.3333333333333333, 0.625, 'x[76875] <= 0.08\\ngini = 0.001\\nsamples = 3719\\nvalue = [3717, 2]'),\n",
              " Text(0.2222222222222222, 0.375, 'x[6181] <= 0.127\\ngini = 0.001\\nsamples = 3718\\nvalue = [3717, 1]'),\n",
              " Text(0.1111111111111111, 0.125, 'gini = 0.0\\nsamples = 3717\\nvalue = [3717, 0]'),\n",
              " Text(0.3333333333333333, 0.125, 'gini = 0.0\\nsamples = 1\\nvalue = [0, 1]'),\n",
              " Text(0.4444444444444444, 0.375, 'gini = 0.0\\nsamples = 1\\nvalue = [0, 1]'),\n",
              " Text(0.7777777777777778, 0.625, 'x[59071] <= 0.002\\ngini = 0.005\\nsamples = 3706\\nvalue = [10, 3696]'),\n",
              " Text(0.6666666666666666, 0.375, 'x[40023] <= 0.011\\ngini = 0.278\\nsamples = 12\\nvalue = [10, 2]'),\n",
              " Text(0.5555555555555556, 0.125, 'gini = 0.0\\nsamples = 10\\nvalue = [10, 0]'),\n",
              " Text(0.7777777777777778, 0.125, 'gini = 0.0\\nsamples = 2\\nvalue = [0, 2]'),\n",
              " Text(0.8888888888888888, 0.375, 'gini = 0.0\\nsamples = 3694\\nvalue = [0, 3694]')]"
            ]
          },
          "metadata": {},
          "execution_count": 63
        },
        {
          "output_type": "display_data",
          "data": {
            "text/plain": [
              "<Figure size 1200x800 with 1 Axes>"
            ],
            "image/png": "[encoded data removed]"
          },
          "metadata": {}
        }
      ]
    },
    {
      "cell_type": "code",
      "source": [
        "tfidf.get_feature_names_out()[9696]"
      ],
      "metadata": {
        "id": "uvpo-VXschIs",
        "colab": {
          "base_uri": "https://localhost:8080/",
          "height": 35
        },
        "outputId": "9b8fdef0-2c82-4e34-a4c4-c65cd716ccac"
      },
      "execution_count": 64,
      "outputs": [
        {
          "output_type": "execute_result",
          "data": {
            "text/plain": [
              "'amandachard'"
            ],
            "application/vnd.google.colaboratory.intrinsic+json": {
              "type": "string"
            }
          },
          "metadata": {},
          "execution_count": 64
        }
      ]
    },
    {
      "cell_type": "markdown",
      "source": [
        "Performance Evaluation"
      ],
      "metadata": {
        "id": "ATiiawOEdcGr"
      }
    },
    {
      "cell_type": "code",
      "source": [
        "y_pred = dt.predict(x_test)"
      ],
      "metadata": {
        "id": "k7vPqsh-dgHL"
      },
      "execution_count": 65,
      "outputs": []
    },
    {
      "cell_type": "code",
      "source": [
        "y_pred"
      ],
      "metadata": {
        "id": "2iH8o0fyeA3q",
        "colab": {
          "base_uri": "https://localhost:8080/"
        },
        "outputId": "7bdefed8-1ebf-4a1d-c579-3fbd730f22ee"
      },
      "execution_count": 66,
      "outputs": [
        {
          "output_type": "execute_result",
          "data": {
            "text/plain": [
              "array(['Fake', 'Fake', 'Fake', ..., 'Fake', 'Fake', 'Fake'], dtype=object)"
            ]
          },
          "metadata": {},
          "execution_count": 66
        }
      ]
    },
    {
      "cell_type": "code",
      "source": [
        "len(y_pred)"
      ],
      "metadata": {
        "id": "k8sEZFR9eMRY",
        "colab": {
          "base_uri": "https://localhost:8080/"
        },
        "outputId": "708a132c-8cf6-42dd-f60f-73034551b247"
      },
      "execution_count": 67,
      "outputs": [
        {
          "output_type": "execute_result",
          "data": {
            "text/plain": [
              "2475"
            ]
          },
          "metadata": {},
          "execution_count": 67
        }
      ]
    },
    {
      "cell_type": "code",
      "source": [
        "#import the class\n",
        "from sklearn.metrics import ConfusionMatrixDisplay"
      ],
      "metadata": {
        "id": "pN2roNvAeWje"
      },
      "execution_count": 68,
      "outputs": []
    },
    {
      "cell_type": "code",
      "source": [
        "ConfusionMatrixDisplay.from_predictions(y_test, y_pred)"
      ],
      "metadata": {
        "id": "UQ2ebznWf98L",
        "colab": {
          "base_uri": "https://localhost:8080/",
          "height": 467
        },
        "outputId": "49406d9b-c060-47d8-a8a1-7b888e52ffd9"
      },
      "execution_count": 69,
      "outputs": [
        {
          "output_type": "execute_result",
          "data": {
            "text/plain": [
              "<sklearn.metrics._plot.confusion_matrix.ConfusionMatrixDisplay at 0x7a47bcf33c70>"
            ]
          },
          "metadata": {},
          "execution_count": 69
        },
        {
          "output_type": "display_data",
          "data": {
            "text/plain": [
              "<Figure size 640x480 with 2 Axes>"
            ],
            "image/png": "[encoded data removed]"
          },
          "metadata": {}
        }
      ]
    },
    {
      "cell_type": "markdown",
      "source": [
        "Prediction on unseen new news\n"
      ],
      "metadata": {
        "id": "FE-Bpgc2iKwg"
      }
    },
    {
      "cell_type": "code",
      "source": [
        "f = open('sample_news.txt', encoding='utf-8')"
      ],
      "metadata": {
        "id": "3MRabJ8ziKYS"
      },
      "execution_count": 70,
      "outputs": []
    },
    {
      "cell_type": "code",
      "source": [
        "news = f.readlines()\n",
        "news\n"
      ],
      "metadata": {
        "id": "mP4b00uTiYL5",
        "colab": {
          "base_uri": "https://localhost:8080/"
        },
        "outputId": "320706e8-e911-4cc8-d416-77b1836037a3"
      },
      "execution_count": 71,
      "outputs": [
        {
          "output_type": "execute_result",
          "data": {
            "text/plain": [
              "['\" Donald Trump’s ‘Charity’ Foundation Is About To Be Shut The F**k Down NATIONWIDE Things really aren t looking too great for Donald Trump s charity foundation. With recent developments prohibiting the Trump Foundation from soliciting funds in New York state, it s now looking like a good majority of states may be following suit.The Trump Foundation has also been being looked at by the Attorney General for how it is getting and spending funds, especially after what happen with veterans organizations earlier this year.According to The Daily Beast: To make matters worse for the Trump Foundation, the probe may not be limited to New York: Charity experts and lawyers tell The Daily Beast that the attorneys general of other states may soon get involved in a long, drawn-out process.All major charities are required to register with 41 different states across the nation in order to individually request permission to fundraise. When Trump raised money for veterans, he may have broken the rules in dozens of states. The president of the National Committee for Responsible Philanthropy, Aaron Dorfman, stated: The Trump Foundation would be required to file similar paperwork with the attorneys generals of nearly every other state, and they could all take similar action. It is likely that other states will follow suit and they will be issued cease and desist orders denying them fundraising privileges in other states. That is the most likely next step. This is not good news for Trump who keeps trying to pivot to slamming Hillary Clinton s Clinton Foundation. You know, the one that helps fight AIDS in nations globally.Trump, of course, likes to pretend that he s holier than thou, which might explain why Trump Foundation money was used to buy pictures of, well, himself.And according to Real Clear Politics: From 2011 through 2014, Trump harnessed his eponymous foundation to send at least $286,000 to influential conservative or policy groups, a RealClearPolitics review of the foundation s tax filings found. In many cases, this flow of money corresponded to prime speaking slots or endorsements that aided Trump as he sought to recast himself as a plausible Republican candidate for president. Finding out Trump is a scam artist using a shell charity with his same name really should come as no surprise. Especially to fund his political ambitions of grandeur. However, it will be interesting to see how this story develops as the November election draws nearer.Featured Photo by Scott Olson/Getty Images\"\\n',\n",
              " '\"U.S. environmental agency chief says humans contribute to global warming WASHINGTON (Reuters) - The head of the U.S. Environmental Protection Agency, Scott Pruitt, said on Friday he believes human activity plays a role in global warming, but measuring that contribution with precision is difficult. Speaking to reporters at the White House a day after President Donald Trump said he would withdraw the United States  from the Paris climate accord, Pruitt declined to directly answer questions about whether the president still believed global warming was a hoax, as he had said during the 2016 presidential campaign Pruitt said he had indicated that global warming is occurring, and that “human activity contributes to it in some manner. Measuring with precision, from my perspective, the degree of human contribution is very challenging.” \"\\n',\n",
              " '\" Golden State Warriors Coach Just WRECKED Trump After Attack On One Of His Players On Saturday, the man we re forced to call  President  Trump responded to Golden State Warriors star Stephen Curry s refusal to accept an invitation to the White House by doing the internet equivalent of incoherently screeching  WELL FINE,  YOU RE NOT INVITED ANYWAY. Going to the White House is considered a great honor for a championship team.Stephen Curry is hesitating,therefore invitation is withdrawn!  Donald J. Trump (@realDonaldTrump) September 23, 2017Unfortunately for Trump, Warriors coach Steve Kerr has Curry s back. The idea of civil discourse with a guy who is tweeting and demeaning people and saying the things he s saying is sort of far-fetched,  Kerr said on Sunday.  Can you picture us really having a civil discourse with him? It was an actual chance to talk to the president,  he said.  After all, he works for us. He s a public servant. He may not be aware of that, but he is a public servant, right? So maybe as NBA champions, as people in a prominent position, we could go in and say,  This is what s bothering us, what can we do about this?\\'  Then he laid in to Trump for attacking black football players for exercising their First Amendment rights while calling Nazis  very fine people: How about the irony of  Free speech is fine if you re a neo-Nazi chanting hate slogans, but free speech is not allowed to kneel in protest?  No matter how many times a football player says,  I honor our military, but I m protesting police brutality and racial inequality,  it doesn t matter. Nationalists are saying,  You re disrespecting our flag.  Well, you know what else is disrespectful to our flag? Racism. And one s way worse than the other. Trump is a constant embarrassment to our country.Watch Kerr rip him apart below:Featured image via video screen capture\"\\n']"
            ]
          },
          "metadata": {},
          "execution_count": 71
        }
      ]
    },
    {
      "cell_type": "code",
      "source": [
        "tfidf.transform(news)"
      ],
      "metadata": {
        "id": "TvE6-Lbkib_g",
        "colab": {
          "base_uri": "https://localhost:8080/"
        },
        "outputId": "94d62987-d31c-4012-a44c-5ce4947e7b3b"
      },
      "execution_count": 72,
      "outputs": [
        {
          "output_type": "execute_result",
          "data": {
            "text/plain": [
              "<3x76881 sparse matrix of type '<class 'numpy.float64'>'\n",
              "\twith 375 stored elements in Compressed Sparse Row format>"
            ]
          },
          "metadata": {},
          "execution_count": 72
        }
      ]
    },
    {
      "cell_type": "code",
      "source": [
        "dt.predict(tfidf.transform(news))"
      ],
      "metadata": {
        "id": "PBQw09pYjSk9",
        "colab": {
          "base_uri": "https://localhost:8080/"
        },
        "outputId": "ff9f0b16-c9f4-49a2-bc32-aea7cc17e31f"
      },
      "execution_count": 73,
      "outputs": [
        {
          "output_type": "execute_result",
          "data": {
            "text/plain": [
              "array(['Fake', 'Real', 'Fake'], dtype=object)"
            ]
          },
          "metadata": {},
          "execution_count": 73
        }
      ]
    }
  ]
}