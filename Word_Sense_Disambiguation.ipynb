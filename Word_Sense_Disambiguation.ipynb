{
  "nbformat": 4,
  "nbformat_minor": 0,
  "metadata": {
    "colab": {
      "provenance": []
    },
    "kernelspec": {
      "name": "python3",
      "display_name": "Python 3"
    },
    "language_info": {
      "name": "python"
    }
  },
  "cells": [
    {
      "cell_type": "code",
      "execution_count": 14,
      "metadata": {
        "id": "JNYd_3k0U6K3",
        "colab": {
          "base_uri": "https://localhost:8080/"
        },
        "outputId": "bbe488d1-77ad-47ca-995b-6d711e17ccd9"
      },
      "outputs": [
        {
          "output_type": "stream",
          "name": "stderr",
          "text": [
            "[nltk_data] Downloading package punkt to /root/nltk_data...\n",
            "[nltk_data]   Unzipping tokenizers/punkt.zip.\n"
          ]
        },
        {
          "output_type": "execute_result",
          "data": {
            "text/plain": [
              "True"
            ]
          },
          "metadata": {},
          "execution_count": 14
        }
      ],
      "source": [
        "import nltk\n",
        "nltk.download('punkt')"
      ]
    },
    {
      "cell_type": "code",
      "source": [
        "nltk.download('wordnet')"
      ],
      "metadata": {
        "id": "lCm0u5grVAeO",
        "colab": {
          "base_uri": "https://localhost:8080/"
        },
        "outputId": "970e3e28-ee0e-49da-cc37-0de1fe015fca"
      },
      "execution_count": 2,
      "outputs": [
        {
          "output_type": "stream",
          "name": "stderr",
          "text": [
            "[nltk_data] Downloading package wordnet to /root/nltk_data...\n"
          ]
        },
        {
          "output_type": "execute_result",
          "data": {
            "text/plain": [
              "True"
            ]
          },
          "metadata": {},
          "execution_count": 2
        }
      ]
    },
    {
      "cell_type": "code",
      "source": [
        "from nltk.corpus import wordnet"
      ],
      "metadata": {
        "id": "j2MPWmH1VC0L"
      },
      "execution_count": 3,
      "outputs": []
    },
    {
      "cell_type": "code",
      "source": [
        "x = wordnet.synsets('create')"
      ],
      "metadata": {
        "id": "NHnSs4ZbVE-P"
      },
      "execution_count": 4,
      "outputs": []
    },
    {
      "cell_type": "code",
      "source": [
        "x[0].name()"
      ],
      "metadata": {
        "id": "Afm_xRcyVG4w",
        "colab": {
          "base_uri": "https://localhost:8080/",
          "height": 35
        },
        "outputId": "a0241237-57ee-48a5-f8d5-ce59cd0f8ae9"
      },
      "execution_count": 5,
      "outputs": [
        {
          "output_type": "execute_result",
          "data": {
            "text/plain": [
              "'make.v.03'"
            ],
            "application/vnd.google.colaboratory.intrinsic+json": {
              "type": "string"
            }
          },
          "metadata": {},
          "execution_count": 5
        }
      ]
    },
    {
      "cell_type": "code",
      "source": [
        "x[0].definition()"
      ],
      "metadata": {
        "id": "s33ThGS5VJ3O",
        "colab": {
          "base_uri": "https://localhost:8080/",
          "height": 35
        },
        "outputId": "8e4ad9da-3f6d-4a52-c0d6-c7eff84280fe"
      },
      "execution_count": 6,
      "outputs": [
        {
          "output_type": "execute_result",
          "data": {
            "text/plain": [
              "'make or cause to be or to become'"
            ],
            "application/vnd.google.colaboratory.intrinsic+json": {
              "type": "string"
            }
          },
          "metadata": {},
          "execution_count": 6
        }
      ]
    },
    {
      "cell_type": "code",
      "source": [
        "x = wordnet.synsets('create')\n",
        "x[0].name()\n",
        "x[0].definition()"
      ],
      "metadata": {
        "id": "p80FAazVYXkW",
        "colab": {
          "base_uri": "https://localhost:8080/",
          "height": 35
        },
        "outputId": "db79370a-3275-4725-a1d3-51415ea868d9"
      },
      "execution_count": 7,
      "outputs": [
        {
          "output_type": "execute_result",
          "data": {
            "text/plain": [
              "'make or cause to be or to become'"
            ],
            "application/vnd.google.colaboratory.intrinsic+json": {
              "type": "string"
            }
          },
          "metadata": {},
          "execution_count": 7
        }
      ]
    },
    {
      "cell_type": "code",
      "source": [
        "for word in x:\n",
        "  print(word.name(),\":\", word.definition())"
      ],
      "metadata": {
        "id": "pp6Nlkc_YZqt",
        "colab": {
          "base_uri": "https://localhost:8080/"
        },
        "outputId": "0d0ffefc-4003-4707-9b5e-428214af76ec"
      },
      "execution_count": 8,
      "outputs": [
        {
          "output_type": "stream",
          "name": "stdout",
          "text": [
            "make.v.03 : make or cause to be or to become\n",
            "create.v.02 : bring into existence\n",
            "create.v.03 : pursue a creative activity; be engaged in a creative activity\n",
            "create.v.04 : invest with a new title, office, or rank\n",
            "create.v.05 : create by artistic means\n",
            "produce.v.02 : create or manufacture a man-made product\n"
          ]
        }
      ]
    },
    {
      "cell_type": "code",
      "source": [
        "x = wordnet.synsets('post')\n",
        "for word in x:\n",
        "  print(word.name(),\":\", word.definition())"
      ],
      "metadata": {
        "id": "1FgcA7TFYbxm",
        "colab": {
          "base_uri": "https://localhost:8080/"
        },
        "outputId": "4f7c5d9b-e928-4d48-f2d5-e52dd954a581"
      },
      "execution_count": 9,
      "outputs": [
        {
          "output_type": "stream",
          "name": "stdout",
          "text": [
            "post.n.01 : the position where someone (as a guard or sentry) stands or is assigned to stand\n",
            "military_post.n.01 : military installation at which a body of troops is stationed\n",
            "position.n.06 : a job in an organization\n",
            "post.n.04 : an upright consisting of a piece of timber or metal fixed firmly in an upright position\n",
            "post.n.05 : United States aviator who in 1933 made the first solo flight around the world (1899-1935)\n",
            "post.n.06 : United States female author who wrote a book and a syndicated newspaper column on etiquette (1872-1960)\n",
            "post.n.07 : United States manufacturer of breakfast cereals and Postum (1854-1914)\n",
            "mail.n.04 : any particular collection of letters or packages that is delivered\n",
            "post.n.09 : a pole or stake set up to mark something (as the start or end of a race track)\n",
            "mail.n.02 : the system whereby messages are transmitted via the post office\n",
            "post.n.11 : the delivery and collection of letters and packages\n",
            "post.v.01 : affix in a public place or for public notice\n",
            "post.v.02 : publicize with, or as if with, a poster\n",
            "post.v.03 : assign to a post; put into a post\n",
            "station.v.01 : assign to a station\n",
            "post.v.05 : display, as of records in sports games\n",
            "post.v.06 : enter on a public list\n",
            "post.v.07 : transfer (entries) from one account book to another\n",
            "post.v.08 : ride Western style and bob up and down in the saddle in rhythm with a horse's trotting gait\n",
            "stake.v.03 : mark with a stake\n",
            "post.v.10 : place so as to be noticed\n",
            "mail.v.02 : cause to be directed or transmitted to another place\n",
            "post.v.12 : mark or expose as infamous\n"
          ]
        }
      ]
    },
    {
      "cell_type": "code",
      "source": [
        "x = wordnet.synsets('bulb')\n",
        "for word in x:\n",
        "  print(word.name(),\":\", word)"
      ],
      "metadata": {
        "id": "NeBy2NvXYgiS",
        "colab": {
          "base_uri": "https://localhost:8080/"
        },
        "outputId": "7fa3e0e1-650a-4b15-cc7c-acd968ac72cf"
      },
      "execution_count": 10,
      "outputs": [
        {
          "output_type": "stream",
          "name": "stdout",
          "text": [
            "bulb.n.01 : Synset('bulb.n.01')\n",
            "light_bulb.n.01 : Synset('light_bulb.n.01')\n",
            "bulb.n.03 : Synset('bulb.n.03')\n",
            "bulb.n.04 : Synset('bulb.n.04')\n",
            "medulla_oblongata.n.01 : Synset('medulla_oblongata.n.01')\n",
            "bulb.n.06 : Synset('bulb.n.06')\n"
          ]
        }
      ]
    },
    {
      "cell_type": "code",
      "source": [
        "help(word)"
      ],
      "metadata": {
        "id": "PXOyCkvjYi_J",
        "colab": {
          "base_uri": "https://localhost:8080/"
        },
        "outputId": "7c94496f-8782-4fa3-ce1c-e0865ea8a834"
      },
      "execution_count": 11,
      "outputs": [
        {
          "output_type": "stream",
          "name": "stdout",
          "text": [
            "Help on Synset in module nltk.corpus.reader.wordnet object:\n",
            "\n",
            "class Synset(_WordNetObject)\n",
            " |  Synset(wordnet_corpus_reader)\n",
            " |  \n",
            " |  Create a Synset from a \"<lemma>.<pos>.<number>\" string where:\n",
            " |  <lemma> is the word's morphological stem\n",
            " |  <pos> is one of the module attributes ADJ, ADJ_SAT, ADV, NOUN or VERB\n",
            " |  <number> is the sense number, counting from 0.\n",
            " |  \n",
            " |  Synset attributes, accessible via methods with the same name:\n",
            " |  \n",
            " |  - name: The canonical name of this synset, formed using the first lemma\n",
            " |    of this synset. Note that this may be different from the name\n",
            " |    passed to the constructor if that string used a different lemma to\n",
            " |    identify the synset.\n",
            " |  - pos: The synset's part of speech, matching one of the module level\n",
            " |    attributes ADJ, ADJ_SAT, ADV, NOUN or VERB.\n",
            " |  - lemmas: A list of the Lemma objects for this synset.\n",
            " |  - definition: The definition for this synset.\n",
            " |  - examples: A list of example strings for this synset.\n",
            " |  - offset: The offset in the WordNet dict file of this synset.\n",
            " |  - lexname: The name of the lexicographer file containing this synset.\n",
            " |  \n",
            " |  Synset methods:\n",
            " |  \n",
            " |  Synsets have the following methods for retrieving related Synsets.\n",
            " |  They correspond to the names for the pointer symbols defined here:\n",
            " |  https://wordnet.princeton.edu/documentation/wninput5wn\n",
            " |  These methods all return lists of Synsets.\n",
            " |  \n",
            " |  - hypernyms, instance_hypernyms\n",
            " |  - hyponyms, instance_hyponyms\n",
            " |  - member_holonyms, substance_holonyms, part_holonyms\n",
            " |  - member_meronyms, substance_meronyms, part_meronyms\n",
            " |  - attributes\n",
            " |  - entailments\n",
            " |  - causes\n",
            " |  - also_sees\n",
            " |  - verb_groups\n",
            " |  - similar_tos\n",
            " |  \n",
            " |  Additionally, Synsets support the following methods specific to the\n",
            " |  hypernym relation:\n",
            " |  \n",
            " |  - root_hypernyms\n",
            " |  - common_hypernyms\n",
            " |  - lowest_common_hypernyms\n",
            " |  \n",
            " |  Note that Synsets do not support the following relations because\n",
            " |  these are defined by WordNet as lexical relations:\n",
            " |  \n",
            " |  - antonyms\n",
            " |  - derivationally_related_forms\n",
            " |  - pertainyms\n",
            " |  \n",
            " |  Method resolution order:\n",
            " |      Synset\n",
            " |      _WordNetObject\n",
            " |      builtins.object\n",
            " |  \n",
            " |  Methods defined here:\n",
            " |  \n",
            " |  __init__(self, wordnet_corpus_reader)\n",
            " |      Initialize self.  See help(type(self)) for accurate signature.\n",
            " |  \n",
            " |  __repr__(self)\n",
            " |      Return repr(self).\n",
            " |  \n",
            " |  acyclic_tree = acyclic_depth_first(tree, children=<built-in function iter>, depth=-1, cut_mark=None, traversed=None)\n",
            " |      Traverse the nodes of a tree in depth-first order,\n",
            " |      discarding eventual cycles within any branch,\n",
            " |      adding cut_mark (when specified) if cycles were truncated.\n",
            " |      \n",
            " |      The first argument should be the tree root;\n",
            " |      children should be a function taking as argument a tree node\n",
            " |      and returning an iterator of the node's children.\n",
            " |      \n",
            " |      Catches all cycles:\n",
            " |      \n",
            " |      >>> import nltk\n",
            " |      >>> from nltk.util import acyclic_depth_first as acyclic_tree\n",
            " |      >>> wn=nltk.corpus.wordnet\n",
            " |      >>> from pprint import pprint\n",
            " |      >>> pprint(acyclic_tree(wn.synset('dog.n.01'), lambda s:s.hypernyms(),cut_mark='...'))\n",
            " |      [Synset('dog.n.01'),\n",
            " |       [Synset('canine.n.02'),\n",
            " |        [Synset('carnivore.n.01'),\n",
            " |         [Synset('placental.n.01'),\n",
            " |          [Synset('mammal.n.01'),\n",
            " |           [Synset('vertebrate.n.01'),\n",
            " |            [Synset('chordate.n.01'),\n",
            " |             [Synset('animal.n.01'),\n",
            " |              [Synset('organism.n.01'),\n",
            " |               [Synset('living_thing.n.01'),\n",
            " |                [Synset('whole.n.02'),\n",
            " |                 [Synset('object.n.01'),\n",
            " |                  [Synset('physical_entity.n.01'),\n",
            " |                   [Synset('entity.n.01')]]]]]]]]]]]]],\n",
            " |       [Synset('domestic_animal.n.01'), \"Cycle(Synset('animal.n.01'),-3,...)\"]]\n",
            " |  \n",
            " |  closure(self, rel, depth=-1)\n",
            " |      Return the transitive closure of source under the rel\n",
            " |      relationship, breadth-first, discarding cycles:\n",
            " |      \n",
            " |      >>> from nltk.corpus import wordnet as wn\n",
            " |      >>> computer = wn.synset('computer.n.01')\n",
            " |      >>> topic = lambda s:s.topic_domains()\n",
            " |      >>> print(list(computer.closure(topic)))\n",
            " |      [Synset('computer_science.n.01')]\n",
            " |      \n",
            " |      UserWarning: Discarded redundant search for Synset('computer.n.01') at depth 2\n",
            " |      \n",
            " |      \n",
            " |      Include redundant paths (but only once), avoiding duplicate searches\n",
            " |      (from 'animal.n.01' to 'entity.n.01'):\n",
            " |      \n",
            " |      >>> dog = wn.synset('dog.n.01')\n",
            " |      >>> hyp = lambda s:s.hypernyms()\n",
            " |      >>> print(list(dog.closure(hyp)))\n",
            " |      [Synset('canine.n.02'), Synset('domestic_animal.n.01'), Synset('carnivore.n.01'), Synset('animal.n.01'), Synset('placental.n.01'), Synset('organism.n.01'), Synset('mammal.n.01'), Synset('living_thing.n.01'), Synset('vertebrate.n.01'), Synset('whole.n.02'), Synset('chordate.n.01'), Synset('object.n.01'), Synset('physical_entity.n.01'), Synset('entity.n.01')]\n",
            " |      \n",
            " |      UserWarning: Discarded redundant search for Synset('animal.n.01') at depth 7\n",
            " |  \n",
            " |  common_hypernyms(self, other)\n",
            " |      Find all synsets that are hypernyms of this synset and the\n",
            " |      other synset.\n",
            " |      \n",
            " |      :type other: Synset\n",
            " |      :param other: other input synset.\n",
            " |      :return: The synsets that are hypernyms of both synsets.\n",
            " |  \n",
            " |  definition(self, lang='eng')\n",
            " |      Return definition in specified language\n",
            " |  \n",
            " |  examples(self, lang='eng')\n",
            " |      Return examples in specified language\n",
            " |  \n",
            " |  frame_ids(self)\n",
            " |  \n",
            " |  hypernym_distances(self, distance=0, simulate_root=False)\n",
            " |      Get the path(s) from this synset to the root, counting the distance\n",
            " |      of each node from the initial node on the way. A set of\n",
            " |      (synset, distance) tuples is returned.\n",
            " |      \n",
            " |      :type distance: int\n",
            " |      :param distance: the distance (number of edges) from this hypernym to\n",
            " |          the original hypernym ``Synset`` on which this method was called.\n",
            " |      :return: A set of ``(Synset, int)`` tuples where each ``Synset`` is\n",
            " |         a hypernym of the first ``Synset``.\n",
            " |  \n",
            " |  hypernym_paths(self)\n",
            " |      Get the path(s) from this synset to the root, where each path is a\n",
            " |      list of the synset nodes traversed on the way to the root.\n",
            " |      \n",
            " |      :return: A list of lists, where each list gives the node sequence\n",
            " |         connecting the initial ``Synset`` node and a root node.\n",
            " |  \n",
            " |  jcn_similarity(self, other, ic, verbose=False)\n",
            " |      Jiang-Conrath Similarity:\n",
            " |      Return a score denoting how similar two word senses are, based on the\n",
            " |      Information Content (IC) of the Least Common Subsumer (most specific\n",
            " |      ancestor node) and that of the two input Synsets. The relationship is\n",
            " |      given by the equation 1 / (IC(s1) + IC(s2) - 2 * IC(lcs)).\n",
            " |      \n",
            " |      :type  other: Synset\n",
            " |      :param other: The ``Synset`` that this ``Synset`` is being compared to.\n",
            " |      :type  ic: dict\n",
            " |      :param ic: an information content object (as returned by\n",
            " |          ``nltk.corpus.wordnet_ic.ic()``).\n",
            " |      :return: A float score denoting the similarity of the two ``Synset``\n",
            " |          objects.\n",
            " |  \n",
            " |  lch_similarity(self, other, verbose=False, simulate_root=True)\n",
            " |      Leacock Chodorow Similarity:\n",
            " |      Return a score denoting how similar two word senses are, based on the\n",
            " |      shortest path that connects the senses (as above) and the maximum depth\n",
            " |      of the taxonomy in which the senses occur. The relationship is given as\n",
            " |      -log(p/2d) where p is the shortest path length and d is the taxonomy\n",
            " |      depth.\n",
            " |      \n",
            " |      :type  other: Synset\n",
            " |      :param other: The ``Synset`` that this ``Synset`` is being compared to.\n",
            " |      :type simulate_root: bool\n",
            " |      :param simulate_root: The various verb taxonomies do not\n",
            " |          share a single root which disallows this metric from working for\n",
            " |          synsets that are not connected. This flag (True by default)\n",
            " |          creates a fake root that connects all the taxonomies. Set it\n",
            " |          to false to disable this behavior. For the noun taxonomy,\n",
            " |          there is usually a default root except for WordNet version 1.6.\n",
            " |          If you are using wordnet 1.6, a fake root will be added for nouns\n",
            " |          as well.\n",
            " |      :return: A score denoting the similarity of the two ``Synset`` objects,\n",
            " |          normally greater than 0. None is returned if no connecting path\n",
            " |          could be found. If a ``Synset`` is compared with itself, the\n",
            " |          maximum score is returned, which varies depending on the taxonomy\n",
            " |          depth.\n",
            " |  \n",
            " |  lemma_names(self, lang='eng')\n",
            " |      Return all the lemma_names associated with the synset\n",
            " |  \n",
            " |  lemmas(self, lang='eng')\n",
            " |      Return all the lemma objects associated with the synset\n",
            " |  \n",
            " |  lexname(self)\n",
            " |  \n",
            " |  lin_similarity(self, other, ic, verbose=False)\n",
            " |      Lin Similarity:\n",
            " |      Return a score denoting how similar two word senses are, based on the\n",
            " |      Information Content (IC) of the Least Common Subsumer (most specific\n",
            " |      ancestor node) and that of the two input Synsets. The relationship is\n",
            " |      given by the equation 2 * IC(lcs) / (IC(s1) + IC(s2)).\n",
            " |      \n",
            " |      :type other: Synset\n",
            " |      :param other: The ``Synset`` that this ``Synset`` is being compared to.\n",
            " |      :type ic: dict\n",
            " |      :param ic: an information content object (as returned by\n",
            " |          ``nltk.corpus.wordnet_ic.ic()``).\n",
            " |      :return: A float score denoting the similarity of the two ``Synset``\n",
            " |          objects, in the range 0 to 1.\n",
            " |  \n",
            " |  lowest_common_hypernyms(self, other, simulate_root=False, use_min_depth=False)\n",
            " |      Get a list of lowest synset(s) that both synsets have as a hypernym.\n",
            " |      When `use_min_depth == False` this means that the synset which appears\n",
            " |      as a hypernym of both `self` and `other` with the lowest maximum depth\n",
            " |      is returned or if there are multiple such synsets at the same depth\n",
            " |      they are all returned\n",
            " |      \n",
            " |      However, if `use_min_depth == True` then the synset(s) which has/have\n",
            " |      the lowest minimum depth and appear(s) in both paths is/are returned.\n",
            " |      \n",
            " |      By setting the use_min_depth flag to True, the behavior of NLTK2 can be\n",
            " |      preserved. This was changed in NLTK3 to give more accurate results in a\n",
            " |      small set of cases, generally with synsets concerning people. (eg:\n",
            " |      'chef.n.01', 'fireman.n.01', etc.)\n",
            " |      \n",
            " |      This method is an implementation of Ted Pedersen's \"Lowest Common\n",
            " |      Subsumer\" method from the Perl Wordnet module. It can return either\n",
            " |      \"self\" or \"other\" if they are a hypernym of the other.\n",
            " |      \n",
            " |      :type other: Synset\n",
            " |      :param other: other input synset\n",
            " |      :type simulate_root: bool\n",
            " |      :param simulate_root: The various verb taxonomies do not\n",
            " |          share a single root which disallows this metric from working for\n",
            " |          synsets that are not connected. This flag (False by default)\n",
            " |          creates a fake root that connects all the taxonomies. Set it\n",
            " |          to True to enable this behavior. For the noun taxonomy,\n",
            " |          there is usually a default root except for WordNet version 1.6.\n",
            " |          If you are using wordnet 1.6, a fake root will need to be added\n",
            " |          for nouns as well.\n",
            " |      :type use_min_depth: bool\n",
            " |      :param use_min_depth: This setting mimics older (v2) behavior of NLTK\n",
            " |          wordnet If True, will use the min_depth function to calculate the\n",
            " |          lowest common hypernyms. This is known to give strange results for\n",
            " |          some synset pairs (eg: 'chef.n.01', 'fireman.n.01') but is retained\n",
            " |          for backwards compatibility\n",
            " |      :return: The synsets that are the lowest common hypernyms of both\n",
            " |          synsets\n",
            " |  \n",
            " |  max_depth(self)\n",
            " |      :return: The length of the longest hypernym path from this\n",
            " |          synset to the root.\n",
            " |  \n",
            " |  min_depth(self)\n",
            " |      :return: The length of the shortest hypernym path from this\n",
            " |          synset to the root.\n",
            " |  \n",
            " |  mst = unweighted_minimum_spanning_tree(tree, children=<built-in function iter>)\n",
            " |      Output a Minimum Spanning Tree (MST) of an unweighted graph,\n",
            " |      by traversing the nodes of a tree in breadth-first order,\n",
            " |      discarding eventual cycles.\n",
            " |      \n",
            " |      The first argument should be the tree root;\n",
            " |      children should be a function taking as argument a tree node\n",
            " |      and returning an iterator of the node's children.\n",
            " |      \n",
            " |      >>> import nltk\n",
            " |      >>> from nltk.util import unweighted_minimum_spanning_tree as mst\n",
            " |      >>> wn=nltk.corpus.wordnet\n",
            " |      >>> from pprint import pprint\n",
            " |      >>> pprint(mst(wn.synset('bound.a.01'), lambda s:s.also_sees()))\n",
            " |      [Synset('bound.a.01'),\n",
            " |       [Synset('unfree.a.02'),\n",
            " |        [Synset('confined.a.02')],\n",
            " |        [Synset('dependent.a.01')],\n",
            " |        [Synset('restricted.a.01'), [Synset('classified.a.02')]]]]\n",
            " |  \n",
            " |  name(self)\n",
            " |  \n",
            " |  offset(self)\n",
            " |  \n",
            " |  path_similarity(self, other, verbose=False, simulate_root=True)\n",
            " |      Path Distance Similarity:\n",
            " |      Return a score denoting how similar two word senses are, based on the\n",
            " |      shortest path that connects the senses in the is-a (hypernym/hypnoym)\n",
            " |      taxonomy. The score is in the range 0 to 1, except in those cases where\n",
            " |      a path cannot be found (will only be true for verbs as there are many\n",
            " |      distinct verb taxonomies), in which case None is returned. A score of\n",
            " |      1 represents identity i.e. comparing a sense with itself will return 1.\n",
            " |      \n",
            " |      :type other: Synset\n",
            " |      :param other: The ``Synset`` that this ``Synset`` is being compared to.\n",
            " |      :type simulate_root: bool\n",
            " |      :param simulate_root: The various verb taxonomies do not\n",
            " |          share a single root which disallows this metric from working for\n",
            " |          synsets that are not connected. This flag (True by default)\n",
            " |          creates a fake root that connects all the taxonomies. Set it\n",
            " |          to false to disable this behavior. For the noun taxonomy,\n",
            " |          there is usually a default root except for WordNet version 1.6.\n",
            " |          If you are using wordnet 1.6, a fake root will be added for nouns\n",
            " |          as well.\n",
            " |      :return: A score denoting the similarity of the two ``Synset`` objects,\n",
            " |          normally between 0 and 1. None is returned if no connecting path\n",
            " |          could be found. 1 is returned if a ``Synset`` is compared with\n",
            " |          itself.\n",
            " |  \n",
            " |  pos(self)\n",
            " |  \n",
            " |  res_similarity(self, other, ic, verbose=False)\n",
            " |      Resnik Similarity:\n",
            " |      Return a score denoting how similar two word senses are, based on the\n",
            " |      Information Content (IC) of the Least Common Subsumer (most specific\n",
            " |      ancestor node).\n",
            " |      \n",
            " |      :type  other: Synset\n",
            " |      :param other: The ``Synset`` that this ``Synset`` is being compared to.\n",
            " |      :type ic: dict\n",
            " |      :param ic: an information content object (as returned by\n",
            " |          ``nltk.corpus.wordnet_ic.ic()``).\n",
            " |      :return: A float score denoting the similarity of the two ``Synset``\n",
            " |          objects. Synsets whose LCS is the root node of the taxonomy will\n",
            " |          have a score of 0 (e.g. N['dog'][0] and N['table'][0]).\n",
            " |  \n",
            " |  root_hypernyms(self)\n",
            " |      Get the topmost hypernyms of this synset in WordNet.\n",
            " |  \n",
            " |  shortest_path_distance(self, other, simulate_root=False)\n",
            " |      Returns the distance of the shortest path linking the two synsets (if\n",
            " |      one exists). For each synset, all the ancestor nodes and their\n",
            " |      distances are recorded and compared. The ancestor node common to both\n",
            " |      synsets that can be reached with the minimum number of traversals is\n",
            " |      used. If no ancestor nodes are common, None is returned. If a node is\n",
            " |      compared with itself 0 is returned.\n",
            " |      \n",
            " |      :type other: Synset\n",
            " |      :param other: The Synset to which the shortest path will be found.\n",
            " |      :return: The number of edges in the shortest path connecting the two\n",
            " |          nodes, or None if no path exists.\n",
            " |  \n",
            " |  tree(self, rel, depth=-1, cut_mark=None)\n",
            " |      Return the full relation tree, including self,\n",
            " |      discarding cycles:\n",
            " |      \n",
            " |      >>> from nltk.corpus import wordnet as wn\n",
            " |      >>> from pprint import pprint\n",
            " |      >>> computer = wn.synset('computer.n.01')\n",
            " |      >>> topic = lambda s:s.topic_domains()\n",
            " |      >>> pprint(computer.tree(topic))\n",
            " |      [Synset('computer.n.01'), [Synset('computer_science.n.01')]]\n",
            " |      \n",
            " |      UserWarning: Discarded redundant search for Synset('computer.n.01') at depth -3\n",
            " |      \n",
            " |      \n",
            " |      But keep duplicate branches (from 'animal.n.01' to 'entity.n.01'):\n",
            " |      \n",
            " |      >>> dog = wn.synset('dog.n.01')\n",
            " |      >>> hyp = lambda s:s.hypernyms()\n",
            " |      >>> pprint(dog.tree(hyp))\n",
            " |      [Synset('dog.n.01'),\n",
            " |       [Synset('canine.n.02'),\n",
            " |        [Synset('carnivore.n.01'),\n",
            " |         [Synset('placental.n.01'),\n",
            " |          [Synset('mammal.n.01'),\n",
            " |           [Synset('vertebrate.n.01'),\n",
            " |            [Synset('chordate.n.01'),\n",
            " |             [Synset('animal.n.01'),\n",
            " |              [Synset('organism.n.01'),\n",
            " |               [Synset('living_thing.n.01'),\n",
            " |                [Synset('whole.n.02'),\n",
            " |                 [Synset('object.n.01'),\n",
            " |                  [Synset('physical_entity.n.01'),\n",
            " |                   [Synset('entity.n.01')]]]]]]]]]]]]],\n",
            " |       [Synset('domestic_animal.n.01'),\n",
            " |        [Synset('animal.n.01'),\n",
            " |         [Synset('organism.n.01'),\n",
            " |          [Synset('living_thing.n.01'),\n",
            " |           [Synset('whole.n.02'),\n",
            " |            [Synset('object.n.01'),\n",
            " |             [Synset('physical_entity.n.01'), [Synset('entity.n.01')]]]]]]]]]\n",
            " |  \n",
            " |  wup_similarity(self, other, verbose=False, simulate_root=True)\n",
            " |      Wu-Palmer Similarity:\n",
            " |      Return a score denoting how similar two word senses are, based on the\n",
            " |      depth of the two senses in the taxonomy and that of their Least Common\n",
            " |      Subsumer (most specific ancestor node). Previously, the scores computed\n",
            " |      by this implementation did _not_ always agree with those given by\n",
            " |      Pedersen's Perl implementation of WordNet Similarity. However, with\n",
            " |      the addition of the simulate_root flag (see below), the score for\n",
            " |      verbs now almost always agree but not always for nouns.\n",
            " |      \n",
            " |      The LCS does not necessarily feature in the shortest path connecting\n",
            " |      the two senses, as it is by definition the common ancestor deepest in\n",
            " |      the taxonomy, not closest to the two senses. Typically, however, it\n",
            " |      will so feature. Where multiple candidates for the LCS exist, that\n",
            " |      whose shortest path to the root node is the longest will be selected.\n",
            " |      Where the LCS has multiple paths to the root, the longer path is used\n",
            " |      for the purposes of the calculation.\n",
            " |      \n",
            " |      :type  other: Synset\n",
            " |      :param other: The ``Synset`` that this ``Synset`` is being compared to.\n",
            " |      :type simulate_root: bool\n",
            " |      :param simulate_root: The various verb taxonomies do not\n",
            " |          share a single root which disallows this metric from working for\n",
            " |          synsets that are not connected. This flag (True by default)\n",
            " |          creates a fake root that connects all the taxonomies. Set it\n",
            " |          to false to disable this behavior. For the noun taxonomy,\n",
            " |          there is usually a default root except for WordNet version 1.6.\n",
            " |          If you are using wordnet 1.6, a fake root will be added for nouns\n",
            " |          as well.\n",
            " |      :return: A float score denoting the similarity of the two ``Synset``\n",
            " |          objects, normally greater than zero. If no connecting path between\n",
            " |          the two senses can be found, None is returned.\n",
            " |  \n",
            " |  ----------------------------------------------------------------------\n",
            " |  Methods inherited from _WordNetObject:\n",
            " |  \n",
            " |  __eq__(self, other)\n",
            " |      Return self==value.\n",
            " |  \n",
            " |  __ge__(self, other, NotImplemented=NotImplemented)\n",
            " |      Return a >= b.  Computed by @total_ordering from (not a < b).\n",
            " |  \n",
            " |  __gt__(self, other, NotImplemented=NotImplemented)\n",
            " |      Return a > b.  Computed by @total_ordering from (not a < b) and (a != b).\n",
            " |  \n",
            " |  __hash__(self)\n",
            " |      Return hash(self).\n",
            " |  \n",
            " |  __le__(self, other, NotImplemented=NotImplemented)\n",
            " |      Return a <= b.  Computed by @total_ordering from (a < b) or (a == b).\n",
            " |  \n",
            " |  __lt__(self, other)\n",
            " |      Return self<value.\n",
            " |  \n",
            " |  __ne__(self, other)\n",
            " |      Return self!=value.\n",
            " |  \n",
            " |  also_sees(self)\n",
            " |  \n",
            " |  attributes(self)\n",
            " |  \n",
            " |  causes(self)\n",
            " |  \n",
            " |  entailments(self)\n",
            " |  \n",
            " |  hypernyms(self)\n",
            " |  \n",
            " |  hyponyms(self)\n",
            " |  \n",
            " |  in_region_domains(self)\n",
            " |  \n",
            " |  in_topic_domains(self)\n",
            " |  \n",
            " |  in_usage_domains(self)\n",
            " |  \n",
            " |  instance_hypernyms(self)\n",
            " |  \n",
            " |  instance_hyponyms(self)\n",
            " |  \n",
            " |  member_holonyms(self)\n",
            " |  \n",
            " |  member_meronyms(self)\n",
            " |  \n",
            " |  part_holonyms(self)\n",
            " |  \n",
            " |  part_meronyms(self)\n",
            " |  \n",
            " |  region_domains(self)\n",
            " |  \n",
            " |  similar_tos(self)\n",
            " |  \n",
            " |  substance_holonyms(self)\n",
            " |  \n",
            " |  substance_meronyms(self)\n",
            " |  \n",
            " |  topic_domains(self)\n",
            " |  \n",
            " |  usage_domains(self)\n",
            " |  \n",
            " |  verb_groups(self)\n",
            " |  \n",
            " |  ----------------------------------------------------------------------\n",
            " |  Data descriptors inherited from _WordNetObject:\n",
            " |  \n",
            " |  __dict__\n",
            " |      dictionary for instance variables (if defined)\n",
            " |  \n",
            " |  __weakref__\n",
            " |      list of weak references to the object (if defined)\n",
            "\n"
          ]
        }
      ]
    },
    {
      "cell_type": "code",
      "source": [
        "from nltk.wsd import lesk\n",
        "from nltk.tokenize import word_tokenize"
      ],
      "metadata": {
        "id": "tVkv8JrvYlFr"
      },
      "execution_count": 12,
      "outputs": []
    },
    {
      "cell_type": "code",
      "source": [
        "a1 = lesk(word_tokenize('This device is used to jam the signal'), 'jam')"
      ],
      "metadata": {
        "id": "6jY9sHHUYohu"
      },
      "execution_count": 15,
      "outputs": []
    },
    {
      "cell_type": "code",
      "source": [
        "a1.definition()"
      ],
      "metadata": {
        "id": "8AwLCts0Yrsm",
        "colab": {
          "base_uri": "https://localhost:8080/",
          "height": 53
        },
        "outputId": "8b68a335-1f3b-469c-95d2-dff16f2e3dc6"
      },
      "execution_count": 16,
      "outputs": [
        {
          "output_type": "execute_result",
          "data": {
            "text/plain": [
              "'deliberate radiation or reflection of electromagnetic energy for the purpose of disrupting enemy use of electronic devices or systems'"
            ],
            "application/vnd.google.colaboratory.intrinsic+json": {
              "type": "string"
            }
          },
          "metadata": {},
          "execution_count": 16
        }
      ]
    },
    {
      "cell_type": "code",
      "source": [
        "a1 = lesk(word_tokenize('I am stuck in a traffic jam'), \"jam\")"
      ],
      "metadata": {
        "id": "fG5_XcLkYtrq"
      },
      "execution_count": 17,
      "outputs": []
    },
    {
      "cell_type": "code",
      "source": [
        "a1.definition()"
      ],
      "metadata": {
        "id": "IeZzx-_oYvXf",
        "colab": {
          "base_uri": "https://localhost:8080/",
          "height": 35
        },
        "outputId": "d6838a67-8c27-42c8-f7d4-24f1ef8a529b"
      },
      "execution_count": 18,
      "outputs": [
        {
          "output_type": "execute_result",
          "data": {
            "text/plain": [
              "'get stuck and immobilized'"
            ],
            "application/vnd.google.colaboratory.intrinsic+json": {
              "type": "string"
            }
          },
          "metadata": {},
          "execution_count": 18
        }
      ]
    },
    {
      "cell_type": "code",
      "source": [
        "c1 = lesk(word_tokenize('It was a good catch by player.'), 'catch')\n",
        "c1.definition()"
      ],
      "metadata": {
        "id": "5sMF1Jr4YxUl",
        "colab": {
          "base_uri": "https://localhost:8080/",
          "height": 53
        },
        "outputId": "76937b7e-75e4-4f78-fbbb-6b279555d8f6"
      },
      "execution_count": 19,
      "outputs": [
        {
          "output_type": "execute_result",
          "data": {
            "text/plain": [
              "'discover or come upon accidentally, suddenly, or unexpectedly; catch somebody doing something or in a certain state'"
            ],
            "application/vnd.google.colaboratory.intrinsic+json": {
              "type": "string"
            }
          },
          "metadata": {},
          "execution_count": 19
        }
      ]
    },
    {
      "cell_type": "code",
      "source": [
        "c2 = lesk(word_tokenize('You can catch that opportunity.'), 'catch')\n",
        "c2.definition()"
      ],
      "metadata": {
        "id": "O_HrmV4kYzb5",
        "colab": {
          "base_uri": "https://localhost:8080/",
          "height": 35
        },
        "outputId": "e4aafafa-8e88-46ff-f251-04c08781e488"
      },
      "execution_count": 20,
      "outputs": [
        {
          "output_type": "execute_result",
          "data": {
            "text/plain": [
              "'catch up with and possibly overtake'"
            ],
            "application/vnd.google.colaboratory.intrinsic+json": {
              "type": "string"
            }
          },
          "metadata": {},
          "execution_count": 20
        }
      ]
    }
  ]
}